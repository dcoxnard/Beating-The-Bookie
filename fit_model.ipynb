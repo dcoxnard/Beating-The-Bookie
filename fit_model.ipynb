{
 "cells": [
  {
   "cell_type": "code",
   "execution_count": 37,
   "metadata": {
    "collapsed": true
   },
   "outputs": [],
   "source": [
    "import pickle\n",
    "import pandas as pd\n",
    "import numpy as np\n",
    "from sklearn.preprocessing import scale\n",
    "from sklearn.linear_model import LogisticRegression\n",
    "from sklearn.svm import SVC\n",
    "from sklearn.ensemble import RandomForestClassifier\n",
    "from sklearn.naive_bayes import GaussianNB\n",
    "from sklearn.neighbors import KNeighborsClassifier\n",
    "from sklearn.tree import DecisionTreeClassifier\n",
    "from sklearn.model_selection import cross_val_score\n",
    "from sklearn.model_selection import train_test_split\n",
    "from sklearn.metrics import accuracy_score\n",
    "from sklearn.metrics import classification_report\n",
    "import matplotlib.pyplot as plt\n",
    "from sklearn.metrics import accuracy_score\n",
    "%matplotlib inline"
   ]
  },
  {
   "cell_type": "code",
   "execution_count": 38,
   "metadata": {},
   "outputs": [],
   "source": [
    "picklefile = 'oct_20.pkl'\n",
    "df = pd.read_pickle(picklefile)"
   ]
  },
  {
   "cell_type": "code",
   "execution_count": 39,
   "metadata": {},
   "outputs": [
    {
     "name": "stdout",
     "output_type": "stream",
     "text": [
      "<class 'pandas.core.frame.DataFrame'>\n",
      "RangeIndex: 88977 entries, 0 to 88976\n",
      "Data columns (total 94 columns):\n",
      "surface                 88767 non-null object\n",
      "tourney_level           88977 non-null object\n",
      "tourney_date            88977 non-null datetime64[ns]\n",
      "game_index              88977 non-null int64\n",
      "player1_name            88977 non-null object\n",
      "player1_seed            26263 non-null float64\n",
      "player1_ht              76490 non-null float64\n",
      "player1_age             79023 non-null float64\n",
      "player1_rank            79974 non-null float64\n",
      "player1_rank_points     80235 non-null float64\n",
      "player1_ace             80060 non-null float64\n",
      "player1_df              80055 non-null float64\n",
      "player1_svpt            79988 non-null float64\n",
      "player1_1stIn           79969 non-null float64\n",
      "player1_1stWon          79887 non-null float64\n",
      "player1_2ndWon          81253 non-null float64\n",
      "player1_SvGms           80303 non-null float64\n",
      "player1_bpSaved         66873 non-null float64\n",
      "player1_bpFaced         35127 non-null float64\n",
      "player1_ace_expw        86336 non-null float64\n",
      "player1_ace_mavg        84847 non-null float64\n",
      "player1_df_expw         86374 non-null float64\n",
      "player1_df_mavg         84760 non-null float64\n",
      "player1_svpt_expw       86278 non-null float64\n",
      "player1_svpt_mavg       84756 non-null float64\n",
      "player1_1stIn_expw      86198 non-null float64\n",
      "player1_1stIn_mavg      84732 non-null float64\n",
      "player1_1stWon_expw     86235 non-null float64\n",
      "player1_1stWon_mavg     84681 non-null float64\n",
      "player1_2ndWon_expw     86457 non-null float64\n",
      "player1_2ndWon_mavg     84999 non-null float64\n",
      "player1_SvGms_expw      87079 non-null float64\n",
      "player1_SvGms_mavg      85777 non-null float64\n",
      "player1_bpSaved_expw    87566 non-null float64\n",
      "player1_bpSaved_mavg    86079 non-null float64\n",
      "player1_bpFaced_expw    87744 non-null float64\n",
      "player1_bpFaced_mavg    81850 non-null float64\n",
      "player2_name            88977 non-null object\n",
      "player2_seed            26468 non-null float64\n",
      "player2_ht              76470 non-null float64\n",
      "player2_age             79019 non-null float64\n",
      "player2_rank            79965 non-null float64\n",
      "player2_rank_points     80201 non-null float64\n",
      "player2_ace             80074 non-null float64\n",
      "player2_df              80095 non-null float64\n",
      "player2_svpt            79983 non-null float64\n",
      "player2_1stIn           80009 non-null float64\n",
      "player2_1stWon          79984 non-null float64\n",
      "player2_2ndWon          81262 non-null float64\n",
      "player2_SvGms           80376 non-null float64\n",
      "player2_bpSaved         66720 non-null float64\n",
      "player2_bpFaced         35135 non-null float64\n",
      "player2_ace_expw        86301 non-null float64\n",
      "player2_ace_mavg        84718 non-null float64\n",
      "player2_df_expw         86376 non-null float64\n",
      "player2_df_mavg         84668 non-null float64\n",
      "player2_svpt_expw       86291 non-null float64\n",
      "player2_svpt_mavg       84676 non-null float64\n",
      "player2_1stIn_expw      86253 non-null float64\n",
      "player2_1stIn_mavg      84663 non-null float64\n",
      "player2_1stWon_expw     86291 non-null float64\n",
      "player2_1stWon_mavg     84673 non-null float64\n",
      "player2_2ndWon_expw     86482 non-null float64\n",
      "player2_2ndWon_mavg     84939 non-null float64\n",
      "player2_SvGms_expw      87135 non-null float64\n",
      "player2_SvGms_mavg      85697 non-null float64\n",
      "player2_bpSaved_expw    87590 non-null float64\n",
      "player2_bpSaved_mavg    86050 non-null float64\n",
      "player2_bpFaced_expw    87765 non-null float64\n",
      "player2_bpFaced_mavg    81881 non-null float64\n",
      "label                   88977 non-null int64\n",
      "delta_seed              7033 non-null float64\n",
      "delta_ht                72918 non-null float64\n",
      "delta_age               77442 non-null float64\n",
      "delta_rank              79068 non-null float64\n",
      "delta_rank_points       79447 non-null float64\n",
      "delta_ace_mavg          82658 non-null float64\n",
      "delta_df_mavg           82567 non-null float64\n",
      "delta_svpt_mavg         82585 non-null float64\n",
      "delta_1stIn_mavg        82572 non-null float64\n",
      "delta_1stWon_mavg       82529 non-null float64\n",
      "delta_2ndWon_mavg       82856 non-null float64\n",
      "delta_SvGms_mavg        83787 non-null float64\n",
      "delta_bpSaved_mavg      83985 non-null float64\n",
      "delta_bpFaced_mavg      75769 non-null float64\n",
      "delta_ace_expw          85101 non-null float64\n",
      "delta_df_expw           85133 non-null float64\n",
      "delta_svpt_expw         85080 non-null float64\n",
      "delta_1stIn_expw        85020 non-null float64\n",
      "delta_1stWon_expw       85053 non-null float64\n",
      "delta_2ndWon_expw       85285 non-null float64\n",
      "delta_SvGms_expw        86119 non-null float64\n",
      "delta_bpSaved_expw      86632 non-null float64\n",
      "delta_bpFaced_expw      86625 non-null float64\n",
      "dtypes: datetime64[ns](1), float64(87), int64(2), object(4)\n",
      "memory usage: 63.8+ MB\n"
     ]
    }
   ],
   "source": [
    "df.info()"
   ]
  },
  {
   "cell_type": "code",
   "execution_count": 40,
   "metadata": {
    "collapsed": true
   },
   "outputs": [],
   "source": [
    "# delta_seed only has ~7000 nonnull observations.\n",
    "# Drop seed columns so that dropping null values in\n",
    "# the DF doesn't significantly cut the DF down\n",
    "# in size.\n",
    "\n",
    "df = df.drop(['delta_seed', 'player1_seed', 'player2_seed'], axis=1)"
   ]
  },
  {
   "cell_type": "code",
   "execution_count": 59,
   "metadata": {
    "collapsed": true
   },
   "outputs": [],
   "source": [
    "# delta_mavg_df = df[['label', 'delta_ace_mavg', 'delta_df_mavg',\n",
    "#        'delta_svpt_mavg', 'delta_1stIn_mavg', 'delta_1stWon_mavg',\n",
    "#        'delta_2ndWon_mavg', 'delta_SvGms_mavg', 'delta_bpSaved_mavg',\n",
    "#        'delta_bpFaced_mavg']].dropna()\n",
    "\n",
    "# delta_expw_df = df[['label', 'delta_ace_expw', 'delta_df_expw',\n",
    "#        'delta_svpt_expw', 'delta_1stIn_expw', 'delta_1stWon_expw',\n",
    "#        'delta_2ndWon_expw', 'delta_SvGms_expw', 'delta_bpSaved_expw',\n",
    "#        'delta_bpFaced_expw']].dropna()\n",
    "\n",
    "\n",
    "delta_mavg_df = df[['label', \n",
    "        'delta_ht', 'delta_age', 'delta_rank', 'delta_rank_points',\n",
    "                    'delta_ace_mavg', 'delta_df_mavg',\n",
    "       'delta_svpt_mavg', 'delta_1stIn_mavg', 'delta_1stWon_mavg',\n",
    "       'delta_2ndWon_mavg', 'delta_SvGms_mavg', 'delta_bpSaved_mavg',\n",
    "       'delta_bpFaced_mavg']].dropna()\n",
    "\n",
    "delta_expw_df = df[['label',\n",
    "       'delta_ht', 'delta_age', 'delta_rank', 'delta_rank_points',             \n",
    "                    'delta_ace_expw', 'delta_df_expw',\n",
    "       'delta_svpt_expw', 'delta_1stIn_expw', 'delta_1stWon_expw',\n",
    "       'delta_2ndWon_expw', 'delta_SvGms_expw', 'delta_bpSaved_expw',\n",
    "       'delta_bpFaced_expw']].dropna()"
   ]
  },
  {
   "cell_type": "code",
   "execution_count": 60,
   "metadata": {},
   "outputs": [],
   "source": [
    "# For expw model.\n",
    "Xcols = [\n",
    "     'delta_ht', 'delta_age', 'delta_rank', 'delta_rank_points',\n",
    "        'delta_ace_expw', 'delta_df_expw',\n",
    "       'delta_svpt_expw', 'delta_1stIn_expw', 'delta_1stWon_expw',\n",
    "       'delta_2ndWon_expw', 'delta_SvGms_expw', 'delta_bpSaved_expw',\n",
    "       'delta_bpFaced_expw']\n",
    "\n",
    "# For mavg model.\n",
    "# Xcols = ['delta_ht', 'delta_age', 'delta_rank', 'delta_rank_points',\n",
    "#                     'delta_ace_mavg', 'delta_df_mavg',\n",
    "#        'delta_svpt_mavg', 'delta_1stIn_mavg', 'delta_1stWon_mavg',\n",
    "#        'delta_2ndWon_mavg', 'delta_SvGms_mavg', 'delta_bpSaved_mavg',\n",
    "#        'delta_bpFaced_mavg']\n",
    "\n",
    "ycols = 'label'\n",
    "\n",
    "X = delta_expw_df[Xcols]\n",
    "y = delta_expw_df[ycols]"
   ]
  },
  {
   "cell_type": "code",
   "execution_count": 61,
   "metadata": {
    "collapsed": true
   },
   "outputs": [],
   "source": [
    "X_train, X_test, y_train, y_test = train_test_split(X, y, test_size=0.3)"
   ]
  },
  {
   "cell_type": "code",
   "execution_count": 62,
   "metadata": {
    "collapsed": true
   },
   "outputs": [],
   "source": [
    "X_train_scaled = scale(X_train)\n",
    "X_test_scaled = scale(X_test)"
   ]
  },
  {
   "cell_type": "code",
   "execution_count": 63,
   "metadata": {},
   "outputs": [
    {
     "name": "stdout",
     "output_type": "stream",
     "text": [
      "Training Accuracy: 0.631\n",
      "Test Accuracy: 0.634\n"
     ]
    }
   ],
   "source": [
    "# Logistic Regression\n",
    "\n",
    "logreg = LogisticRegression()\n",
    "logreg.fit(X_train, y_train)\n",
    "y_pred = logreg.predict(X_test)\n",
    "print(\"Training Accuracy: {0:.3f}\".format(logreg.score(X_train, y_train)))\n",
    "print(\"Test Accuracy: {0:.3f}\".format(accuracy_score(y_test, y_pred)))"
   ]
  },
  {
   "cell_type": "code",
   "execution_count": 69,
   "metadata": {},
   "outputs": [
    {
     "name": "stdout",
     "output_type": "stream",
     "text": [
      "Training Accuracy: 0.643\n",
      "Test Accuracy: 0.638\n"
     ]
    }
   ],
   "source": [
    "# SVM\n",
    "\n",
    "svc = SVC()\n",
    "svc.fit(X_train_scaled, y_train)\n",
    "y_pred = svc.predict(X_test_scaled)\n",
    "print(\"Training Accuracy: {0:.3f}\".format(svc.score(X_train_scaled, y_train)))\n",
    "print(\"Test Accuracy: {0:.3f}\".format(accuracy_score(y_test, y_pred)))"
   ]
  },
  {
   "cell_type": "code",
   "execution_count": 64,
   "metadata": {},
   "outputs": [
    {
     "name": "stdout",
     "output_type": "stream",
     "text": [
      "Training Accuracy: 0.985\n",
      "Test Accuracy: 0.602\n"
     ]
    }
   ],
   "source": [
    "# Random Forest\n",
    "\n",
    "rf = RandomForestClassifier()\n",
    "rf.fit(X_train, y_train)\n",
    "y_pred = rf.predict(X_test)\n",
    "print(\"Training Accuracy: {0:.3f}\".format(rf.score(X_train, y_train)))\n",
    "print(\"Test Accuracy: {0:.3f}\".format(accuracy_score(y_test, y_pred)))"
   ]
  },
  {
   "cell_type": "code",
   "execution_count": 65,
   "metadata": {},
   "outputs": [
    {
     "name": "stdout",
     "output_type": "stream",
     "text": [
      "Training Accuracy: 0.630\n",
      "Test Accuracy: 0.630\n"
     ]
    }
   ],
   "source": [
    "# Naive Bayes\n",
    "\n",
    "nb = GaussianNB()\n",
    "nb.fit(X_train, y_train)\n",
    "y_pred = nb.predict(X_test)\n",
    "print(\"Training Accuracy: {0:.3f}\".format(nb.score(X_train, y_train)))\n",
    "print(\"Test Accuracy: {0:.3f}\".format(accuracy_score(y_test, y_pred)))"
   ]
  },
  {
   "cell_type": "code",
   "execution_count": 68,
   "metadata": {},
   "outputs": [
    {
     "name": "stdout",
     "output_type": "stream",
     "text": [
      "Training Accuracy: 0.660\n",
      "Test Accuracy: 0.616\n"
     ]
    }
   ],
   "source": [
    "# KNN\n",
    "\n",
    "knn = KNeighborsClassifier(n_neighbors=21)\n",
    "knn.fit(X_train_scaled, y_train)\n",
    "y_pred = knn.predict(X_test_scaled)\n",
    "print(\"Training Accuracy: {0:.3f}\".format(knn.score(X_train_scaled, y_train)))\n",
    "print(\"Test Accuracy: {0:.3f}\".format(accuracy_score(y_test, y_pred)))"
   ]
  },
  {
   "cell_type": "code",
   "execution_count": 66,
   "metadata": {},
   "outputs": [
    {
     "name": "stdout",
     "output_type": "stream",
     "text": [
      "Training Accuracy: 1.000\n",
      "Test Accuracy: 0.555\n"
     ]
    }
   ],
   "source": [
    "# Decision Tree Classifier\n",
    "\n",
    "dt = DecisionTreeClassifier()\n",
    "dt.fit(X_train, y_train)\n",
    "y_pred = dt.predict(X_test)\n",
    "print(\"Training Accuracy: {0:.3f}\".format(dt.score(X_train, y_train)))\n",
    "print(\"Test Accuracy: {0:.3f}\".format(accuracy_score(y_test, y_pred)))"
   ]
  },
  {
   "cell_type": "code",
   "execution_count": 67,
   "metadata": {},
   "outputs": [
    {
     "data": {
      "text/plain": [
       "(Index(['delta_ht', 'delta_age', 'delta_rank', 'delta_rank_points',\n",
       "        'delta_ace_expw', 'delta_df_expw', 'delta_svpt_expw',\n",
       "        'delta_1stIn_expw', 'delta_1stWon_expw', 'delta_2ndWon_expw',\n",
       "        'delta_SvGms_expw', 'delta_bpSaved_expw', 'delta_bpFaced_expw'],\n",
       "       dtype='object'), (71106, 13))"
      ]
     },
     "execution_count": 67,
     "metadata": {},
     "output_type": "execute_result"
    }
   ],
   "source": [
    "X.columns, X.shape"
   ]
  },
  {
   "cell_type": "code",
   "execution_count": null,
   "metadata": {
    "collapsed": true
   },
   "outputs": [],
   "source": [
    "### SVM is giving highest test accuracy: 56.3% with all expw features."
   ]
  },
  {
   "cell_type": "code",
   "execution_count": null,
   "metadata": {
    "collapsed": true
   },
   "outputs": [],
   "source": [
    "### Things to try:\n",
    "# Run simulation of betting strategy on 2017 season"
   ]
  },
  {
   "cell_type": "code",
   "execution_count": null,
   "metadata": {
    "collapsed": true
   },
   "outputs": [],
   "source": []
  },
  {
   "cell_type": "code",
   "execution_count": null,
   "metadata": {
    "collapsed": true
   },
   "outputs": [],
   "source": []
  }
 ],
 "metadata": {
  "kernelspec": {
   "display_name": "Python 3",
   "language": "python",
   "name": "python3"
  },
  "language_info": {
   "codemirror_mode": {
    "name": "ipython",
    "version": 3
   },
   "file_extension": ".py",
   "mimetype": "text/x-python",
   "name": "python",
   "nbconvert_exporter": "python",
   "pygments_lexer": "ipython3",
   "version": "3.6.1"
  }
 },
 "nbformat": 4,
 "nbformat_minor": 2
}
