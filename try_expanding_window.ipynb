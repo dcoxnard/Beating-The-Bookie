{
 "cells": [
  {
   "cell_type": "code",
   "execution_count": 1,
   "metadata": {
    "collapsed": true
   },
   "outputs": [],
   "source": [
    "import pandas as pd\n",
    "import numpy as np\n",
    "from sklearn.svm import SVC\n",
    "import matplotlib.pyplot as plt\n",
    "import pickle\n",
    "%matplotlib inline"
   ]
  },
  {
   "cell_type": "code",
   "execution_count": 2,
   "metadata": {
    "collapsed": true
   },
   "outputs": [],
   "source": [
    "pd.options.display.max_columns = 50"
   ]
  },
  {
   "cell_type": "code",
   "execution_count": 3,
   "metadata": {},
   "outputs": [
    {
     "data": {
      "text/plain": [
       "(2400, 49)"
      ]
     },
     "execution_count": 3,
     "metadata": {},
     "output_type": "execute_result"
    }
   ],
   "source": [
    "# Clean up the DF: column headers and rows are misaligned for some reason.\n",
    "\n",
    "filename = 'https://raw.githubusercontent.com/JeffSackmann/tennis_atp/master/atp_matches_2017.csv'\n",
    "df = pd.read_csv(filename)\n",
    "c = ['tourney_id', 'tourney_name', 'surface', 'draw_size', 'tourney_level',\n",
    "       'tourney_date', 'match_num', 'winner_id', 'winner_seed', 'winner_entry',\n",
    "       'winner_name', 'winner_hand', 'winner_ht', 'winner_ioc', 'winner_age',\n",
    "       'winner_rank', 'winner_rank_points', 'loser_id', 'loser_seed',\n",
    "       'loser_entry', 'loser_name', 'loser_hand', 'loser_ht', 'loser_ioc',\n",
    "       'loser_age', 'loser_rank', 'loser_rank_points', 'score', 'best_of',\n",
    "       'round', 'minutes', 'w_ace', 'w_df', 'w_svpt', 'w_1stIn', 'w_1stWon',\n",
    "       'w_2ndWon', 'w_SvGms', 'w_bpSaved', 'w_bpFaced', 'l_ace', 'l_df',\n",
    "       'l_svpt', 'l_1stIn', 'l_1stWon', 'l_2ndWon', 'l_SvGms', 'l_bpSaved',\n",
    "       'l_bpFaced']\n",
    "df = df.drop(['l_bpSaved', 'l_bpFaced'], axis=1).reset_index()\n",
    "df.columns = c\n",
    "df.shape"
   ]
  },
  {
   "cell_type": "code",
   "execution_count": 4,
   "metadata": {},
   "outputs": [
    {
     "data": {
      "text/plain": [
       "0"
      ]
     },
     "execution_count": 4,
     "metadata": {},
     "output_type": "execute_result"
    }
   ],
   "source": [
    "# Find which rows have the index problem in the big dataframe.\n",
    "\n",
    "bad_indices = []\n",
    "good_indices = []\n",
    "for i in df.index:\n",
    "    try:\n",
    "        int(i)\n",
    "    except:\n",
    "        bad_indices.append(i)\n",
    "    else:\n",
    "        good_indices.append(i)\n",
    "        \n",
    "len(bad_indices)"
   ]
  },
  {
   "cell_type": "code",
   "execution_count": 5,
   "metadata": {
    "collapsed": true
   },
   "outputs": [],
   "source": [
    "filestem = 'https://raw.githubusercontent.com/JeffSackmann/tennis_atp/master/atp_matches_{}.csv'\n",
    "c = ['tourney_id', 'tourney_name', 'surface', 'draw_size', 'tourney_level',\n",
    "       'tourney_date', 'match_num', 'winner_id', 'winner_seed', 'winner_entry',\n",
    "       'winner_name', 'winner_hand', 'winner_ht', 'winner_ioc', 'winner_age',\n",
    "       'winner_rank', 'winner_rank_points', 'loser_id', 'loser_seed',\n",
    "       'loser_entry', 'loser_name', 'loser_hand', 'loser_ht', 'loser_ioc',\n",
    "       'loser_age', 'loser_rank', 'loser_rank_points', 'score', 'best_of',\n",
    "       'round', 'minutes', 'w_ace', 'w_df', 'w_svpt', 'w_1stIn', 'w_1stWon',\n",
    "       'w_2ndWon', 'w_SvGms', 'w_bpSaved', 'w_bpFaced', 'l_ace', 'l_df',\n",
    "       'l_svpt', 'l_1stIn', 'l_1stWon', 'l_2ndWon', 'l_SvGms', 'l_bpSaved',\n",
    "       'l_bpFaced']\n",
    "dlist = []\n",
    "\n",
    "\n",
    "for i in range(1991, 2018):\n",
    "    filename = filestem.format(i)\n",
    "    d = pd.read_csv(filename)\n",
    "    if i == 2017:\n",
    "        d = d.drop(['l_bpSaved', 'l_bpFaced'], axis=1).reset_index()\n",
    "        d.columns = c            \n",
    "    dlist.append(d)\n",
    "df = pd.concat(dlist)\n",
    "df = df.reset_index(drop=True);"
   ]
  },
  {
   "cell_type": "code",
   "execution_count": 6,
   "metadata": {
    "collapsed": true
   },
   "outputs": [],
   "source": [
    "df_copy = df.copy(deep=True)"
   ]
  },
  {
   "cell_type": "code",
   "execution_count": 7,
   "metadata": {
    "collapsed": true
   },
   "outputs": [],
   "source": [
    "new_column = df_copy.groupby('winner_name').w_ace.rolling(window=20, min_periods=2).mean()\n",
    "df_copy['w_ace_mavg'] = new_column.reset_index(level=0, drop=True)"
   ]
  },
  {
   "cell_type": "code",
   "execution_count": 8,
   "metadata": {
    "collapsed": true
   },
   "outputs": [],
   "source": [
    "# Helper Functions to add moving avg column to DF\n",
    "\n",
    "def add_moving_averages(df, column, window=20):\n",
    "    new_name = str(column) + \"_mavg\"\n",
    "    if new_name[0] == 'w':\n",
    "        new_column = df.groupby('winner_name')[column].rolling(window=20, min_periods=2).mean()\n",
    "        df[new_name] = new_column.reset_index(level=0, drop=True)\n",
    "    elif new_name[0] == 'l':\n",
    "        new_column = df.groupby('loser_name')[column].rolling(window=20, min_periods=2).mean()\n",
    "        df[new_name] = new_column.reset_index(level=0, drop=True)\n",
    "    return df\n",
    "\n",
    "def add_expanding_windows(df, column):\n",
    "    \"\"\"\n",
    "    Create new feature using pandas expanding window function.\n",
    "    Basically a cumulative average.\n",
    "    \"\"\"\n",
    "    new_name = str(column) + \"_expw\"\n",
    "    if new_name[0] == 'w':\n",
    "        new_column = df.groupby('winner_name')[column].expanding().mean()\n",
    "        df[new_name] = new_column.reset_index(level=0, drop=True)\n",
    "    elif new_name[0] == 'l':\n",
    "        new_column = df.groupby('loser_name')[column].expanding().mean()\n",
    "        df[new_name] = new_column.reset_index(level=0, drop=True)\n",
    "    return df"
   ]
  },
  {
   "cell_type": "code",
   "execution_count": 9,
   "metadata": {
    "collapsed": true
   },
   "outputs": [],
   "source": [
    "# Enlarge DF Feature space by adding moving averages to all match-level stats.\n",
    "\n",
    "match_stats = ['w_ace', 'w_df', 'w_svpt', 'w_1stIn', 'w_1stWon',\n",
    "       'w_2ndWon', 'w_SvGms', 'w_bpSaved', 'w_bpFaced', 'l_ace', 'l_df',\n",
    "       'l_svpt', 'l_1stIn', 'l_1stWon', 'l_2ndWon', 'l_SvGms', 'l_bpSaved',\n",
    "       'l_bpFaced']\n",
    "for stat in match_stats:\n",
    "    df = add_moving_averages(df, stat)\n",
    "    df = add_expanding_windows(df, stat)"
   ]
  },
  {
   "cell_type": "code",
   "execution_count": 10,
   "metadata": {
    "collapsed": true
   },
   "outputs": [],
   "source": [
    "# At this point, ready to create new DF that contains the labels to predict.\n",
    "# Label=1 if Player 1 won, 0 otherwise."
   ]
  },
  {
   "cell_type": "code",
   "execution_count": 11,
   "metadata": {},
   "outputs": [
    {
     "data": {
      "text/plain": [
       "array([1, 1, 0, ..., 1, 0, 1])"
      ]
     },
     "execution_count": 11,
     "metadata": {},
     "output_type": "execute_result"
    }
   ],
   "source": [
    "# Randomly choose labels from {0, 1}\n",
    "labels = np.random.choice(2, len(df))\n",
    "labels"
   ]
  },
  {
   "cell_type": "code",
   "execution_count": 12,
   "metadata": {},
   "outputs": [
    {
     "data": {
      "text/plain": [
       "Index(['tourney_id', 'tourney_name', 'surface', 'draw_size', 'tourney_level',\n",
       "       'tourney_date', 'match_num', 'winner_id', 'winner_seed', 'winner_entry',\n",
       "       'winner_name', 'winner_hand', 'winner_ht', 'winner_ioc', 'winner_age',\n",
       "       'winner_rank', 'winner_rank_points', 'loser_id', 'loser_seed',\n",
       "       'loser_entry', 'loser_name', 'loser_hand', 'loser_ht', 'loser_ioc',\n",
       "       'loser_age', 'loser_rank', 'loser_rank_points', 'score', 'best_of',\n",
       "       'round', 'minutes', 'w_ace', 'w_df', 'w_svpt', 'w_1stIn', 'w_1stWon',\n",
       "       'w_2ndWon', 'w_SvGms', 'w_bpSaved', 'w_bpFaced', 'l_ace', 'l_df',\n",
       "       'l_svpt', 'l_1stIn', 'l_1stWon', 'l_2ndWon', 'l_SvGms', 'l_bpSaved',\n",
       "       'l_bpFaced', 'w_ace_mavg', 'w_ace_expw', 'w_df_mavg', 'w_df_expw',\n",
       "       'w_svpt_mavg', 'w_svpt_expw', 'w_1stIn_mavg', 'w_1stIn_expw',\n",
       "       'w_1stWon_mavg', 'w_1stWon_expw', 'w_2ndWon_mavg', 'w_2ndWon_expw',\n",
       "       'w_SvGms_mavg', 'w_SvGms_expw', 'w_bpSaved_mavg', 'w_bpSaved_expw',\n",
       "       'w_bpFaced_mavg', 'w_bpFaced_expw', 'l_ace_mavg', 'l_ace_expw',\n",
       "       'l_df_mavg', 'l_df_expw', 'l_svpt_mavg', 'l_svpt_expw', 'l_1stIn_mavg',\n",
       "       'l_1stIn_expw', 'l_1stWon_mavg', 'l_1stWon_expw', 'l_2ndWon_mavg',\n",
       "       'l_2ndWon_expw', 'l_SvGms_mavg', 'l_SvGms_expw', 'l_bpSaved_mavg',\n",
       "       'l_bpSaved_expw', 'l_bpFaced_mavg', 'l_bpFaced_expw'],\n",
       "      dtype='object')"
      ]
     },
     "execution_count": 12,
     "metadata": {},
     "output_type": "execute_result"
    }
   ],
   "source": [
    "df.columns"
   ]
  },
  {
   "cell_type": "markdown",
   "metadata": {},
   "source": [
    "# Plan that Sophie helped me come up with\n",
    "\n",
    "7 iterations of DFs.\n",
    "- main_df is a deep copy of the starting DF, from above.\n",
    "- win_df is a df of just the winners, with true label.\n",
    "- lose_df is a df of just the losers, with **reverse** label.\n",
    "- player_df is a concat of win_df and lose_df, with win stacked atop lose.\n",
    "- game_df is the stump DF that things will be appended to, which will ultimately form the final df.\n",
    "- player_1 df is a df of all player 1's, selected based on random label.\n",
    "- player_2 df is a df of all player 2's, selected based on random label.\n",
    "- final_df results from first merging player_1 df to game_df, then merging player_2 df to game_df."
   ]
  },
  {
   "cell_type": "code",
   "execution_count": 13,
   "metadata": {
    "collapsed": true
   },
   "outputs": [],
   "source": [
    "# Create main_df, the starting df.\n",
    "main_df = df.copy(deep=True)\n",
    "\n",
    "# Create random labels, to be used later.\n",
    "labels = pd.DataFrame(np.random.choice(2, len(main_df)))"
   ]
  },
  {
   "cell_type": "code",
   "execution_count": 14,
   "metadata": {
    "collapsed": true
   },
   "outputs": [],
   "source": [
    "# Create win_df containing just the index, winners, and winner stats.\n",
    "\n",
    "# List of all columns to go in the win_df\n",
    "winner_stats = ['winner_seed', 'winner_name', 'winner_hand', 'winner_ht', 'winner_age',\n",
    "       'winner_rank', 'winner_rank_points', 'w_ace', 'w_df', 'w_svpt', 'w_1stIn', 'w_1stWon',\n",
    "       'w_2ndWon', 'w_SvGms', 'w_bpSaved', 'w_bpFaced', 'w_ace_mavg', 'w_df_mavg', 'w_svpt_mavg',\n",
    "        'w_1stIn_mavg', 'w_1stWon_mavg', 'w_2ndWon_mavg', 'w_SvGms_mavg', 'w_bpSaved_mavg',\n",
    "       'w_bpFaced_mavg', 'w_ace_expw', 'w_df_expw', 'w_svpt_expw',\n",
    "        'w_1stIn_expw', 'w_1stWon_expw', 'w_2ndWon_expw', 'w_SvGms_expw', 'w_bpSaved_expw',\n",
    "       'w_bpFaced_expw']\n",
    "\n",
    "win_df = main_df[winner_stats]\n",
    "win_df = pd.concat([win_df, labels], axis=1)\n",
    "win_df.columns = winner_stats + ['label']"
   ]
  },
  {
   "cell_type": "code",
   "execution_count": 15,
   "metadata": {
    "collapsed": true
   },
   "outputs": [],
   "source": [
    "# Create lose_df containing just the index, losers, and loser stats.\n",
    "\n",
    "# List of all columns to go in the lose_df.\n",
    "loser_stats = [ 'loser_seed', 'loser_name', 'loser_hand', 'loser_ht',\n",
    "       'loser_age', 'loser_rank', 'loser_rank_points', 'l_ace', 'l_df',\n",
    "       'l_svpt', 'l_1stIn', 'l_1stWon', 'l_2ndWon', 'l_SvGms', 'l_bpSaved',\n",
    "       'l_bpFaced', 'l_ace_mavg', 'l_df_mavg', 'l_svpt_mavg',\n",
    "       'l_1stIn_mavg', 'l_1stWon_mavg', 'l_2ndWon_mavg', 'l_SvGms_mavg',\n",
    "       'l_bpSaved_mavg', 'l_bpFaced_mavg', 'l_ace_expw', 'l_df_expw', 'l_svpt_expw',\n",
    "        'l_1stIn_expw', 'l_1stWon_expw', 'l_2ndWon_expw', 'l_SvGms_expw', 'l_bpSaved_expw',\n",
    "       'l_bpFaced_expw']\n",
    "\n",
    "lose_df = main_df[loser_stats]\n",
    "\n",
    "# Create \"reverse labels\" to concat onto lose_df.\n",
    "\n",
    "reverse_labels = pd.DataFrame(np.zeros(len(labels)))\n",
    "reverse_labels[labels == 0] = 1\n",
    "reverse_labels = reverse_labels.astype(int)\n",
    "\n",
    "# Concat to finish creating lose_df.\n",
    "lose_df = pd.concat([lose_df, reverse_labels], axis=1)\n",
    "lose_df.columns = winner_stats + ['label']"
   ]
  },
  {
   "cell_type": "code",
   "execution_count": 16,
   "metadata": {
    "collapsed": true
   },
   "outputs": [],
   "source": [
    "# Create player_df, with wins stacked atop losses.\n",
    "player_df = pd.concat([lose_df, win_df], axis=0)"
   ]
  },
  {
   "cell_type": "code",
   "execution_count": 17,
   "metadata": {
    "collapsed": true
   },
   "outputs": [],
   "source": [
    "# Create games_df, in its starting incarnation.\n",
    "# Just index of games and game information.\n",
    "\n",
    "# Game stats to go into game_df.\n",
    "game_stats = ['surface', 'tourney_level', 'tourney_date']\n",
    "\n",
    "game_df = main_df[game_stats]"
   ]
  },
  {
   "cell_type": "code",
   "execution_count": 18,
   "metadata": {
    "collapsed": true
   },
   "outputs": [],
   "source": [
    "# Create player1_df, just the subset of player_df with label == 1\n",
    "player1_df = player_df[player_df.label == 1]\n",
    "player1_df = player1_df.drop('label', axis=1)\n",
    "player1_df = player1_df.reset_index(drop=True)\n",
    "\n",
    "player1_stats = ['player1_seed', 'player1_name', 'player1_hand', 'player1_ht', 'player1_age',\n",
    "       'player1_rank', 'player1_rank_points', 'player1_ace', 'player1_df', 'player1_svpt', 'player1_1stIn', 'player1_1stWon',\n",
    "       'player1_2ndWon', 'player1_SvGms', 'player1_bpSaved', 'player1_bpFaced', 'player1_ace_mavg', 'player1_df_mavg', 'player1_svpt_mavg',\n",
    "        'player1_1stIn_mavg', 'player1_1stWon_mavg', 'player1_2ndWon_mavg', 'player1_SvGms_mavg', 'player1_bpSaved_mavg',\n",
    "       'player1_bpFaced_mavg', 'player1_ace_expw', 'player1_df_expw', 'player1_svpt_expw',\n",
    "        'player1_1stIn_expw', 'player1_1stWon_expw', 'player1_2ndWon_expw', 'player1_SvGms_expw', 'player1_bpSaved_expw',\n",
    "       'player1_bpFaced_expw']\n",
    "player1_df.columns = player1_stats"
   ]
  },
  {
   "cell_type": "code",
   "execution_count": 19,
   "metadata": {
    "collapsed": true
   },
   "outputs": [],
   "source": [
    "# Create player2_df, just the subset of player_df with label == 0\n",
    "player2_df = player_df[player_df.label == 0]\n",
    "player2_df = player2_df.drop('label', axis=1)\n",
    "player2_df = player2_df.reset_index(drop=True)\n",
    "\n",
    "player2_stats = ['player2_seed', 'player2_name', 'player2_hand', 'player2_ht', 'player2_age',\n",
    "       'player2_rank', 'player2_rank_points', 'player2_ace', 'player2_df', 'player2_svpt', 'player2_1stIn', 'player2_1stWon',\n",
    "       'player2_2ndWon', 'player2_SvGms', 'player2_bpSaved', 'player2_bpFaced', 'player2_ace_mavg', 'player2_df_mavg', 'player2_svpt_mavg',\n",
    "        'player2_1stIn_mavg', 'player2_1stWon_mavg', 'player2_2ndWon_mavg', 'player2_SvGms_mavg', 'player2_bpSaved_mavg',\n",
    "       'player2_bpFaced_mavg', 'player2_ace_expw', 'player2_df_expw', 'player2_svpt_expw',\n",
    "        'player2_1stIn_expw', 'player2_1stWon_expw', 'player2_2ndWon_expw', 'player2_SvGms_expw', 'player2_bpSaved_expw',\n",
    "       'player2_bpFaced_expw']\n",
    "player2_df.columns = player2_stats"
   ]
  },
  {
   "cell_type": "code",
   "execution_count": 20,
   "metadata": {
    "collapsed": true
   },
   "outputs": [],
   "source": [
    "# Create final df by merging onto game_df.\n",
    "game_df = pd.concat([game_df, player1_df, player2_df], axis=1)"
   ]
  },
  {
   "cell_type": "code",
   "execution_count": 21,
   "metadata": {},
   "outputs": [
    {
     "data": {
      "text/plain": [
       "Index(['surface', 'tourney_level', 'tourney_date', 'player1_seed',\n",
       "       'player1_name', 'player1_hand', 'player1_ht', 'player1_age',\n",
       "       'player1_rank', 'player1_rank_points', 'player1_ace', 'player1_df',\n",
       "       'player1_svpt', 'player1_1stIn', 'player1_1stWon', 'player1_2ndWon',\n",
       "       'player1_SvGms', 'player1_bpSaved', 'player1_bpFaced',\n",
       "       'player1_ace_mavg', 'player1_df_mavg', 'player1_svpt_mavg',\n",
       "       'player1_1stIn_mavg', 'player1_1stWon_mavg', 'player1_2ndWon_mavg',\n",
       "       'player1_SvGms_mavg', 'player1_bpSaved_mavg', 'player1_bpFaced_mavg',\n",
       "       'player1_ace_expw', 'player1_df_expw', 'player1_svpt_expw',\n",
       "       'player1_1stIn_expw', 'player1_1stWon_expw', 'player1_2ndWon_expw',\n",
       "       'player1_SvGms_expw', 'player1_bpSaved_expw', 'player1_bpFaced_expw',\n",
       "       'player2_seed', 'player2_name', 'player2_hand', 'player2_ht',\n",
       "       'player2_age', 'player2_rank', 'player2_rank_points', 'player2_ace',\n",
       "       'player2_df', 'player2_svpt', 'player2_1stIn', 'player2_1stWon',\n",
       "       'player2_2ndWon', 'player2_SvGms', 'player2_bpSaved', 'player2_bpFaced',\n",
       "       'player2_ace_mavg', 'player2_df_mavg', 'player2_svpt_mavg',\n",
       "       'player2_1stIn_mavg', 'player2_1stWon_mavg', 'player2_2ndWon_mavg',\n",
       "       'player2_SvGms_mavg', 'player2_bpSaved_mavg', 'player2_bpFaced_mavg',\n",
       "       'player2_ace_expw', 'player2_df_expw', 'player2_svpt_expw',\n",
       "       'player2_1stIn_expw', 'player2_1stWon_expw', 'player2_2ndWon_expw',\n",
       "       'player2_SvGms_expw', 'player2_bpSaved_expw', 'player2_bpFaced_expw'],\n",
       "      dtype='object')"
      ]
     },
     "execution_count": 21,
     "metadata": {},
     "output_type": "execute_result"
    }
   ],
   "source": [
    "# IT IS ALIVE\n",
    "game_df.columns"
   ]
  },
  {
   "cell_type": "code",
   "execution_count": 22,
   "metadata": {},
   "outputs": [
    {
     "data": {
      "text/html": [
       "<div>\n",
       "<style>\n",
       "    .dataframe thead tr:only-child th {\n",
       "        text-align: right;\n",
       "    }\n",
       "\n",
       "    .dataframe thead th {\n",
       "        text-align: left;\n",
       "    }\n",
       "\n",
       "    .dataframe tbody tr th {\n",
       "        vertical-align: top;\n",
       "    }\n",
       "</style>\n",
       "<table border=\"1\" class=\"dataframe\">\n",
       "  <thead>\n",
       "    <tr style=\"text-align: right;\">\n",
       "      <th></th>\n",
       "      <th>surface</th>\n",
       "      <th>tourney_level</th>\n",
       "      <th>tourney_date</th>\n",
       "      <th>player1_seed</th>\n",
       "      <th>player1_name</th>\n",
       "      <th>player1_hand</th>\n",
       "      <th>player1_ht</th>\n",
       "      <th>player1_age</th>\n",
       "      <th>player1_rank</th>\n",
       "      <th>player1_rank_points</th>\n",
       "      <th>player1_ace</th>\n",
       "      <th>player1_df</th>\n",
       "      <th>player1_svpt</th>\n",
       "      <th>player1_1stIn</th>\n",
       "      <th>player1_1stWon</th>\n",
       "      <th>player1_2ndWon</th>\n",
       "      <th>player1_SvGms</th>\n",
       "      <th>player1_bpSaved</th>\n",
       "      <th>player1_bpFaced</th>\n",
       "      <th>player1_ace_mavg</th>\n",
       "      <th>player1_df_mavg</th>\n",
       "      <th>player1_svpt_mavg</th>\n",
       "      <th>player1_1stIn_mavg</th>\n",
       "      <th>player1_1stWon_mavg</th>\n",
       "      <th>player1_2ndWon_mavg</th>\n",
       "      <th>...</th>\n",
       "      <th>player2_svpt</th>\n",
       "      <th>player2_1stIn</th>\n",
       "      <th>player2_1stWon</th>\n",
       "      <th>player2_2ndWon</th>\n",
       "      <th>player2_SvGms</th>\n",
       "      <th>player2_bpSaved</th>\n",
       "      <th>player2_bpFaced</th>\n",
       "      <th>player2_ace_mavg</th>\n",
       "      <th>player2_df_mavg</th>\n",
       "      <th>player2_svpt_mavg</th>\n",
       "      <th>player2_1stIn_mavg</th>\n",
       "      <th>player2_1stWon_mavg</th>\n",
       "      <th>player2_2ndWon_mavg</th>\n",
       "      <th>player2_SvGms_mavg</th>\n",
       "      <th>player2_bpSaved_mavg</th>\n",
       "      <th>player2_bpFaced_mavg</th>\n",
       "      <th>player2_ace_expw</th>\n",
       "      <th>player2_df_expw</th>\n",
       "      <th>player2_svpt_expw</th>\n",
       "      <th>player2_1stIn_expw</th>\n",
       "      <th>player2_1stWon_expw</th>\n",
       "      <th>player2_2ndWon_expw</th>\n",
       "      <th>player2_SvGms_expw</th>\n",
       "      <th>player2_bpSaved_expw</th>\n",
       "      <th>player2_bpFaced_expw</th>\n",
       "    </tr>\n",
       "  </thead>\n",
       "  <tbody>\n",
       "    <tr>\n",
       "      <th>0</th>\n",
       "      <td>Clay</td>\n",
       "      <td>A</td>\n",
       "      <td>19910729</td>\n",
       "      <td>NaN</td>\n",
       "      <td>Diego Perez</td>\n",
       "      <td>R</td>\n",
       "      <td>178.0</td>\n",
       "      <td>29.464750</td>\n",
       "      <td>201.0</td>\n",
       "      <td>153.0</td>\n",
       "      <td>0.0</td>\n",
       "      <td>2.0</td>\n",
       "      <td>40.0</td>\n",
       "      <td>22.0</td>\n",
       "      <td>9.0</td>\n",
       "      <td>6.0</td>\n",
       "      <td>6.0</td>\n",
       "      <td>7.0</td>\n",
       "      <td>12.0</td>\n",
       "      <td>NaN</td>\n",
       "      <td>NaN</td>\n",
       "      <td>NaN</td>\n",
       "      <td>NaN</td>\n",
       "      <td>NaN</td>\n",
       "      <td>NaN</td>\n",
       "      <td>...</td>\n",
       "      <td>34.0</td>\n",
       "      <td>17.0</td>\n",
       "      <td>6.0</td>\n",
       "      <td>6.0</td>\n",
       "      <td>6.0</td>\n",
       "      <td>1.0</td>\n",
       "      <td>6.0</td>\n",
       "      <td>NaN</td>\n",
       "      <td>NaN</td>\n",
       "      <td>NaN</td>\n",
       "      <td>NaN</td>\n",
       "      <td>NaN</td>\n",
       "      <td>NaN</td>\n",
       "      <td>NaN</td>\n",
       "      <td>NaN</td>\n",
       "      <td>NaN</td>\n",
       "      <td>1.0</td>\n",
       "      <td>3.0</td>\n",
       "      <td>34.0</td>\n",
       "      <td>17.0</td>\n",
       "      <td>6.0</td>\n",
       "      <td>6.0</td>\n",
       "      <td>6.0</td>\n",
       "      <td>1.0</td>\n",
       "      <td>6.0</td>\n",
       "    </tr>\n",
       "    <tr>\n",
       "      <th>1</th>\n",
       "      <td>Clay</td>\n",
       "      <td>A</td>\n",
       "      <td>19910729</td>\n",
       "      <td>NaN</td>\n",
       "      <td>Massimo Ardinghi</td>\n",
       "      <td>R</td>\n",
       "      <td>175.0</td>\n",
       "      <td>20.396988</td>\n",
       "      <td>257.0</td>\n",
       "      <td>92.0</td>\n",
       "      <td>0.0</td>\n",
       "      <td>2.0</td>\n",
       "      <td>44.0</td>\n",
       "      <td>18.0</td>\n",
       "      <td>6.0</td>\n",
       "      <td>11.0</td>\n",
       "      <td>7.0</td>\n",
       "      <td>2.0</td>\n",
       "      <td>7.0</td>\n",
       "      <td>NaN</td>\n",
       "      <td>NaN</td>\n",
       "      <td>NaN</td>\n",
       "      <td>NaN</td>\n",
       "      <td>NaN</td>\n",
       "      <td>NaN</td>\n",
       "      <td>...</td>\n",
       "      <td>54.0</td>\n",
       "      <td>42.0</td>\n",
       "      <td>15.0</td>\n",
       "      <td>4.0</td>\n",
       "      <td>8.0</td>\n",
       "      <td>6.0</td>\n",
       "      <td>13.0</td>\n",
       "      <td>NaN</td>\n",
       "      <td>NaN</td>\n",
       "      <td>NaN</td>\n",
       "      <td>NaN</td>\n",
       "      <td>NaN</td>\n",
       "      <td>NaN</td>\n",
       "      <td>NaN</td>\n",
       "      <td>NaN</td>\n",
       "      <td>NaN</td>\n",
       "      <td>0.0</td>\n",
       "      <td>0.0</td>\n",
       "      <td>54.0</td>\n",
       "      <td>42.0</td>\n",
       "      <td>15.0</td>\n",
       "      <td>4.0</td>\n",
       "      <td>8.0</td>\n",
       "      <td>6.0</td>\n",
       "      <td>13.0</td>\n",
       "    </tr>\n",
       "    <tr>\n",
       "      <th>2</th>\n",
       "      <td>Clay</td>\n",
       "      <td>A</td>\n",
       "      <td>19910729</td>\n",
       "      <td>NaN</td>\n",
       "      <td>Joao Cunha Silva</td>\n",
       "      <td>R</td>\n",
       "      <td>173.0</td>\n",
       "      <td>23.668720</td>\n",
       "      <td>141.0</td>\n",
       "      <td>253.0</td>\n",
       "      <td>1.0</td>\n",
       "      <td>4.0</td>\n",
       "      <td>67.0</td>\n",
       "      <td>35.0</td>\n",
       "      <td>24.0</td>\n",
       "      <td>11.0</td>\n",
       "      <td>10.0</td>\n",
       "      <td>2.0</td>\n",
       "      <td>6.0</td>\n",
       "      <td>NaN</td>\n",
       "      <td>NaN</td>\n",
       "      <td>NaN</td>\n",
       "      <td>NaN</td>\n",
       "      <td>NaN</td>\n",
       "      <td>NaN</td>\n",
       "      <td>...</td>\n",
       "      <td>69.0</td>\n",
       "      <td>46.0</td>\n",
       "      <td>29.0</td>\n",
       "      <td>9.0</td>\n",
       "      <td>11.0</td>\n",
       "      <td>3.0</td>\n",
       "      <td>7.0</td>\n",
       "      <td>NaN</td>\n",
       "      <td>NaN</td>\n",
       "      <td>NaN</td>\n",
       "      <td>NaN</td>\n",
       "      <td>NaN</td>\n",
       "      <td>NaN</td>\n",
       "      <td>NaN</td>\n",
       "      <td>NaN</td>\n",
       "      <td>NaN</td>\n",
       "      <td>0.0</td>\n",
       "      <td>4.0</td>\n",
       "      <td>69.0</td>\n",
       "      <td>46.0</td>\n",
       "      <td>29.0</td>\n",
       "      <td>9.0</td>\n",
       "      <td>11.0</td>\n",
       "      <td>3.0</td>\n",
       "      <td>7.0</td>\n",
       "    </tr>\n",
       "    <tr>\n",
       "      <th>3</th>\n",
       "      <td>Clay</td>\n",
       "      <td>A</td>\n",
       "      <td>19910729</td>\n",
       "      <td>NaN</td>\n",
       "      <td>Slava Dosedel</td>\n",
       "      <td>R</td>\n",
       "      <td>183.0</td>\n",
       "      <td>20.955510</td>\n",
       "      <td>140.0</td>\n",
       "      <td>259.0</td>\n",
       "      <td>3.0</td>\n",
       "      <td>10.0</td>\n",
       "      <td>102.0</td>\n",
       "      <td>60.0</td>\n",
       "      <td>38.0</td>\n",
       "      <td>18.0</td>\n",
       "      <td>15.0</td>\n",
       "      <td>4.0</td>\n",
       "      <td>9.0</td>\n",
       "      <td>NaN</td>\n",
       "      <td>NaN</td>\n",
       "      <td>NaN</td>\n",
       "      <td>NaN</td>\n",
       "      <td>NaN</td>\n",
       "      <td>NaN</td>\n",
       "      <td>...</td>\n",
       "      <td>49.0</td>\n",
       "      <td>21.0</td>\n",
       "      <td>12.0</td>\n",
       "      <td>11.0</td>\n",
       "      <td>8.0</td>\n",
       "      <td>1.0</td>\n",
       "      <td>6.0</td>\n",
       "      <td>NaN</td>\n",
       "      <td>NaN</td>\n",
       "      <td>NaN</td>\n",
       "      <td>NaN</td>\n",
       "      <td>NaN</td>\n",
       "      <td>NaN</td>\n",
       "      <td>NaN</td>\n",
       "      <td>NaN</td>\n",
       "      <td>NaN</td>\n",
       "      <td>0.0</td>\n",
       "      <td>2.0</td>\n",
       "      <td>49.0</td>\n",
       "      <td>21.0</td>\n",
       "      <td>12.0</td>\n",
       "      <td>11.0</td>\n",
       "      <td>8.0</td>\n",
       "      <td>1.0</td>\n",
       "      <td>6.0</td>\n",
       "    </tr>\n",
       "    <tr>\n",
       "      <th>4</th>\n",
       "      <td>Clay</td>\n",
       "      <td>A</td>\n",
       "      <td>19910729</td>\n",
       "      <td>NaN</td>\n",
       "      <td>Christian Miniussi</td>\n",
       "      <td>R</td>\n",
       "      <td>185.0</td>\n",
       "      <td>24.065708</td>\n",
       "      <td>161.0</td>\n",
       "      <td>206.0</td>\n",
       "      <td>1.0</td>\n",
       "      <td>6.0</td>\n",
       "      <td>59.0</td>\n",
       "      <td>25.0</td>\n",
       "      <td>13.0</td>\n",
       "      <td>12.0</td>\n",
       "      <td>8.0</td>\n",
       "      <td>4.0</td>\n",
       "      <td>10.0</td>\n",
       "      <td>NaN</td>\n",
       "      <td>NaN</td>\n",
       "      <td>NaN</td>\n",
       "      <td>NaN</td>\n",
       "      <td>NaN</td>\n",
       "      <td>NaN</td>\n",
       "      <td>...</td>\n",
       "      <td>55.0</td>\n",
       "      <td>31.0</td>\n",
       "      <td>12.0</td>\n",
       "      <td>9.0</td>\n",
       "      <td>7.0</td>\n",
       "      <td>5.0</td>\n",
       "      <td>11.0</td>\n",
       "      <td>NaN</td>\n",
       "      <td>NaN</td>\n",
       "      <td>NaN</td>\n",
       "      <td>NaN</td>\n",
       "      <td>NaN</td>\n",
       "      <td>NaN</td>\n",
       "      <td>NaN</td>\n",
       "      <td>NaN</td>\n",
       "      <td>NaN</td>\n",
       "      <td>0.0</td>\n",
       "      <td>0.0</td>\n",
       "      <td>55.0</td>\n",
       "      <td>31.0</td>\n",
       "      <td>12.0</td>\n",
       "      <td>9.0</td>\n",
       "      <td>7.0</td>\n",
       "      <td>5.0</td>\n",
       "      <td>11.0</td>\n",
       "    </tr>\n",
       "  </tbody>\n",
       "</table>\n",
       "<p>5 rows × 71 columns</p>\n",
       "</div>"
      ],
      "text/plain": [
       "  surface tourney_level  tourney_date  player1_seed        player1_name  \\\n",
       "0    Clay             A      19910729           NaN         Diego Perez   \n",
       "1    Clay             A      19910729           NaN    Massimo Ardinghi   \n",
       "2    Clay             A      19910729           NaN    Joao Cunha Silva   \n",
       "3    Clay             A      19910729           NaN       Slava Dosedel   \n",
       "4    Clay             A      19910729           NaN  Christian Miniussi   \n",
       "\n",
       "  player1_hand  player1_ht  player1_age  player1_rank  player1_rank_points  \\\n",
       "0            R       178.0    29.464750         201.0                153.0   \n",
       "1            R       175.0    20.396988         257.0                 92.0   \n",
       "2            R       173.0    23.668720         141.0                253.0   \n",
       "3            R       183.0    20.955510         140.0                259.0   \n",
       "4            R       185.0    24.065708         161.0                206.0   \n",
       "\n",
       "   player1_ace  player1_df  player1_svpt  player1_1stIn  player1_1stWon  \\\n",
       "0          0.0         2.0          40.0           22.0             9.0   \n",
       "1          0.0         2.0          44.0           18.0             6.0   \n",
       "2          1.0         4.0          67.0           35.0            24.0   \n",
       "3          3.0        10.0         102.0           60.0            38.0   \n",
       "4          1.0         6.0          59.0           25.0            13.0   \n",
       "\n",
       "   player1_2ndWon  player1_SvGms  player1_bpSaved  player1_bpFaced  \\\n",
       "0             6.0            6.0              7.0             12.0   \n",
       "1            11.0            7.0              2.0              7.0   \n",
       "2            11.0           10.0              2.0              6.0   \n",
       "3            18.0           15.0              4.0              9.0   \n",
       "4            12.0            8.0              4.0             10.0   \n",
       "\n",
       "   player1_ace_mavg  player1_df_mavg  player1_svpt_mavg  player1_1stIn_mavg  \\\n",
       "0               NaN              NaN                NaN                 NaN   \n",
       "1               NaN              NaN                NaN                 NaN   \n",
       "2               NaN              NaN                NaN                 NaN   \n",
       "3               NaN              NaN                NaN                 NaN   \n",
       "4               NaN              NaN                NaN                 NaN   \n",
       "\n",
       "   player1_1stWon_mavg  player1_2ndWon_mavg          ...           \\\n",
       "0                  NaN                  NaN          ...            \n",
       "1                  NaN                  NaN          ...            \n",
       "2                  NaN                  NaN          ...            \n",
       "3                  NaN                  NaN          ...            \n",
       "4                  NaN                  NaN          ...            \n",
       "\n",
       "   player2_svpt  player2_1stIn  player2_1stWon  player2_2ndWon  player2_SvGms  \\\n",
       "0          34.0           17.0             6.0             6.0            6.0   \n",
       "1          54.0           42.0            15.0             4.0            8.0   \n",
       "2          69.0           46.0            29.0             9.0           11.0   \n",
       "3          49.0           21.0            12.0            11.0            8.0   \n",
       "4          55.0           31.0            12.0             9.0            7.0   \n",
       "\n",
       "   player2_bpSaved  player2_bpFaced  player2_ace_mavg  player2_df_mavg  \\\n",
       "0              1.0              6.0               NaN              NaN   \n",
       "1              6.0             13.0               NaN              NaN   \n",
       "2              3.0              7.0               NaN              NaN   \n",
       "3              1.0              6.0               NaN              NaN   \n",
       "4              5.0             11.0               NaN              NaN   \n",
       "\n",
       "   player2_svpt_mavg  player2_1stIn_mavg  player2_1stWon_mavg  \\\n",
       "0                NaN                 NaN                  NaN   \n",
       "1                NaN                 NaN                  NaN   \n",
       "2                NaN                 NaN                  NaN   \n",
       "3                NaN                 NaN                  NaN   \n",
       "4                NaN                 NaN                  NaN   \n",
       "\n",
       "   player2_2ndWon_mavg player2_SvGms_mavg player2_bpSaved_mavg  \\\n",
       "0                  NaN                NaN                  NaN   \n",
       "1                  NaN                NaN                  NaN   \n",
       "2                  NaN                NaN                  NaN   \n",
       "3                  NaN                NaN                  NaN   \n",
       "4                  NaN                NaN                  NaN   \n",
       "\n",
       "   player2_bpFaced_mavg  player2_ace_expw  player2_df_expw  player2_svpt_expw  \\\n",
       "0                   NaN               1.0              3.0               34.0   \n",
       "1                   NaN               0.0              0.0               54.0   \n",
       "2                   NaN               0.0              4.0               69.0   \n",
       "3                   NaN               0.0              2.0               49.0   \n",
       "4                   NaN               0.0              0.0               55.0   \n",
       "\n",
       "   player2_1stIn_expw  player2_1stWon_expw  player2_2ndWon_expw  \\\n",
       "0                17.0                  6.0                  6.0   \n",
       "1                42.0                 15.0                  4.0   \n",
       "2                46.0                 29.0                  9.0   \n",
       "3                21.0                 12.0                 11.0   \n",
       "4                31.0                 12.0                  9.0   \n",
       "\n",
       "   player2_SvGms_expw  player2_bpSaved_expw  player2_bpFaced_expw  \n",
       "0                 6.0                   1.0                   6.0  \n",
       "1                 8.0                   6.0                  13.0  \n",
       "2                11.0                   3.0                   7.0  \n",
       "3                 8.0                   1.0                   6.0  \n",
       "4                 7.0                   5.0                  11.0  \n",
       "\n",
       "[5 rows x 71 columns]"
      ]
     },
     "execution_count": 22,
     "metadata": {},
     "output_type": "execute_result"
    }
   ],
   "source": [
    "# now just need to prune columns, take differences of stats/mavgs.\n",
    "\n",
    "game_df.head()"
   ]
  },
  {
   "cell_type": "code",
   "execution_count": 23,
   "metadata": {
    "collapsed": true
   },
   "outputs": [],
   "source": [
    "game_df['label'] = labels"
   ]
  },
  {
   "cell_type": "code",
   "execution_count": 24,
   "metadata": {
    "collapsed": true
   },
   "outputs": [],
   "source": [
    "picklefile = 'expw_oct17.pkl'\n",
    "with open(picklefile, 'wb') as f_obj:\n",
    "    pickle.dump(game_df, f_obj)"
   ]
  },
  {
   "cell_type": "code",
   "execution_count": 25,
   "metadata": {
    "collapsed": true
   },
   "outputs": [],
   "source": [
    "# Pickled at 12:42 Tuesday October 17th."
   ]
  },
  {
   "cell_type": "code",
   "execution_count": null,
   "metadata": {
    "collapsed": true
   },
   "outputs": [],
   "source": []
  }
 ],
 "metadata": {
  "kernelspec": {
   "display_name": "Python 3",
   "language": "python",
   "name": "python3"
  },
  "language_info": {
   "codemirror_mode": {
    "name": "ipython",
    "version": 3
   },
   "file_extension": ".py",
   "mimetype": "text/x-python",
   "name": "python",
   "nbconvert_exporter": "python",
   "pygments_lexer": "ipython3",
   "version": "3.6.1"
  }
 },
 "nbformat": 4,
 "nbformat_minor": 2
}
