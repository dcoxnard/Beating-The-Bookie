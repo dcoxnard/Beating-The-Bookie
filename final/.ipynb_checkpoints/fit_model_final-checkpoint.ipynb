{
 "cells": [
  {
   "cell_type": "markdown",
   "metadata": {},
   "source": [
    "# Model Selection\n",
    "\n",
    "This file fits the various models.  Each model's hypterparameters are tuned using cross-validation, the results are plotted, and the best hyperparameters and resulting CV scores are reported."
   ]
  },
  {
   "cell_type": "code",
   "execution_count": null,
   "metadata": {
    "collapsed": true
   },
   "outputs": [],
   "source": [
    "import pickle\n",
    "import pandas as pd\n",
    "import numpy as np\n",
    "from sklearn.preprocessing import normalize\n",
    "from sklearn.linear_model import LogisticRegression\n",
    "from sklearn.svm import SVC\n",
    "from sklearn.ensemble import RandomForestClassifier\n",
    "from sklearn.naive_bayes import GaussianNB\n",
    "from sklearn.neighbors import KNeighborsClassifier\n",
    "from sklearn.tree import DecisionTreeClassifier\n",
    "from sklearn.model_selection import cross_val_score\n",
    "from sklearn.model_selection import train_test_split\n",
    "from sklearn.model_selection import GridSearchCV\n",
    "from sklearn.metrics import accuracy_score\n",
    "from sklearn.metrics import classification_report\n",
    "import matplotlib.pyplot as plt\n",
    "from sklearn.metrics import accuracy_score\n",
    "import datetime\n",
    "%matplotlib inline"
   ]
  },
  {
   "cell_type": "code",
   "execution_count": null,
   "metadata": {
    "collapsed": true
   },
   "outputs": [],
   "source": [
    "# Read picklefile\n",
    "\n",
    "picklefile = 'oct_20.pkl'\n",
    "df = pd.read_pickle(picklefile)"
   ]
  },
  {
   "cell_type": "code",
   "execution_count": null,
   "metadata": {
    "collapsed": true
   },
   "outputs": [],
   "source": [
    "# Select columns of intrest from the DataFrame\n",
    "# Cutting out all non-delta, non-expw columns\n",
    "# with this call.\n",
    "# May want to revise later to give option to use.\n",
    "\n",
    "df = df[['label', 'tourney_date',\n",
    "                    'delta_ht', 'delta_age',\n",
    "                    'delta_rank', 'delta_rank_points',\n",
    "                    'delta_ace_expw', 'delta_df_expw',\n",
    "                    'delta_svpt_expw', 'delta_1stIn_expw',\n",
    "                    'delta_1stWon_expw', 'delta_2ndWon_expw',\n",
    "                    'delta_SvGms_expw', 'delta_bpSaved_expw',\n",
    "                    'delta_bpFaced_expw',]].dropna()"
   ]
  },
  {
   "cell_type": "code",
   "execution_count": null,
   "metadata": {
    "collapsed": true
   },
   "outputs": [],
   "source": [
    "# Split data into train/test and holdout sets.\n",
    "# Holdout set is the 2017 season, to be used for\n",
    "# validation and backtesting betting simulation.\n",
    "\n",
    "holdout = df[df.tourney_date > datetime.date(2017,1,1)]\n",
    "df = df[df.tourney_date < datetime.date(2017,1,1)]"
   ]
  },
  {
   "cell_type": "code",
   "execution_count": null,
   "metadata": {
    "collapsed": true
   },
   "outputs": [],
   "source": [
    "# Split DF into features, response.\n",
    "\n",
    "Xcols = ['delta_ht', 'delta_age', 'delta_rank',\n",
    "         'delta_rank_points', 'delta_ace_expw',\n",
    "         'delta_df_expw', 'delta_svpt_expw',\n",
    "         'delta_1stIn_expw', 'delta_1stWon_expw',\n",
    "         'delta_2ndWon_expw', 'delta_SvGms_expw',\n",
    "         'delta_bpSaved_expw', 'delta_bpFaced_expw']\n",
    "\n",
    "ycols = 'label'\n",
    "\n",
    "X = df[Xcols]\n",
    "y = df[ycols]\n",
    "X_norm = normalize(X)"
   ]
  },
  {
   "cell_type": "code",
   "execution_count": null,
   "metadata": {
    "collapsed": true
   },
   "outputs": [],
   "source": [
    "# Helper function to plot Grid Searches.\n",
    "\n",
    "def plot_grid_search(grid, param_name, model_name):\n",
    "    params = [x[param_name] for x in grid.cv_results_['params']]\n",
    "    train = grid.cv_results_['mean_train_score']\n",
    "    test = grid.cv_results_['mean_test_score']\n",
    "    best_param = grid.best_params_[param_name]\n",
    "\n",
    "    plt.figure(figsize=(10,8))\n",
    "    plt.title(\"Grid Search: {0:s}\".format(model_name), fontsize=18)\n",
    "    plt.xlabel(param_name, fontsize=14)\n",
    "    plt.ylabel(\"Accuracy\", fontsize=14)\n",
    "    plt.axvline(best_param, color='k', linestyle='--')\n",
    "    plt.plot(params, train, label='Training Accuracy')\n",
    "    plt.plot(params, test, label='Test Accuracy')\n",
    "    plt.legend();"
   ]
  },
  {
   "cell_type": "markdown",
   "metadata": {},
   "source": [
    "# Results"
   ]
  },
  {
   "cell_type": "markdown",
   "metadata": {},
   "source": [
    "### Logisitic Regression"
   ]
  },
  {
   "cell_type": "code",
   "execution_count": null,
   "metadata": {
    "collapsed": true
   },
   "outputs": [],
   "source": [
    "logreg = LogisticRegression()\n",
    "param_grid = {'C': np.logspace(1e-10, 1, 10)}\n",
    "grid = GridSearchCV(logreg, param_grid, cv=5, scoring='accuracy')\n",
    "grid.fit(X, y)\n",
    "\n",
    "plot_grid_search(grid, 'C', 'Logistic Regression')\n",
    "training_acc = grid.cv_results_['mean_train_score'][grid.best_index_]\n",
    "test_acc = grid.cv_results_['mean_test_score'][grid.best_index_]\n",
    "\n",
    "print(\"Best value of {0:s}: {1:.3f}\".format('C', grid.best_params_['C']))\n",
    "print(\"Cross-Validation Training Accuracy: {0:.3f}\".format(training_acc))\n",
    "print(\"Cross-Validation Test Accuracy: {0:.3f}\".format(test_acc))"
   ]
  },
  {
   "cell_type": "markdown",
   "metadata": {},
   "source": [
    "### Decision Tree"
   ]
  },
  {
   "cell_type": "code",
   "execution_count": null,
   "metadata": {
    "collapsed": true
   },
   "outputs": [],
   "source": [
    "dt = DecisionTreeClassifier()\n",
    "param_grid = {'min_samples_split': np.linspace(2, 30000, 10, dtype='int')}\n",
    "grid = GridSearchCV(dt, param_grid, cv=5, scoring='accuracy')\n",
    "grid.fit(X, y)\n",
    "\n",
    "plot_grid_search(grid, 'min_samples_split', 'Decision Tree Classifier')\n",
    "training_acc = grid.cv_results_['mean_train_score'][grid.best_index_]\n",
    "test_acc = grid.cv_results_['mean_test_score'][grid.best_index_]\n",
    "\n",
    "print(\"Best value of {0:s}: {1:.3f}\".format('min_samples_split', grid.best_params_['min_samples_split']))\n",
    "print(\"Cross-Validation Training Accuracy: {0:.3f}\".format(training_acc))\n",
    "print(\"Cross-Validation Test Accuracy: {0:.3f}\".format(test_acc))"
   ]
  },
  {
   "cell_type": "markdown",
   "metadata": {},
   "source": [
    "### Random Forest Classifier"
   ]
  },
  {
   "cell_type": "code",
   "execution_count": null,
   "metadata": {
    "collapsed": true
   },
   "outputs": [],
   "source": [
    "rf = RandomForestClassifier()\n",
    "param_grid = {'n_estimators': np.linspace(2, 20, 10, dtype='int')}\n",
    "grid = GridSearchCV(rf, param_grid, cv=5, scoring='accuracy')\n",
    "grid.fit(X, y)\n",
    "\n",
    "plot_grid_search(grid, 'n_estimators', 'Random Forest Classifier')\n",
    "training_acc = grid.cv_results_['mean_train_score'][grid.best_index_]\n",
    "test_acc = grid.cv_results_['mean_test_score'][grid.best_index_]\n",
    "\n",
    "print(\"Best value of {0:s}: {1:.3f}\".format('n_estimators', grid.best_params_['n_estimators']))\n",
    "print(\"Cross-Validation Training Accuracy: {0:.3f}\".format(training_acc))\n",
    "print(\"Cross-Validation Test Accuracy: {0:.3f}\".format(test_acc))"
   ]
  },
  {
   "cell_type": "markdown",
   "metadata": {},
   "source": [
    "### Naive Bayes"
   ]
  },
  {
   "cell_type": "code",
   "execution_count": null,
   "metadata": {
    "collapsed": true
   },
   "outputs": [],
   "source": [
    "# No hyperparameter to Grid Search.\n",
    "# Plot as a horizontal line on other graphs?\n",
    "\n",
    "nb = GaussianNB()\n",
    "training_acc = np.mean(cross_validate(nb, X, y)['train_score'])\n",
    "test_acc = np.mean(cross_validate(nb, X, y)['test_score'])\n",
    "print(\"Cross-Validation Training Accuracy: {0:.3f}\".format(training_acc))\n",
    "print(\"Cross-Validation Test Accuracy: {0:.3f}\".format(test_acc))"
   ]
  },
  {
   "cell_type": "markdown",
   "metadata": {},
   "source": [
    "### K-Nearest Neighbors"
   ]
  },
  {
   "cell_type": "code",
   "execution_count": null,
   "metadata": {
    "collapsed": true
   },
   "outputs": [],
   "source": [
    "knn = KNeighborsClassifier()\n",
    "param_grid = {'n_neighbors': np.linspace(2, 22, 2, dtype='int')}\n",
    "grid = GridSearchCV(knn, param_grid, cv=5, scoring='accuracy')\n",
    "grid.fit(X_norm, y)\n",
    "\n",
    "plot_grid_search(grid, 'n_neighbors', 'K-Nearest Neighbors')\n",
    "training_acc = grid.cv_results_['mean_train_score'][grid.best_index_]\n",
    "test_acc = grid.cv_results_['mean_test_score'][grid.best_index_]\n",
    "\n",
    "print(\"Best value of {0:s}: {1:.3f}\".format('n_neighbors', grid.best_params_['n_neighbors']))\n",
    "print(\"Cross-Validation Training Accuracy: {0:.3f}\".format(training_acc))\n",
    "print(\"Cross-Validation Test Accuracy: {0:.3f}\".format(test_acc))"
   ]
  },
  {
   "cell_type": "markdown",
   "metadata": {},
   "source": [
    "### Support Vector Classifier"
   ]
  },
  {
   "cell_type": "code",
   "execution_count": null,
   "metadata": {
    "collapsed": true
   },
   "outputs": [],
   "source": [
    "svc = SVC()\n",
    "param_grid = {'C': np.logspace(1e-10, 1, 1, dtype='int')}\n",
    "grid = GridSearchCV(svc, param_grid, cv=5, scoring='accuracy')\n",
    "grid.fit(X_norm, y)\n",
    "\n",
    "plot_grid_search(grid, 'C', 'Support Vector Classifier')\n",
    "training_acc = grid.cv_results_['mean_train_score'][grid.best_index_]\n",
    "test_acc = grid.cv_results_['mean_test_score'][grid.best_index_]\n",
    "\n",
    "print(\"Best value of {0:s}: {1:.3f}\".format('C', grid.best_params_['C']))\n",
    "print(\"Cross-Validation Training Accuracy: {0:.3f}\".format(training_acc))\n",
    "print(\"Cross-Validation Test Accuracy: {0:.3f}\".format(test_acc))"
   ]
  },
  {
   "cell_type": "code",
   "execution_count": null,
   "metadata": {
    "collapsed": true
   },
   "outputs": [],
   "source": []
  }
 ],
 "metadata": {
  "kernelspec": {
   "display_name": "Python 3",
   "language": "python",
   "name": "python3"
  },
  "language_info": {
   "codemirror_mode": {
    "name": "ipython",
    "version": 3
   },
   "file_extension": ".py",
   "mimetype": "text/x-python",
   "name": "python",
   "nbconvert_exporter": "python",
   "pygments_lexer": "ipython3",
   "version": "3.6.1"
  }
 },
 "nbformat": 4,
 "nbformat_minor": 2
}
