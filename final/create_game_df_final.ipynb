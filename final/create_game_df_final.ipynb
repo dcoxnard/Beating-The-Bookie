{
 "cells": [
  {
   "cell_type": "markdown",
   "metadata": {},
   "source": [
    "# Refactored Code: `game_df` and `player_df`\n",
    "\n",
    "This is code is all nice and refactored.  \n",
    "\n",
    "Calling `create_game_df()` creates the DataFrame to feed into sklearn classifier models.  \n",
    "\n",
    "Calling `create_player_df()` creates player_df, a databaes of player-matches and their corresponding stats.\n",
    "\n",
    "Last thing that needs to be done is to fill in some function docstrings."
   ]
  },
  {
   "cell_type": "code",
   "execution_count": 1,
   "metadata": {
    "collapsed": true
   },
   "outputs": [],
   "source": [
    "import pandas as pd\n",
    "import numpy as np\n",
    "import pickle\n",
    "%matplotlib inline"
   ]
  },
  {
   "cell_type": "code",
   "execution_count": 2,
   "metadata": {
    "collapsed": true
   },
   "outputs": [],
   "source": [
    "pd.set_option('display.max_columns', 300)"
   ]
  },
  {
   "cell_type": "code",
   "execution_count": 3,
   "metadata": {
    "collapsed": true
   },
   "outputs": [],
   "source": [
    "def add_moving_averages(df, column, window=20):\n",
    "    \"\"\"\n",
    "    Create new feautre using pandas rolling window function.\n",
    "    Basially create a moving average.\n",
    "    \"\"\"\n",
    "    new_name = str(column) + \"_mavg\"\n",
    "    new_column = df.groupby('player_name')[column].rolling(window=20, min_periods=2).mean()\n",
    "    df[new_name] = new_column.reset_index(level=0, drop=True)\n",
    "    return df"
   ]
  },
  {
   "cell_type": "code",
   "execution_count": 4,
   "metadata": {
    "collapsed": true
   },
   "outputs": [],
   "source": [
    "def add_expanding_windows(df, column):\n",
    "    \"\"\"\n",
    "    Create new feature using pandas expanding window function.\n",
    "    Basically a cumulative average.\n",
    "    \"\"\"\n",
    "    new_name = str(column) + \"_expw\"\n",
    "    new_column = df.groupby('player_name')[column].expanding().mean()\n",
    "    df[new_name] = new_column.reset_index(level=0, drop=True)\n",
    "    return df"
   ]
  },
  {
   "cell_type": "code",
   "execution_count": 5,
   "metadata": {
    "collapsed": true
   },
   "outputs": [],
   "source": [
    "def read_data_into_df(beginning_year=1991, ending_year=2017):\n",
    "    \"\"\"\n",
    "    This function reads the data from the GitHub repo.\n",
    "    Returns a pandas DataFrame containing the raw data.\n",
    "    Accepts a beginning year and ending year as inputs:\n",
    "    default values are 1991 and 2017, as those are the\n",
    "    max boundaries of the data that is suitable for the\n",
    "    project.\n",
    "    \n",
    "    The data for year 2017 is misformatted; this function\n",
    "    handles that if data from the 2017 year is requested.\n",
    "    \"\"\"\n",
    "    \n",
    "    # Initialize some variables.    \n",
    "    filestem = 'https://raw.githubusercontent.com/JeffSackmann/tennis_atp/master/atp_matches_{}.csv'\n",
    "    c = ['tourney_id', 'tourney_name', 'surface', 'draw_size', 'tourney_level',\n",
    "           'tourney_date', 'match_num', 'winner_id', 'winner_seed', 'winner_entry',\n",
    "           'winner_name', 'winner_hand', 'winner_ht', 'winner_ioc', 'winner_age',\n",
    "           'winner_rank', 'winner_rank_points', 'loser_id', 'loser_seed',\n",
    "           'loser_entry', 'loser_name', 'loser_hand', 'loser_ht', 'loser_ioc',\n",
    "           'loser_age', 'loser_rank', 'loser_rank_points', 'score', 'best_of',\n",
    "           'round', 'minutes', 'w_ace', 'w_df', 'w_svpt', 'w_1stIn', 'w_1stWon',\n",
    "           'w_2ndWon', 'w_SvGms', 'w_bpSaved', 'w_bpFaced', 'l_ace', 'l_df',\n",
    "           'l_svpt', 'l_1stIn', 'l_1stWon', 'l_2ndWon', 'l_SvGms', 'l_bpSaved',\n",
    "           'l_bpFaced']\n",
    "    dlist = []    # An empty list to hold DataFrames\n",
    "    \n",
    "    # Each year's data is stored in a separate CSV file.\n",
    "    # Iteratively call for each year's file,\n",
    "    # read into a DataFrame, and concat all resulting\n",
    "    # DataFrames.  Convert tourney_date to datetime,\n",
    "    # and drop irrelevant columns.\n",
    "    \n",
    "    for i in range(beginning_year, ending_year + 1):\n",
    "        filename = filestem.format(i)\n",
    "        d = pd.read_csv(filename)\n",
    "        if i == 2017:\n",
    "            d = d.drop(['l_bpSaved', 'l_bpFaced'], axis=1).reset_index()\n",
    "            d.columns = c            \n",
    "        dlist.append(d)\n",
    "    df = pd.concat(dlist)\n",
    "    df = df.reset_index(drop=True)\n",
    "    df = df.drop(['draw_size', 'best_of', 'match_num', 'minutes', 'winner_id', 'loser_id'], axis=1)\n",
    "    df.tourney_date = pd.to_datetime(df.tourney_date, format='%Y%M%d')\n",
    "    \n",
    "    return df"
   ]
  },
  {
   "cell_type": "code",
   "execution_count": 6,
   "metadata": {
    "collapsed": true
   },
   "outputs": [],
   "source": [
    "def create_player_dictionary(df):\n",
    "    \"\"\"\n",
    "    This function creates a dictionary of player-matches.\n",
    "    Each key in the dictionary is a 2-tuple containing\n",
    "    player's name and match index.  The values in the\n",
    "    dictionary are the player's in-match stats that\n",
    "    were recorded by that player in that match.\n",
    "    Therefore, every match played is represented by\n",
    "    two key-value pairs: one for each player that\n",
    "    participated in the match.\n",
    "    \n",
    "    Importantly, this dictionary contains player\n",
    "    stats for every match, regardless of whether or not\n",
    "    the player won the match.\n",
    "    \"\"\"\n",
    "    \n",
    "    # Initialize some items.    \n",
    "    player_dict = {}\n",
    "    winner_stats = [\n",
    "                    'winner_seed', 'winner_ht', 'winner_age', 'winner_rank', 'winner_rank_points',\n",
    "                    'w_ace', 'w_df', 'w_svpt', 'w_1stIn', 'w_1stWon',\n",
    "                   'w_2ndWon', 'w_SvGms', 'w_bpSaved', 'w_bpFaced'\n",
    "                    ]\n",
    "    loser_stats = [\n",
    "                    'loser_seed', 'loser_ht', 'loser_age', 'loser_rank', 'loser_rank_points',\n",
    "                    'l_ace', 'l_df', 'l_svpt', 'l_1stIn', 'l_1stWon',\n",
    "                   'l_2ndWon', 'l_SvGms', 'l_bpSaved', 'l_bpFaced'\n",
    "                    ]\n",
    "\n",
    "    # Iterate through the rows of the DataFrame and\n",
    "    # insert information into player_dict.\n",
    "    for index, row in df.iterrows():\n",
    "        player_dict[(row['winner_name'], index)] = {row[stat] for stat in winner_stats}\n",
    "        player_dict[(row['loser_name'], index)] = {row[stat] for stat in loser_stats}  \n",
    "    return player_dict"
   ]
  },
  {
   "cell_type": "code",
   "execution_count": 7,
   "metadata": {
    "collapsed": true
   },
   "outputs": [],
   "source": [
    "def dictionary_to_df(player_dict, window=20):\n",
    "    \"\"\"\n",
    "    This function takes a dictionary of\n",
    "    in-match stats for player-matches, and\n",
    "    returns a DataFrame of the stats.  It also\n",
    "    computes moving-average and expanding-window\n",
    "    stats and adds them to the DataFrame.\n",
    "    \"\"\"\n",
    "    \n",
    "    # Initialize a list of statistics.\n",
    "    player_stats = [\n",
    "            'seed', 'ht', 'age', 'rank', 'rank_points',\n",
    "            'ace', 'df', 'svpt', '1stIn', '1stWon',\n",
    "           '2ndWon', 'SvGms', 'bpSaved', 'bpFaced'\n",
    "            ]\n",
    "    \n",
    "    # Feed dictionary into a new pandas DataFrame, player_df.\n",
    "    player_df = pd.DataFrame.from_dict(player_dict, orient='index')\n",
    "    player_df.index = pd.MultiIndex.from_tuples(player_df.index)\n",
    "    player_df = player_df.reset_index()\n",
    "    player_df.columns = ['player_name','game_index'] + player_stats\n",
    "\n",
    "    # Compute moving-average and expanding-window columns.\n",
    "    # Ignore certain stats: seed, ht, age, rank, rank_points.\n",
    "    for stat in player_stats:\n",
    "        if stat not in ['seed', 'ht', 'age', 'rank', 'rank_points']:\n",
    "            player_df = add_expanding_windows(player_df, stat)\n",
    "            player_df = add_moving_averages(player_df, stat, window=window)\n",
    "    \n",
    "    return player_df"
   ]
  },
  {
   "cell_type": "code",
   "execution_count": 8,
   "metadata": {
    "collapsed": true
   },
   "outputs": [],
   "source": [
    "def create_player_df(beginning_year=1991, ending_year=2017, window=20):\n",
    "    \"\"\"\n",
    "    THIS IS A MAIN FUNCTION.\n",
    "    \n",
    "    This function creates player_df.\n",
    "    This is a pandas DataFrame which contains player stats over time.\n",
    "    Each row in the DataFrame is a \"player-game,\" corresponding to a\n",
    "    single player's in-game stats for every game in the data.\n",
    "    Each game therefore is represented by two rows, one for each player.\n",
    "    The DataFrame contains raw stats as well as \"stats over time.\"\n",
    "    \"Stats over time\" includes two evolving \"averages\" of each stat,\n",
    "    one computed with a moving window (size 20) and the other computed\n",
    "    with an expanding window.  My aim is to use these computed stats as\n",
    "    an estimation of a player's ability, and ultaimtely as predictors in\n",
    "    the model, because in-game stats cannot be known ex-ante, and they\n",
    "    are very noisy for a given player anyways.\n",
    "    \"\"\"\n",
    "    \n",
    "    # Grab the data, read into DF, handle some data issues and convert tourney_date to datetime.\n",
    "    df = read_data_into_df(beginning_year=1991, ending_year=2017)\n",
    "    \n",
    "    # Create a dictionary of players' in-game stats, indexed by (player_name, game_id)\n",
    "    player_dict = create_player_dictionary(df) \n",
    "        \n",
    "    # Feed dictionary into a new pandas DataFrame, player_df.\n",
    "    player_df = dictionary_to_df(player_dict, window=window)\n",
    "    \n",
    "    return player_df"
   ]
  },
  {
   "cell_type": "code",
   "execution_count": 9,
   "metadata": {
    "collapsed": true
   },
   "outputs": [],
   "source": [
    "def create_labels(df):\n",
    "    \"\"\"\n",
    "    Create labels to append to games_df.\n",
    "    Return a column with same lenght as DataFrame.\n",
    "    Labels are randomized 0, 1 values;\n",
    "    1 to indicate matches where player 1 wins;\n",
    "    0 otherwise.\n",
    "    \"\"\"\n",
    "    \n",
    "    labels = pd.DataFrame(np.random.choice(2, len(df)))\n",
    "    return labels"
   ]
  },
  {
   "cell_type": "code",
   "execution_count": 10,
   "metadata": {
    "collapsed": true
   },
   "outputs": [],
   "source": [
    "def create_win_df(df, labels):\n",
    "    \"\"\"\n",
    "    \n",
    "    \"\"\"\n",
    "    \n",
    "    win_df = df['winner_name']\n",
    "    win_df = pd.concat([win_df, labels], axis=1)\n",
    "    win_df = win_df.reset_index()\n",
    "    win_df.columns = ['game_index', 'player_name', 'label']\n",
    "    \n",
    "    return win_df"
   ]
  },
  {
   "cell_type": "code",
   "execution_count": 11,
   "metadata": {
    "collapsed": true
   },
   "outputs": [],
   "source": [
    "def create_lose_df(df, labels):\n",
    "    \"\"\"\n",
    "    \n",
    "    \"\"\"\n",
    "    \n",
    "    lose_df = df['loser_name']\n",
    "\n",
    "    # Create \"reverse labels\" to concat onto lose_df.\n",
    "\n",
    "    reverse_labels = pd.DataFrame(np.zeros(len(labels)))\n",
    "    reverse_labels[labels == 0] = 1\n",
    "    reverse_labels = reverse_labels.astype(int)\n",
    "\n",
    "    # Concat to finish creating lose_df.\n",
    "    lose_df = pd.concat([lose_df, reverse_labels], axis=1)    \n",
    "    lose_df = lose_df.reset_index()\n",
    "    lose_df.columns = ['game_index', 'player_name', 'label']\n",
    "    \n",
    "    return lose_df"
   ]
  },
  {
   "cell_type": "code",
   "execution_count": 12,
   "metadata": {
    "collapsed": true
   },
   "outputs": [],
   "source": [
    "def players_stack(df, labels, beginning_year, ending_year, window):\n",
    "    \"\"\"\n",
    "    Long DF of players.\n",
    "    Winners stacked on top of losers.\n",
    "    \"\"\"\n",
    "    \n",
    "    # Create separate DataFrame of match winners\n",
    "    # and losers, and concat randomly assigned labels.\n",
    "    win_df = create_win_df(df, labels)\n",
    "    lose_df = create_lose_df(df, labels)\n",
    "    player_df = create_player_df(beginning_year, ending_year, window)\n",
    "\n",
    "    # Concat player's stats that are relevant for each match.\n",
    "    # This includes in-match stats as well as backward-looking\n",
    "    # (moving-average and expanding-window) stats.\n",
    "    win_df = pd.merge(win_df, player_df, how='left', on=['player_name', 'game_index'])\n",
    "    lose_df = pd.merge(lose_df, player_df, how='left', on=['player_name', 'game_index'])\n",
    "    players = pd.concat([win_df, lose_df], axis=0)\n",
    "    players = players.reset_index(drop=True)\n",
    "    \n",
    "    return players"
   ]
  },
  {
   "cell_type": "code",
   "execution_count": 13,
   "metadata": {
    "collapsed": true
   },
   "outputs": [],
   "source": [
    "def create_player1_df(players):\n",
    "    \"\"\"\n",
    "    \n",
    "    \"\"\"\n",
    "    \n",
    "    player1_df = players[players.label == 1]\n",
    "    player1_df = player1_df.drop('label', axis=1)\n",
    "    player1_df = player1_df.reset_index(drop=True)\n",
    "\n",
    "    player1_stats = ['game_index', 'player1_name',\n",
    "           'player1_seed', 'player1_ht', 'player1_age', 'player1_rank', 'player1_rank_points',         \n",
    "           'player1_ace', 'player1_df', 'player1_svpt', 'player1_1stIn', 'player1_1stWon',\n",
    "           'player1_2ndWon', 'player1_SvGms', 'player1_bpSaved', 'player1_bpFaced', 'player1_ace_expw', 'player1_ace_mavg',\n",
    "           'player1_df_expw', 'player1_df_mavg', 'player1_svpt_expw', 'player1_svpt_mavg', 'player1_1stIn_expw',\n",
    "           'player1_1stIn_mavg', 'player1_1stWon_expw', 'player1_1stWon_mavg', 'player1_2ndWon_expw',\n",
    "           'player1_2ndWon_mavg', 'player1_SvGms_expw', 'player1_SvGms_mavg', 'player1_bpSaved_expw',\n",
    "           'player1_bpSaved_mavg', 'player1_bpFaced_expw', 'player1_bpFaced_mavg']\n",
    "    player1_df.columns = player1_stats\n",
    "    player1_df = player1_df.sort_values('game_index')\n",
    "    player1_df = player1_df.reset_index(drop=True)\n",
    "    \n",
    "    return player1_df"
   ]
  },
  {
   "cell_type": "code",
   "execution_count": 14,
   "metadata": {
    "collapsed": true
   },
   "outputs": [],
   "source": [
    "def create_player2_df(players):\n",
    "    \"\"\"\n",
    "    \n",
    "    \"\"\"\n",
    "    \n",
    "    player2_df = players[players.label == 0]\n",
    "    player2_df = player2_df.drop('label', axis=1)\n",
    "    player2_df = player2_df.reset_index(drop=True)\n",
    "\n",
    "    player2_stats = ['game_index', 'player2_name',\n",
    "           'player2_seed', 'player2_ht', 'player2_age', 'player2_rank', 'player2_rank_points',         \n",
    "           'player2_ace', 'player2_df', 'player2_svpt', 'player2_1stIn', 'player2_1stWon',\n",
    "           'player2_2ndWon', 'player2_SvGms', 'player2_bpSaved', 'player2_bpFaced', 'player2_ace_expw', 'player2_ace_mavg',\n",
    "           'player2_df_expw', 'player2_df_mavg', 'player2_svpt_expw', 'player2_svpt_mavg', 'player2_1stIn_expw',\n",
    "           'player2_1stIn_mavg', 'player2_1stWon_expw', 'player2_1stWon_mavg', 'player2_2ndWon_expw',\n",
    "           'player2_2ndWon_mavg', 'player2_SvGms_expw', 'player2_SvGms_mavg', 'player2_bpSaved_expw',\n",
    "           'player2_bpSaved_mavg', 'player2_bpFaced_expw', 'player2_bpFaced_mavg']\n",
    "    player2_df.columns = player2_stats\n",
    "    player2_df = player2_df.sort_values('game_index')\n",
    "    player2_df = player2_df.drop('game_index', axis=1)\n",
    "    player2_df = player2_df.reset_index(drop=True)\n",
    "    \n",
    "    return player2_df"
   ]
  },
  {
   "cell_type": "code",
   "execution_count": 15,
   "metadata": {
    "collapsed": true
   },
   "outputs": [],
   "source": [
    "def grow_game_df(game_df, player1_df, player2_df, labels):\n",
    "    \"\"\"\n",
    "    \n",
    "    \"\"\"\n",
    "    \n",
    "    game_df = pd.concat([game_df, player1_df, player2_df], axis=1)\n",
    "    game_df['label'] = labels\n",
    "    \n",
    "    return game_df"
   ]
  },
  {
   "cell_type": "code",
   "execution_count": 16,
   "metadata": {
    "collapsed": true
   },
   "outputs": [],
   "source": [
    "def add_delta_stats(df):\n",
    "    \"\"\"\n",
    "    Addnew features to the DF by taking the difference\n",
    "    between player1 and player2 stats.\n",
    "    \"\"\"\n",
    "    \n",
    "    delta_stats_p1 = [\n",
    "        'player1_seed', 'player1_ht', 'player1_age', 'player1_rank', 'player1_rank_points',\n",
    "        'player1_ace_mavg', 'player1_df_mavg', 'player1_svpt_mavg',\n",
    "        'player1_1stIn_mavg', 'player1_1stWon_mavg', 'player1_2ndWon_mavg',\n",
    "        'player1_SvGms_mavg', 'player1_bpSaved_mavg', 'player1_bpFaced_mavg',\n",
    "        'player1_ace_expw', 'player1_df_expw', 'player1_svpt_expw',\n",
    "           'player1_1stIn_expw', 'player1_1stWon_expw', 'player1_2ndWon_expw',\n",
    "           'player1_SvGms_expw', 'player1_bpSaved_expw', 'player1_bpFaced_expw',\n",
    "        ]\n",
    "\n",
    "    delta_stats_p2 = [\n",
    "        'player2_seed', 'player2_ht', 'player2_age', 'player2_rank', 'player2_rank_points',\n",
    "        'player2_ace_mavg', 'player2_df_mavg', 'player2_svpt_mavg',\n",
    "        'player2_1stIn_mavg', 'player2_1stWon_mavg', 'player2_2ndWon_mavg',\n",
    "        'player2_SvGms_mavg', 'player2_bpSaved_mavg', 'player2_bpFaced_mavg',\n",
    "        'player2_ace_expw', 'player2_df_expw', 'player2_svpt_expw',\n",
    "           'player2_1stIn_expw', 'player2_1stWon_expw', 'player2_2ndWon_expw',\n",
    "           'player2_SvGms_expw', 'player2_bpSaved_expw', 'player2_bpFaced_expw'\n",
    "        ]\n",
    "\n",
    "    for stat_p1, stat_p2 in zip(delta_stats_p1, delta_stats_p2):\n",
    "        new_stat_name = \"delta_\" + '_'.join(stat_p1.split('_')[1:])\n",
    "        df[new_stat_name] = df[stat_p1] - df[stat_p2]\n",
    "        \n",
    "    return df"
   ]
  },
  {
   "cell_type": "code",
   "execution_count": 17,
   "metadata": {
    "collapsed": true
   },
   "outputs": [],
   "source": [
    "def create_game_df(beginning_year=1991, ending_year=2017, window=20):\n",
    "    \"\"\"\n",
    "    THIS IS A MAIN FUNCTION.\n",
    "    \n",
    "    This function creates the DataFrame of matches.\n",
    "    Formatted so that a randomized subset of the rows\n",
    "    were won by player 1 -- noted with a label of 1.\n",
    "    The other half of rows were won by player 2 and are\n",
    "    marked with a label of 0.\n",
    "    \n",
    "    Columns include match-level data as well as all stats:\n",
    "    in-match, moving-average, and moving-window.\n",
    "    \n",
    "    This is the DataFrame that will ultimately be fed\n",
    "    into the sklearn classification models for fitting.\n",
    "    \"\"\"\n",
    "    \n",
    "    # Grab the data, read into DF, handle some data issues and convert tourney_date to datetime.\n",
    "    df = read_data_into_df(beginning_year=beginning_year, ending_year=ending_year)\n",
    "\n",
    "    # Create labels; they will be the final label\n",
    "    # for games_df, and will be added in intermittant\n",
    "    # steps.\n",
    "    labels = create_labels(df)\n",
    "\n",
    "    # Create long DF of players.  Winners are stacked\n",
    "    # on top of losers.\n",
    "    players = players_stack(df, labels, beginning_year, ending_year, window)\n",
    "\n",
    "    # Create stump of game_df to concat onto later.\n",
    "    game_stats = ['surface', 'tourney_level', 'tourney_date', 'tourney_name']\n",
    "    game_df = df[game_stats]\n",
    "\n",
    "    # Create DF of all player1's\n",
    "    player1_df = create_player1_df(players)\n",
    "\n",
    "    # Create DF of all player2's\n",
    "    player2_df = create_player2_df(players)\n",
    "\n",
    "    # Concat player1_df and player2_df onto stump game_df.\n",
    "    game_df = grow_game_df(game_df, player1_df, player2_df, labels)\n",
    "    \n",
    "    # Create new columns by subtracting player2 stats\n",
    "    # from player1 stats.\n",
    "    game_df = add_delta_stats(game_df)\n",
    "    \n",
    "    return game_df"
   ]
  },
  {
   "cell_type": "code",
   "execution_count": 18,
   "metadata": {
    "collapsed": true
   },
   "outputs": [],
   "source": [
    "game_df = create_game_df()"
   ]
  },
  {
   "cell_type": "code",
   "execution_count": 19,
   "metadata": {
    "collapsed": true
   },
   "outputs": [],
   "source": [
    "# picklefile = 'tennis_data.pkl'\n",
    "# with open(picklefile, 'wb') as f_obj:\n",
    "#     pickle.dump(game_df, f_obj)"
   ]
  },
  {
   "cell_type": "code",
   "execution_count": null,
   "metadata": {
    "collapsed": true
   },
   "outputs": [],
   "source": []
  }
 ],
 "metadata": {
  "kernelspec": {
   "display_name": "Python 3",
   "language": "python",
   "name": "python3"
  },
  "language_info": {
   "codemirror_mode": {
    "name": "ipython",
    "version": 3
   },
   "file_extension": ".py",
   "mimetype": "text/x-python",
   "name": "python",
   "nbconvert_exporter": "python",
   "pygments_lexer": "ipython3",
   "version": "3.6.1"
  }
 },
 "nbformat": 4,
 "nbformat_minor": 2
}
