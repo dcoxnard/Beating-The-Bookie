{
 "cells": [
  {
   "cell_type": "code",
   "execution_count": 1,
   "metadata": {
    "collapsed": true
   },
   "outputs": [],
   "source": [
    "list1 = ['Acapulco',\n",
    " 'Antwerp',\n",
    " 'Atlanta',\n",
    " 'Auckland',\n",
    " 'Australian Open',\n",
    " 'Barcelona',\n",
    " 'Basel',\n",
    " 'Bastad',\n",
    " 'Beijing',\n",
    " 'Brisbane',\n",
    " 'Bucharest',\n",
    " 'Buenos Aires',\n",
    " 'Canada Masters',\n",
    " 'Chengdu',\n",
    " 'Chennai',\n",
    " 'Cincinnati Masters',\n",
    " 'Delray Beach',\n",
    " 'Doha',\n",
    " 'Dubai',\n",
    " 'Estoril',\n",
    " 'Geneva',\n",
    " 'Gstaad',\n",
    " 'Halle',\n",
    " 'Hamburg',\n",
    " 'Houston',\n",
    " 'Indian Wells Masters',\n",
    " 'Istanbul',\n",
    " 'Kitzbuhel',\n",
    " 'London',\n",
    " 'Los Cabos',\n",
    " 'Madrid Masters',\n",
    " 'Marrakech',\n",
    " 'Marseille',\n",
    " 'Memphis',\n",
    " 'Metz',\n",
    " 'Miami Masters',\n",
    " 'Monte Carlo Masters',\n",
    " 'Montpellier',\n",
    " 'Moscow',\n",
    " 'Munich',\n",
    " 'Newport',\n",
    " 'Nice',\n",
    " 'Nottingham',\n",
    " 'Olympics',\n",
    " 'Paris Masters',\n",
    " 'Quito',\n",
    " 'Rio de Janeiro',\n",
    " 'Roland Garros',\n",
    " 'Rome Masters',\n",
    " 'Rotterdam',\n",
    " 'Sao Paulo',\n",
    " 'Shanghai Masters',\n",
    " 'Shenzhen',\n",
    " 'Sofia',\n",
    " 'St.Petersburg',\n",
    " 'Stockholm',\n",
    " 'Stuttgart',\n",
    " 'Sydney',\n",
    " 'Tokyo',\n",
    " 'Umag',\n",
    " 'Us Open',\n",
    " 'Vienna',\n",
    " 'Washington',\n",
    " 'Wimbledon',\n",
    " 'Winston-Salem',\n",
    " 's-Hertogenbosch']"
   ]
  },
  {
   "cell_type": "code",
   "execution_count": 2,
   "metadata": {},
   "outputs": [],
   "source": [
    "list2 = ['atp-acapulco-2016',\n",
    " 'atp-antwerp',\n",
    " 'atp-atlanta-2016',\n",
    " 'atp-auckland-2016',\n",
    " '',\n",
    " '',\n",
    " 'atp-basel',\n",
    " 'atp-bastad-2016',\n",
    " 'atp-beijing',\n",
    " 'atp-brisbane-2016',\n",
    " 'atp-bucharest',\n",
    " 'atp-buenos-aires-2016',\n",
    " '',\n",
    " 'atp-chengdu',\n",
    " 'atp-chennai-2016',\n",
    " 'atp-cincinnati-2016',\n",
    " 'atp-delray-beach-2016',\n",
    " 'atp-doha-2016',\n",
    " 'atp-dubai-2016',\n",
    " 'atp-estoril-2016',\n",
    " 'atp-geneva-2016',\n",
    " 'atp-gstaad-2016',\n",
    " 'atp-halle-2016',\n",
    " 'atp-hamburg-2016',\n",
    " 'atp-houston-2016',\n",
    " '',\n",
    " 'atp-istanbul-2016',\n",
    " 'atp-kitzbuhel-2016',\n",
    " 'atp-london-2016',\n",
    " 'atp-los-cabos-2016',\n",
    " '',\n",
    " 'atp-marrakech-2016',\n",
    " 'atp-marseille-2016',\n",
    " 'atp-memphis-2016',\n",
    " 'atp-metz',\n",
    " '',\n",
    " '',\n",
    " 'atp-montpellier-2016',\n",
    " 'atp-moscow',\n",
    " 'atp-munich-2016',\n",
    " 'atp-newport-2016',\n",
    " 'atp-nice',\n",
    " 'atp-nottingham',\n",
    " 'atp-olympic-games',\n",
    " 'atp-paris',\n",
    " 'atp-quito-2016',\n",
    " 'atp-rio-de-janeiro-2016',\n",
    " '',\n",
    " '',\n",
    " 'atp-rotterdam-2016',\n",
    " 'atp-sao-paulo-2016',\n",
    " 'atp-shanghai',\n",
    " 'atp-shenzhen',\n",
    " 'atp-sofia-2016',\n",
    " 'atp-st-petersburg',\n",
    " 'atp-stockholm',\n",
    " 'atp-stuttgart-2016',\n",
    " 'atp-sydney-2016',\n",
    " 'atp-tokyo',\n",
    " 'atp-umag-2016',\n",
    " 'atp-us-open-2016',\n",
    " 'atp-vienna',\n",
    " '',\n",
    " '',\n",
    " 'atp-winston-salem-2016',\n",
    " 'atp-hertogenbosch-2016']"
   ]
  },
  {
   "cell_type": "code",
   "execution_count": null,
   "metadata": {},
   "outputs": [],
   "source": []
  },
  {
   "cell_type": "code",
   "execution_count": 3,
   "metadata": {
    "collapsed": true
   },
   "outputs": [],
   "source": [
    "import pandas as pd\n",
    "import numpy as np\n",
    "import datetime\n",
    "import matplotlib.pyplot as plt\n",
    "%matplotlib inline"
   ]
  },
  {
   "cell_type": "code",
   "execution_count": 4,
   "metadata": {
    "collapsed": true
   },
   "outputs": [],
   "source": [
    "# Read tennis odds from Kaggle Dataset\n",
    "\n",
    "df = pd.read_csv('t_odds.csv')"
   ]
  },
  {
   "cell_type": "code",
   "execution_count": 5,
   "metadata": {
    "collapsed": true
   },
   "outputs": [],
   "source": [
    "# Read the DataFrame constructed as game_df.\n",
    "\n",
    "gdf = pd.read_pickle('oct_23.pkl')"
   ]
  },
  {
   "cell_type": "code",
   "execution_count": 6,
   "metadata": {
    "collapsed": true
   },
   "outputs": [],
   "source": [
    "# Get just the betting odds from all bookies, for season 2016\n",
    "# Extension 1: fix 2017 data in games_df module to use 2017 as holdout\n",
    "\n",
    "df = df[df.tournament_name.str.contains(\"atp\")]\n",
    "df = df.loc[df.doubles == 0]\n",
    "df.date = pd.to_datetime(df.date)\n",
    "df = df.loc[(df.date >= datetime.date(month=1, year=2016, day=1)) &\n",
    "            (df.date <= datetime.date(month=1, year=2017, day=1))]"
   ]
  },
  {
   "cell_type": "code",
   "execution_count": 7,
   "metadata": {
    "collapsed": true
   },
   "outputs": [],
   "source": [
    "df = df.drop(['10bet_payout', '18bet_payout', '5dimes_payout', 'bet-at-home_payout',\n",
    "         'bet365_payout', 'bethard_payout', 'betolimp_payout', 'betrally_payout',\n",
    "         'bwin_payout', 'jetbull_payout', 'pinnacle_payout', 'marathonbet_payout',\n",
    "         'tempobet_payout', 'tonybet_payout', 'unibet_payout'], axis=1)"
   ]
  },
  {
   "cell_type": "code",
   "execution_count": 8,
   "metadata": {
    "collapsed": true
   },
   "outputs": [],
   "source": [
    "# Get just the rows from game_df in saeson 2016.\n",
    "\n",
    "gdf.tourney_date = pd.to_datetime(gdf.tourney_date)\n",
    "gdf = gdf.loc[(gdf.tourney_date >= datetime.date(month=1, year=2016, day=1)) & \n",
    "             (gdf.tourney_date <= datetime.date(month=1, year=2017, day=1))]"
   ]
  },
  {
   "cell_type": "code",
   "execution_count": 9,
   "metadata": {
    "collapsed": true
   },
   "outputs": [],
   "source": [
    "# Helper fxn.\n",
    "\n",
    "def convert_name(full_name):\n",
    "    \"\"\"\n",
    "    Convert First/Last name combo to Last Name, First Initial.\n",
    "    E.g. Roger Federer --> Federer R.\n",
    "    \"\"\"\n",
    "    x = full_name.split()\n",
    "    return x[1].title() + \" \" + x[0][0].upper() + \".\""
   ]
  },
  {
   "cell_type": "code",
   "execution_count": 10,
   "metadata": {
    "collapsed": true
   },
   "outputs": [],
   "source": [
    "# Now apply name conversion to all of gdf.\n",
    "\n",
    "gdf['player1_name'] = gdf.player1_name.apply(convert_name)\n",
    "gdf['player2_name'] = gdf.player2_name.apply(convert_name);"
   ]
  },
  {
   "cell_type": "code",
   "execution_count": 11,
   "metadata": {
    "collapsed": true
   },
   "outputs": [],
   "source": [
    "# Helper fxn.\n",
    "\n",
    "def implied_probability(decimal_odds):\n",
    "    \"\"\"\n",
    "    Convert a player's decimal odds to implied probabilty.\n",
    "    \"\"\"\n",
    "    \n",
    "    return (1/decimal_odds) * 100"
   ]
  },
  {
   "cell_type": "code",
   "execution_count": 12,
   "metadata": {
    "collapsed": true
   },
   "outputs": [],
   "source": [
    "odds_columns = ['10bet_player_1_odd',\n",
    "       '10bet_player_2_odd', '18bet_player_1_odd',\n",
    "       '18bet_player_2_odd', '5dimes_player_1_odd',\n",
    "       '5dimes_player_2_odd', 'bet-at-home_player_1_odd',\n",
    "       'bet-at-home_player_2_odd', 'bet365_player_1_odd',\n",
    "       'bet365_player_2_odd', 'bethard_player_1_odd',\n",
    "       'bethard_player_2_odd', 'betolimp_player_1_odd',\n",
    "       'betolimp_player_2_odd', 'betrally_player_1_odd',\n",
    "       'betrally_player_2_odd', 'bwin_player_1_odd',\n",
    "       'bwin_player_2_odd', 'jetbull_player_1_odd',\n",
    "       'jetbull_player_2_odd',\n",
    "       'marathonbet_player_1_odd', 'marathonbet_player_2_odd',\n",
    "       'pinnacle_player_1_odd', 'pinnacle_player_2_odd',\n",
    "       'tempobet_player_1_odd', 'tempobet_player_2_odd',\n",
    "       'tonybet_player_1_odd', 'tonybet_player_2_odd',\n",
    "       'unibet_player_1_odd', 'unibet_player_2_odd']\n",
    "\n",
    "player1_odds_columns = ['10bet_player_1_odd', '18bet_player_1_odd', '5dimes_player_1_odd',\n",
    "'bet-at-home_player_1_odd', 'bet365_player_1_odd', 'bethard_player_1_odd',\n",
    "'betolimp_player_1_odd', 'betrally_player_1_odd', 'bwin_player_1_odd',\n",
    "'jetbull_player_1_odd', 'marathonbet_player_1_odd', 'pinnacle_player_1_odd',\n",
    "'tempobet_player_1_odd', 'tonybet_player_1_odd', 'unibet_player_1_odd']\n",
    "\n",
    "player2_odds_columns = ['10bet_player_2_odd', '18bet_player_2_odd', '5dimes_player_2_odd',\n",
    "'bet-at-home_player_2_odd', 'bet365_player_2_odd', 'bethard_player_2_odd',\n",
    "'betolimp_player_2_odd', 'betrally_player_2_odd', 'bwin_player_2_odd',\n",
    "'jetbull_player_2_odd', 'marathonbet_player_2_odd', 'pinnacle_player_2_odd',\n",
    "'tempobet_player_2_odd', 'tonybet_player_2_odd', 'unibet_player_2_odd']"
   ]
  },
  {
   "cell_type": "code",
   "execution_count": 13,
   "metadata": {
    "collapsed": true
   },
   "outputs": [],
   "source": [
    "# Convert to implied probability\n",
    "for odds_column in odds_columns:\n",
    "    df[odds_column] = df[odds_column].apply(implied_probability)"
   ]
  },
  {
   "cell_type": "code",
   "execution_count": 14,
   "metadata": {
    "collapsed": true
   },
   "outputs": [],
   "source": [
    "# Compute avg implied probability and insert into columns.\n",
    "df['player1_avg_odds'] = df[player1_odds_columns].mean(axis=1)\n",
    "df['player2_avg_odds'] = df[player2_odds_columns].mean(axis=1)\n",
    "\n",
    "# Drop unneeded columns.\n",
    "df = df.drop(player1_odds_columns, axis=1)\n",
    "df = df.drop(player2_odds_columns, axis=1)"
   ]
  },
  {
   "cell_type": "code",
   "execution_count": 15,
   "metadata": {
    "collapsed": true
   },
   "outputs": [],
   "source": [
    "# Get just the month-year info from gdf.tourney_date, and ignore the rest.\\\n",
    "# day is set to equal 1 in all cases: this is ok for my purposes (i think)\n",
    "\n",
    "gdf['merge_date'] = gdf.tourney_date.astype(str).apply(lambda x: x[:7])\n",
    "gdf.merge_date = gdf.merge_date.apply(lambda x: datetime.datetime.strptime(x, '%Y-%m').date())\n",
    "\n",
    "# Do the same for df.date.\n",
    "\n",
    "df['merge_date'] = df.date.astype(str).apply(lambda x: x[:7])\n",
    "df.merge_date = df.merge_date.apply(lambda x: datetime.datetime.strptime(x, '%Y-%m').date())"
   ]
  },
  {
   "cell_type": "code",
   "execution_count": 16,
   "metadata": {
    "collapsed": true
   },
   "outputs": [],
   "source": [
    "#### The case where player1 / player2 tuples DO match up.\n",
    "\n",
    "# Create a new column to merge on: tuple of player names.\n",
    "\n",
    "# Create new column\n",
    "df['players_forward'] = df.player_1_name + \",\" + df.player_2_name\n",
    "gdf['players_forward'] = gdf.player1_name + \",\" + gdf.player2_name\n",
    "\n",
    "# Split into list object\n",
    "gdf.players_forward = gdf.players_forward.apply(lambda x: x.split(','))\n",
    "df.players_forward = df.players_forward.apply(lambda x: x.split(','))\n",
    "\n",
    "# Convert to tuple.\n",
    "gdf.players_forward = gdf.players_forward.apply(lambda x: tuple(x))\n",
    "df.players_forward = df.players_forward.apply(lambda x: tuple(x))"
   ]
  },
  {
   "cell_type": "code",
   "execution_count": 17,
   "metadata": {
    "collapsed": true
   },
   "outputs": [],
   "source": [
    "#### The case where player1 / player2 tuples DO NOT match up.\n",
    "\n",
    "# Create a new column to merge on: tuple of player names.\n",
    "\n",
    "# Create new column\n",
    "df['players_backward'] = df.player_2_name + \",\" + df.player_1_name\n",
    "gdf['players_backward'] = gdf.player1_name + \",\" + gdf.player2_name\n",
    "\n",
    "# Split into list object\n",
    "gdf.players_backward = gdf.players_backward.apply(lambda x: x.split(','))\n",
    "df.players_backward = df.players_backward.apply(lambda x: x.split(','))\n",
    "\n",
    "# Convert to tuple.\n",
    "gdf.players_backward = gdf.players_backward.apply(lambda x: tuple(x))\n",
    "df.players_backward = df.players_backward.apply(lambda x: tuple(x))"
   ]
  },
  {
   "cell_type": "code",
   "execution_count": null,
   "metadata": {
    "collapsed": true
   },
   "outputs": [],
   "source": []
  },
  {
   "cell_type": "code",
   "execution_count": null,
   "metadata": {
    "collapsed": true
   },
   "outputs": [],
   "source": []
  },
  {
   "cell_type": "code",
   "execution_count": null,
   "metadata": {
    "collapsed": true
   },
   "outputs": [],
   "source": []
  },
  {
   "cell_type": "code",
   "execution_count": 18,
   "metadata": {},
   "outputs": [
    {
     "data": {
      "text/html": [
       "<div>\n",
       "<style>\n",
       "    .dataframe thead tr:only-child th {\n",
       "        text-align: right;\n",
       "    }\n",
       "\n",
       "    .dataframe thead th {\n",
       "        text-align: left;\n",
       "    }\n",
       "\n",
       "    .dataframe tbody tr th {\n",
       "        vertical-align: top;\n",
       "    }\n",
       "</style>\n",
       "<table border=\"1\" class=\"dataframe\">\n",
       "  <thead>\n",
       "    <tr style=\"text-align: right;\">\n",
       "      <th></th>\n",
       "      <th>date</th>\n",
       "      <th>tournament_name</th>\n",
       "      <th>players_forward</th>\n",
       "      <th>players_backward</th>\n",
       "    </tr>\n",
       "  </thead>\n",
       "  <tbody>\n",
       "    <tr>\n",
       "      <th>36</th>\n",
       "      <td>2016-08-26 02:00:00</td>\n",
       "      <td>atp-us-open-2016</td>\n",
       "      <td>(Opelka R., Giraldo S.)</td>\n",
       "      <td>(Giraldo S., Opelka R.)</td>\n",
       "    </tr>\n",
       "    <tr>\n",
       "      <th>71</th>\n",
       "      <td>2016-06-06 12:50:00</td>\n",
       "      <td>atp-hertogenbosch-2016</td>\n",
       "      <td>(Nishioka Y., Kozlov S.)</td>\n",
       "      <td>(Kozlov S., Nishioka Y.)</td>\n",
       "    </tr>\n",
       "    <tr>\n",
       "      <th>134</th>\n",
       "      <td>2016-05-17 12:00:00</td>\n",
       "      <td>atp-nice</td>\n",
       "      <td>(Munoz-De La Nava D., Seppi A.)</td>\n",
       "      <td>(Seppi A., Munoz-De La Nava D.)</td>\n",
       "    </tr>\n",
       "    <tr>\n",
       "      <th>135</th>\n",
       "      <td>2016-02-17 18:15:00</td>\n",
       "      <td>atp-rio-de-janeiro-2016</td>\n",
       "      <td>(Thiem D., Schwartzman D.)</td>\n",
       "      <td>(Schwartzman D., Thiem D.)</td>\n",
       "    </tr>\n",
       "    <tr>\n",
       "      <th>185</th>\n",
       "      <td>2016-08-26 17:30:00</td>\n",
       "      <td>atp-us-open-2016</td>\n",
       "      <td>(Khachanov K., Rubin N.)</td>\n",
       "      <td>(Rubin N., Khachanov K.)</td>\n",
       "    </tr>\n",
       "  </tbody>\n",
       "</table>\n",
       "</div>"
      ],
      "text/plain": [
       "                   date          tournament_name  \\\n",
       "36  2016-08-26 02:00:00         atp-us-open-2016   \n",
       "71  2016-06-06 12:50:00   atp-hertogenbosch-2016   \n",
       "134 2016-05-17 12:00:00                 atp-nice   \n",
       "135 2016-02-17 18:15:00  atp-rio-de-janeiro-2016   \n",
       "185 2016-08-26 17:30:00         atp-us-open-2016   \n",
       "\n",
       "                     players_forward                 players_backward  \n",
       "36           (Opelka R., Giraldo S.)          (Giraldo S., Opelka R.)  \n",
       "71          (Nishioka Y., Kozlov S.)         (Kozlov S., Nishioka Y.)  \n",
       "134  (Munoz-De La Nava D., Seppi A.)  (Seppi A., Munoz-De La Nava D.)  \n",
       "135       (Thiem D., Schwartzman D.)       (Schwartzman D., Thiem D.)  \n",
       "185         (Khachanov K., Rubin N.)         (Rubin N., Khachanov K.)  "
      ]
     },
     "execution_count": 18,
     "metadata": {},
     "output_type": "execute_result"
    }
   ],
   "source": [
    "df[['date', 'tournament_name', 'players_forward', 'players_backward']].head()"
   ]
  },
  {
   "cell_type": "code",
   "execution_count": 19,
   "metadata": {},
   "outputs": [
    {
     "data": {
      "text/html": [
       "<div>\n",
       "<style>\n",
       "    .dataframe thead tr:only-child th {\n",
       "        text-align: right;\n",
       "    }\n",
       "\n",
       "    .dataframe thead th {\n",
       "        text-align: left;\n",
       "    }\n",
       "\n",
       "    .dataframe tbody tr th {\n",
       "        vertical-align: top;\n",
       "    }\n",
       "</style>\n",
       "<table border=\"1\" class=\"dataframe\">\n",
       "  <thead>\n",
       "    <tr style=\"text-align: right;\">\n",
       "      <th></th>\n",
       "      <th>tourney_date</th>\n",
       "      <th>tourney_name</th>\n",
       "      <th>players_forward</th>\n",
       "      <th>players_backward</th>\n",
       "    </tr>\n",
       "  </thead>\n",
       "  <tbody>\n",
       "    <tr>\n",
       "      <th>83636</th>\n",
       "      <td>2016-01-04 00:01:00</td>\n",
       "      <td>Brisbane</td>\n",
       "      <td>(Federer R., Raonic M.)</td>\n",
       "      <td>(Federer R., Raonic M.)</td>\n",
       "    </tr>\n",
       "    <tr>\n",
       "      <th>83637</th>\n",
       "      <td>2016-01-04 00:01:00</td>\n",
       "      <td>Brisbane</td>\n",
       "      <td>(Federer R., Thiem D.)</td>\n",
       "      <td>(Federer R., Thiem D.)</td>\n",
       "    </tr>\n",
       "    <tr>\n",
       "      <th>83638</th>\n",
       "      <td>2016-01-04 00:01:00</td>\n",
       "      <td>Brisbane</td>\n",
       "      <td>(Raonic M., Tomic B.)</td>\n",
       "      <td>(Raonic M., Tomic B.)</td>\n",
       "    </tr>\n",
       "    <tr>\n",
       "      <th>83639</th>\n",
       "      <td>2016-01-04 00:01:00</td>\n",
       "      <td>Brisbane</td>\n",
       "      <td>(Federer R., Dimitrov G.)</td>\n",
       "      <td>(Federer R., Dimitrov G.)</td>\n",
       "    </tr>\n",
       "    <tr>\n",
       "      <th>83640</th>\n",
       "      <td>2016-01-04 00:01:00</td>\n",
       "      <td>Brisbane</td>\n",
       "      <td>(Cilic M., Thiem D.)</td>\n",
       "      <td>(Cilic M., Thiem D.)</td>\n",
       "    </tr>\n",
       "  </tbody>\n",
       "</table>\n",
       "</div>"
      ],
      "text/plain": [
       "             tourney_date tourney_name            players_forward  \\\n",
       "83636 2016-01-04 00:01:00     Brisbane    (Federer R., Raonic M.)   \n",
       "83637 2016-01-04 00:01:00     Brisbane     (Federer R., Thiem D.)   \n",
       "83638 2016-01-04 00:01:00     Brisbane      (Raonic M., Tomic B.)   \n",
       "83639 2016-01-04 00:01:00     Brisbane  (Federer R., Dimitrov G.)   \n",
       "83640 2016-01-04 00:01:00     Brisbane       (Cilic M., Thiem D.)   \n",
       "\n",
       "                players_backward  \n",
       "83636    (Federer R., Raonic M.)  \n",
       "83637     (Federer R., Thiem D.)  \n",
       "83638      (Raonic M., Tomic B.)  \n",
       "83639  (Federer R., Dimitrov G.)  \n",
       "83640       (Cilic M., Thiem D.)  "
      ]
     },
     "execution_count": 19,
     "metadata": {},
     "output_type": "execute_result"
    }
   ],
   "source": [
    "gdf[['tourney_date', 'tourney_name', 'players_forward', 'players_backward']].head()"
   ]
  },
  {
   "cell_type": "code",
   "execution_count": 20,
   "metadata": {
    "collapsed": true
   },
   "outputs": [],
   "source": [
    "td = dict(zip(list1, list2))"
   ]
  },
  {
   "cell_type": "code",
   "execution_count": 21,
   "metadata": {},
   "outputs": [],
   "source": [
    "td_backwards = dict(zip(list2, list1))"
   ]
  },
  {
   "cell_type": "code",
   "execution_count": 22,
   "metadata": {},
   "outputs": [],
   "source": [
    "def convert_tourney_name(name):\n",
    "    new_name = td_backwards.get(name, '')\n",
    "    return new_name"
   ]
  },
  {
   "cell_type": "code",
   "execution_count": 23,
   "metadata": {},
   "outputs": [],
   "source": [
    "df.tournament_name = df.tournament_name.apply(convert_tourney_name)"
   ]
  },
  {
   "cell_type": "code",
   "execution_count": 24,
   "metadata": {},
   "outputs": [
    {
     "data": {
      "text/plain": [
       "36                Us Open\n",
       "71        s-Hertogenbosch\n",
       "134                  Nice\n",
       "135        Rio de Janeiro\n",
       "185               Us Open\n",
       "194         Paris Masters\n",
       "345                  Doha\n",
       "364         St.Petersburg\n",
       "402                 Dubai\n",
       "502                  Umag\n",
       "576                Moscow\n",
       "773               Us Open\n",
       "789               Hamburg\n",
       "870                 Quito\n",
       "884           Montpellier\n",
       "993             Los Cabos\n",
       "1065             Istanbul\n",
       "1094            Sao Paulo\n",
       "1231              Chengdu\n",
       "1288              Us Open\n",
       "1378                Tokyo\n",
       "1434              Chennai\n",
       "1628                Tokyo\n",
       "1658                Tokyo\n",
       "1783              Beijing\n",
       "1843                Basel\n",
       "1870       Rio de Janeiro\n",
       "2031             Shenzhen\n",
       "2178                Halle\n",
       "2188              Chengdu\n",
       "               ...       \n",
       "137871              Basel\n",
       "137952            Us Open\n",
       "138003            Atlanta\n",
       "138048             Geneva\n",
       "138073       Delray Beach\n",
       "138106             Bastad\n",
       "138169               Umag\n",
       "138222            Us Open\n",
       "138355            Chennai\n",
       "138468          Bucharest\n",
       "138577       Buenos Aires\n",
       "138637              Tokyo\n",
       "138715             Bastad\n",
       "138745            Newport\n",
       "138805             Bastad\n",
       "138903              Dubai\n",
       "138999            Houston\n",
       "139112               Umag\n",
       "139126            Us Open\n",
       "139141           Acapulco\n",
       "139177            Us Open\n",
       "139209            Us Open\n",
       "139274            Chennai\n",
       "139283            Us Open\n",
       "139288           Auckland\n",
       "139315          Stockholm\n",
       "139332          Los Cabos\n",
       "139340    s-Hertogenbosch\n",
       "139344           Acapulco\n",
       "139423              Dubai\n",
       "Name: tournament_name, Length: 2312, dtype: object"
      ]
     },
     "execution_count": 24,
     "metadata": {},
     "output_type": "execute_result"
    }
   ],
   "source": [
    "df.tournament_name"
   ]
  },
  {
   "cell_type": "code",
   "execution_count": 32,
   "metadata": {},
   "outputs": [],
   "source": [
    "gdf.rename(columns={'tourney_name': 'tournament_name'}, inplace=True)"
   ]
  },
  {
   "cell_type": "code",
   "execution_count": 34,
   "metadata": {
    "collapsed": true
   },
   "outputs": [],
   "source": [
    "# Create merged DataFrames.\n",
    "\n",
    "forward_match = gdf.merge(df, on=['tournament_name', 'players_forward'])\n",
    "backward_match = gdf.merge(df, on=['tournament_name', 'players_backward'])"
   ]
  },
  {
   "cell_type": "code",
   "execution_count": 35,
   "metadata": {},
   "outputs": [],
   "source": [
    "# Switch the p1 and p2 probabilities in backward_match, to correct for the misordering.\n",
    "\n",
    "actual_p1_prob = backward_match.player2_avg_odds.copy(deep=True)\n",
    "actual_p2_prob = backward_match.player1_avg_odds.copy(deep=True)\n",
    "backward_match.player1_avg_odds = actual_p1_prob\n",
    "backward_match.player2_avg_odds = actual_p2_prob"
   ]
  },
  {
   "cell_type": "code",
   "execution_count": 36,
   "metadata": {
    "collapsed": true
   },
   "outputs": [],
   "source": [
    "# DataFrames ready to concat and reorder based on tourney_date.\n",
    "\n",
    "games_df = pd.concat([forward_match, backward_match])"
   ]
  },
  {
   "cell_type": "code",
   "execution_count": 37,
   "metadata": {
    "collapsed": true
   },
   "outputs": [],
   "source": [
    "### May need to add more columns -- don't remember off the top if my head what exactly went into games_df before.\n",
    "\n",
    "game = ['game_index', 'label', 'player1_avg_odds', 'player2_avg_odds']\n",
    "\n",
    "deltas = ['delta_1stIn_expw', 'delta_1stIn_mavg', 'delta_1stWon_expw',\n",
    "'delta_1stWon_mavg', 'delta_2ndWon_expw', 'delta_2ndWon_mavg',\n",
    "'delta_SvGms_expw', 'delta_SvGms_mavg', 'delta_ace_expw',\n",
    "'delta_ace_mavg', 'delta_age', 'delta_bpFaced_expw', 'delta_bpFaced_mavg',\n",
    "'delta_bpSaved_expw', 'delta_bpSaved_mavg', 'delta_df_expw',\n",
    "'delta_df_mavg', 'delta_ht', 'delta_rank', 'delta_rank_points',\n",
    "'delta_svpt_expw', 'delta_svpt_mavg']\n",
    "\n",
    "cols = game + deltas\n",
    "games_df = games_df[cols]\n",
    "games_df = games_df.sort_values('game_index')"
   ]
  },
  {
   "cell_type": "code",
   "execution_count": 38,
   "metadata": {},
   "outputs": [
    {
     "data": {
      "text/plain": [
       "(1089, 26)"
      ]
     },
     "execution_count": 38,
     "metadata": {},
     "output_type": "execute_result"
    }
   ],
   "source": [
    "games_df.shape"
   ]
  },
  {
   "cell_type": "code",
   "execution_count": null,
   "metadata": {
    "collapsed": true
   },
   "outputs": [],
   "source": []
  }
 ],
 "metadata": {
  "kernelspec": {
   "display_name": "Python 3",
   "language": "python",
   "name": "python3"
  },
  "language_info": {
   "codemirror_mode": {
    "name": "ipython",
    "version": 3
   },
   "file_extension": ".py",
   "mimetype": "text/x-python",
   "name": "python",
   "nbconvert_exporter": "python",
   "pygments_lexer": "ipython3",
   "version": "3.6.1"
  }
 },
 "nbformat": 4,
 "nbformat_minor": 2
}
