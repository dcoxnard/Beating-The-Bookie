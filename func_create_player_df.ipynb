{
 "cells": [
  {
   "cell_type": "code",
   "execution_count": null,
   "metadata": {
    "collapsed": true
   },
   "outputs": [],
   "source": [
    "from collections import defaultdict\n",
    "import pandas as pd\n",
    "import numpy as np\n",
    "import matplotlib.pyplot as plt\n",
    "import pickle\n",
    "%matplotlib inline"
   ]
  },
  {
   "cell_type": "code",
   "execution_count": null,
   "metadata": {
    "collapsed": true
   },
   "outputs": [],
   "source": [
    "pd.options.display.max_columns = 50"
   ]
  },
  {
   "cell_type": "code",
   "execution_count": null,
   "metadata": {
    "collapsed": true
   },
   "outputs": [],
   "source": [
    "def add_moving_averages(df, column, window=20):\n",
    "    \"\"\"\n",
    "    Create new feautre using pandas rolling window function.\n",
    "    Basially create a moving average.\n",
    "    \"\"\"\n",
    "    new_name = str(column) + \"_mavg\"\n",
    "    new_column = df.groupby('player_name')[column].rolling(window=20, min_periods=2).mean()\n",
    "    df[new_name] = new_column.reset_index(level=0, drop=True)\n",
    "    return df"
   ]
  },
  {
   "cell_type": "code",
   "execution_count": null,
   "metadata": {
    "collapsed": true
   },
   "outputs": [],
   "source": [
    "def add_expanding_windows(df, column):\n",
    "    \"\"\"\n",
    "    Create new feature using pandas expanding window function.\n",
    "    Basically a cumulative average.\n",
    "    \"\"\"\n",
    "    new_name = str(column) + \"_expw\"\n",
    "    new_column = df.groupby('player_name')[column].expanding().mean()\n",
    "    df[new_name] = new_column.reset_index(level=0, drop=True)\n",
    "    return df"
   ]
  },
  {
   "cell_type": "code",
   "execution_count": null,
   "metadata": {
    "collapsed": true
   },
   "outputs": [],
   "source": [
    "def create_player_df():\n",
    "    \"\"\"\n",
    "    This function creates player_df.\n",
    "    This is a pandas DataFrame which contains player stats over time.\n",
    "    Each row in the DataFrame is a \"player-game,\" corresponding to a\n",
    "    single player's in-game stats for every game in the data.\n",
    "    Each game therefore is represented by two rows, one for each player.\n",
    "    The DataFrame contains raw stats as well as \"stats over time.\"\n",
    "    \"Stats over time\" includes two evolving \"averages\" of each stat,\n",
    "    one computed with a moving window (size 20) and the other computed\n",
    "    with an expanding window.  My aim is to use these computed stats as\n",
    "    an estimation of a player's ability, and ultaimtely as predictors in\n",
    "    the model, because in-game stats cannot be known ex-ante, and they\n",
    "    are very noisy for a given player anyways.\n",
    "    Possible extensions: add parameters for data years, and moving\n",
    "    average window size.\n",
    "    \"\"\"\n",
    "    \n",
    "    # Grab the data, read into DF, handle some data issues and convert tourney_date to datetime.\n",
    "\n",
    "    filestem = 'https://raw.githubusercontent.com/JeffSackmann/tennis_atp/master/atp_matches_{}.csv'\n",
    "    c = ['tourney_id', 'tourney_name', 'surface', 'draw_size', 'tourney_level',\n",
    "           'tourney_date', 'match_num', 'winner_id', 'winner_seed', 'winner_entry',\n",
    "           'winner_name', 'winner_hand', 'winner_ht', 'winner_ioc', 'winner_age',\n",
    "           'winner_rank', 'winner_rank_points', 'loser_id', 'loser_seed',\n",
    "           'loser_entry', 'loser_name', 'loser_hand', 'loser_ht', 'loser_ioc',\n",
    "           'loser_age', 'loser_rank', 'loser_rank_points', 'score', 'best_of',\n",
    "           'round', 'minutes', 'w_ace', 'w_df', 'w_svpt', 'w_1stIn', 'w_1stWon',\n",
    "           'w_2ndWon', 'w_SvGms', 'w_bpSaved', 'w_bpFaced', 'l_ace', 'l_df',\n",
    "           'l_svpt', 'l_1stIn', 'l_1stWon', 'l_2ndWon', 'l_SvGms', 'l_bpSaved',\n",
    "           'l_bpFaced']\n",
    "    dlist = []\n",
    "\n",
    "\n",
    "    for i in range(1991, 2018):\n",
    "        filename = filestem.format(i)\n",
    "        d = pd.read_csv(filename)\n",
    "        if i == 2017:\n",
    "            d = d.drop(['l_bpSaved', 'l_bpFaced'], axis=1).reset_index()\n",
    "            d.columns = c            \n",
    "        dlist.append(d)\n",
    "    df = pd.concat(dlist)\n",
    "    df = df.reset_index(drop=True)\n",
    "    df = df.drop(['draw_size', 'best_of', 'match_num', 'minutes', 'winner_id', 'loser_id'], axis=1)\n",
    "    df.tourney_date = pd.to_datetime(df.tourney_date, format='%Y%M%d')\n",
    "    \n",
    "    \n",
    "    # Create a dictionary of players' in-game stats, indexed by (player_name, game_id)\n",
    "    \n",
    "    player_dict = {}\n",
    "\n",
    "    winner_stats = ['w_ace', 'w_df', 'w_svpt', 'w_1stIn', 'w_1stWon',\n",
    "           'w_2ndWon', 'w_SvGms', 'w_bpSaved', 'w_bpFaced']\n",
    "\n",
    "    loser_stats = ['l_ace', 'l_df', 'l_svpt', 'l_1stIn', 'l_1stWon',\n",
    "                   'l_2ndWon', 'l_SvGms', 'l_bpSaved', 'l_bpFaced']\n",
    "\n",
    "    player_stats = ['ace', 'df', 'svpt', '1stIn', '1stWon',\n",
    "           '2ndWon', 'SvGms', 'bpSaved', 'bpFaced']\n",
    "\n",
    "    for index, row in df.iterrows():\n",
    "\n",
    "        player_dict[(row['winner_name'], index)] = {row[stat] for stat in winner_stats}\n",
    "        player_dict[(row['loser_name'], index)] = {row[stat] for stat in loser_stats}\n",
    "     \n",
    "    \n",
    "    # Feed dictionary into a new pandas DataFrame, player_df.\n",
    "    \n",
    "    player_df = pd.DataFrame.from_dict(player_dict, orient='index')\n",
    "    player_df.index = pd.MultiIndex.from_tuples(player_df.index)\n",
    "    player_df = player_df.reset_index()\n",
    "    player_df.columns = ['player_name','game_index'] + player_stats\n",
    "    \n",
    "    \n",
    "    # At this point, every row in the DataFrame represents a \"player-game.\"\n",
    "    # Columns are the stats.\n",
    "    # Values in each row correspond to a player's in-game stats for the particular game.\n",
    "    # For example, game 0 has two rows: one for each player that participated in game 0.\n",
    "    # Next step is to calulate moving-average and expanding-window stats.\n",
    "    # These are computed using the helper functions defined above.\n",
    "    # Because we can't use in-game stats to predict a future game, the moving_average\n",
    "    # and expanding_window stats are (hopefully) a good estimation of a player's talent.\n",
    "    # These stats will ultimately serve as my predictive features since they can be computed\n",
    "    # in advanc of any given game.\n",
    "    \n",
    "    for stat in player_stats:\n",
    "    player_df = add_expanding_windows(player_df, stat)\n",
    "    player_df = add_moving_averages(player_df, stat)\n",
    "    \n",
    "    return player_df"
   ]
  }
 ],
 "metadata": {
  "kernelspec": {
   "display_name": "Python 3",
   "language": "python",
   "name": "python3"
  },
  "language_info": {
   "codemirror_mode": {
    "name": "ipython",
    "version": 3
   },
   "file_extension": ".py",
   "mimetype": "text/x-python",
   "name": "python",
   "nbconvert_exporter": "python",
   "pygments_lexer": "ipython3",
   "version": "3.6.1"
  }
 },
 "nbformat": 4,
 "nbformat_minor": 2
}
