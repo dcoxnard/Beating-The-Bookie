{
 "cells": [
  {
   "cell_type": "code",
   "execution_count": 1,
   "metadata": {
    "collapsed": true
   },
   "outputs": [],
   "source": [
    "import pandas as pd\n",
    "import numpy as np\n",
    "import datetime\n",
    "import matplotlib.pyplot as plt\n",
    "%matplotlib inline"
   ]
  },
  {
   "cell_type": "markdown",
   "metadata": {
    "collapsed": true
   },
   "source": [
    "Not a perfect match.  But could add other bookies back in and\n",
    "would maybe have more matchups btwn games_df and odds.  Would\n",
    "porbably want to take average odds before running simulation.\n",
    "Also would want to ignore games where there are no odds available.\n",
    "\n",
    "Would probably need to match on last name, first letter, and maybe\n",
    "match month or something."
   ]
  },
  {
   "cell_type": "code",
   "execution_count": 2,
   "metadata": {
    "collapsed": true
   },
   "outputs": [],
   "source": [
    "# Read tennis odds from Kaggle Dataset\n",
    "\n",
    "df = pd.read_csv('t_odds.csv')"
   ]
  },
  {
   "cell_type": "code",
   "execution_count": 3,
   "metadata": {
    "collapsed": true
   },
   "outputs": [],
   "source": [
    "# Read the DataFrame constructed as game_df.\n",
    "\n",
    "gdf = pd.read_pickle('oct_20.pkl')"
   ]
  },
  {
   "cell_type": "code",
   "execution_count": 4,
   "metadata": {
    "collapsed": true
   },
   "outputs": [],
   "source": [
    "# Get just the betting odds from bet365, for season 2016\n",
    "# Extension 1: fix 2017 data in games_df module to use 2017 as holdout\n",
    "# Extension 2: use more than just Bet365 odds -- avg available bookies' odds?\n",
    "\n",
    "df = df[['date', 'player_1_name', 'player_2_name', 'doubles',\n",
    "        'bet365_payout', 'bet365_player_1_odd', 'bet365_player_2_odd']].dropna()\n",
    "df = df.loc[df.doubles == 0]\n",
    "df.date = pd.to_datetime(df.date)\n",
    "df = df.loc[(df.date >= datetime.date(month=1, year=2016, day=1)) &\n",
    "            (df.date <= datetime.date(month=1, year=2017, day=1))]"
   ]
  },
  {
   "cell_type": "code",
   "execution_count": 5,
   "metadata": {
    "collapsed": true
   },
   "outputs": [],
   "source": [
    "# Get just the rows from game_df in saeson 2016.\n",
    "\n",
    "gdf.tourney_date = pd.to_datetime(gdf.tourney_date)\n",
    "gdf = gdf.loc[(gdf.tourney_date >= datetime.date(month=1, year=2016, day=1)) & \n",
    "             (gdf.tourney_date <= datetime.date(month=1, year=2017, day=1))]"
   ]
  },
  {
   "cell_type": "code",
   "execution_count": 6,
   "metadata": {
    "collapsed": true
   },
   "outputs": [],
   "source": [
    "# Helper fxn.\n",
    "\n",
    "def convert_name(full_name):\n",
    "    \"\"\"\n",
    "    Convert First/Last name combo to Last Name, First Initial.\n",
    "    E.g. Roger Federer --> Federer R.\n",
    "    \"\"\"\n",
    "    x = full_name.split()\n",
    "    return x[1].title() + \" \" + x[0][0].upper() + \".\""
   ]
  },
  {
   "cell_type": "code",
   "execution_count": 7,
   "metadata": {
    "collapsed": true
   },
   "outputs": [],
   "source": [
    "# Now apply name conversion to all of gdf.\n",
    "\n",
    "gdf['player1_name'] = gdf.player1_name.apply(convert_name)\n",
    "gdf['player2_name'] = gdf.player2_name.apply(convert_name);"
   ]
  },
  {
   "cell_type": "code",
   "execution_count": 8,
   "metadata": {
    "collapsed": true
   },
   "outputs": [],
   "source": [
    "# Helper fxn.\n",
    "\n",
    "def implied_probability(decimal_odds):\n",
    "    \"\"\"\n",
    "    Convert a player's decimal odds to implied probabilty.\n",
    "    \"\"\"\n",
    "    \n",
    "    return (1/decimal_odds) * 100"
   ]
  },
  {
   "cell_type": "code",
   "execution_count": 9,
   "metadata": {
    "collapsed": true
   },
   "outputs": [],
   "source": [
    "# Convert decimal odds to implied probabilities.\n",
    "\n",
    "df['player_1_implied_probability'] = df.bet365_player_1_odd.apply(implied_probability)\n",
    "df['player_2_implied_probability'] = df.bet365_player_2_odd.apply(implied_probability)"
   ]
  },
  {
   "cell_type": "code",
   "execution_count": 10,
   "metadata": {
    "collapsed": true
   },
   "outputs": [],
   "source": [
    "# Get just the month-year info from gdf.tourney_date, and ignore the rest.\\\n",
    "# day is set to equal 1 in all cases: this is ok for my purposes (i think)\n",
    "\n",
    "gdf['merge_date'] = gdf.tourney_date.astype(str).apply(lambda x: x[:7])\n",
    "gdf.merge_date = gdf.merge_date.apply(lambda x: datetime.datetime.strptime(x, '%Y-%M').date())\n",
    "\n",
    "# Do the same for df.date.\n",
    "\n",
    "df['merge_date'] = df.date.astype(str).apply(lambda x: x[:7])\n",
    "df.merge_date = df.merge_date.apply(lambda x: datetime.datetime.strptime(x, '%Y-%M').date())"
   ]
  },
  {
   "cell_type": "code",
   "execution_count": 11,
   "metadata": {
    "collapsed": true
   },
   "outputs": [],
   "source": [
    "#### The case where player1 / player2 tuples DO match up.\n",
    "\n",
    "# Create a new column to merge on: tuple of player names.\n",
    "\n",
    "# Create new column\n",
    "df['players_forward'] = df.player_1_name + \",\" + df.player_2_name\n",
    "gdf['players_forward'] = gdf.player1_name + \",\" + gdf.player2_name\n",
    "\n",
    "# Split into list object\n",
    "gdf.players_forward = gdf.players_forward.apply(lambda x: x.split(','))\n",
    "df.players_forward = df.players_forward.apply(lambda x: x.split(','))\n",
    "\n",
    "# Convert to tuple.\n",
    "gdf.players_forward = gdf.players_forward.apply(lambda x: tuple(x))\n",
    "df.players_forward = df.players_forward.apply(lambda x: tuple(x))"
   ]
  },
  {
   "cell_type": "code",
   "execution_count": 12,
   "metadata": {
    "collapsed": true
   },
   "outputs": [],
   "source": [
    "#### The case where player1 / player2 tuples DO NOT match up.\n",
    "\n",
    "# Create a new column to merge on: tuple of player names.\n",
    "\n",
    "# Create new column\n",
    "df['players_backward'] = df.player_2_name + \",\" + df.player_1_name\n",
    "gdf['players_backward'] = gdf.player1_name + \",\" + gdf.player2_name\n",
    "\n",
    "# Split into list object\n",
    "gdf.players_backward = gdf.players_backward.apply(lambda x: x.split(','))\n",
    "df.players_backward = df.players_backward.apply(lambda x: x.split(','))\n",
    "\n",
    "# Convert to tuple.\n",
    "gdf.players_backward = gdf.players_backward.apply(lambda x: tuple(x))\n",
    "df.players_backward = df.players_backward.apply(lambda x: tuple(x))"
   ]
  },
  {
   "cell_type": "code",
   "execution_count": 19,
   "metadata": {
    "collapsed": true
   },
   "outputs": [],
   "source": [
    "# Create merged DataFrames.\n",
    "\n",
    "forward_match = gdf.merge(df, on=['merge_date', 'players_forward'])\n",
    "backward_match = gdf.merge(df, on=['merge_date', 'players_backward'])"
   ]
  },
  {
   "cell_type": "code",
   "execution_count": 20,
   "metadata": {
    "collapsed": true
   },
   "outputs": [],
   "source": [
    "# Switch the p1 and p2 probabilities in backward_match, to correct for the misordering.\n",
    "\n",
    "actual_p1_prob = backward_match.player_2_implied_probability.copy(deep=True)\n",
    "actual_p2_prob = backward_match.player_1_implied_probability.copy(deep=True)\n",
    "backward_match.player_1_implied_probability = actual_p1_prob\n",
    "backward_match.player_2_implied_probability = actual_p2_prob"
   ]
  },
  {
   "cell_type": "code",
   "execution_count": 21,
   "metadata": {
    "collapsed": true
   },
   "outputs": [],
   "source": [
    "# DataFrames ready to concat and reorder based on tourney_date.\n",
    "\n",
    "games_df = pd.concat([forward_match, backward_match])"
   ]
  },
  {
   "cell_type": "code",
   "execution_count": 22,
   "metadata": {
    "collapsed": true
   },
   "outputs": [],
   "source": [
    "### May need to add more columns -- don't remember off the top if my head what exactly went into games_df before.\n",
    "\n",
    "game = ['game_index', 'label', 'player_1_implied_probability', 'player_2_implied_probability']\n",
    "\n",
    "deltas = ['delta_1stIn_expw', 'delta_1stIn_mavg', 'delta_1stWon_expw',\n",
    "'delta_1stWon_mavg', 'delta_2ndWon_expw', 'delta_2ndWon_mavg',\n",
    "'delta_SvGms_expw', 'delta_SvGms_mavg', 'delta_ace_expw',\n",
    "'delta_ace_mavg', 'delta_age', 'delta_bpFaced_expw', 'delta_bpFaced_mavg',\n",
    "'delta_bpSaved_expw', 'delta_bpSaved_mavg', 'delta_df_expw',\n",
    "'delta_df_mavg', 'delta_ht', 'delta_rank', 'delta_rank_points',\n",
    "'delta_svpt_expw', 'delta_svpt_mavg']\n",
    "\n",
    "cols = game + deltas\n",
    "games_df = games_df[cols]\n",
    "games_df = games_df.sort_values('game_index')"
   ]
  },
  {
   "cell_type": "code",
   "execution_count": null,
   "metadata": {},
   "outputs": [],
   "source": [
    "# Final Product: Games DF, with player1 and play2 implied probabilties\n",
    "# There are dupes: where did they get in, how to fix?\n",
    "\n",
    "games_df"
   ]
  },
  {
   "cell_type": "code",
   "execution_count": null,
   "metadata": {
    "collapsed": true
   },
   "outputs": [],
   "source": []
  },
  {
   "cell_type": "code",
   "execution_count": null,
   "metadata": {
    "collapsed": true
   },
   "outputs": [],
   "source": []
  },
  {
   "cell_type": "code",
   "execution_count": null,
   "metadata": {
    "collapsed": true
   },
   "outputs": [],
   "source": []
  },
  {
   "cell_type": "code",
   "execution_count": null,
   "metadata": {
    "collapsed": true
   },
   "outputs": [],
   "source": []
  },
  {
   "cell_type": "code",
   "execution_count": null,
   "metadata": {
    "collapsed": true
   },
   "outputs": [],
   "source": []
  },
  {
   "cell_type": "markdown",
   "metadata": {},
   "source": [
    "### Investigation of Duplicates"
   ]
  },
  {
   "cell_type": "code",
   "execution_count": 13,
   "metadata": {},
   "outputs": [
    {
     "data": {
      "text/html": [
       "<div>\n",
       "<style>\n",
       "    .dataframe thead tr:only-child th {\n",
       "        text-align: right;\n",
       "    }\n",
       "\n",
       "    .dataframe thead th {\n",
       "        text-align: left;\n",
       "    }\n",
       "\n",
       "    .dataframe tbody tr th {\n",
       "        vertical-align: top;\n",
       "    }\n",
       "</style>\n",
       "<table border=\"1\" class=\"dataframe\">\n",
       "  <thead>\n",
       "    <tr style=\"text-align: right;\">\n",
       "      <th></th>\n",
       "      <th>date</th>\n",
       "      <th>player_1_name</th>\n",
       "      <th>player_2_name</th>\n",
       "      <th>doubles</th>\n",
       "      <th>bet365_payout</th>\n",
       "      <th>bet365_player_1_odd</th>\n",
       "      <th>bet365_player_2_odd</th>\n",
       "      <th>player_1_implied_probability</th>\n",
       "      <th>player_2_implied_probability</th>\n",
       "      <th>merge_date</th>\n",
       "      <th>players_forward</th>\n",
       "      <th>players_backward</th>\n",
       "    </tr>\n",
       "  </thead>\n",
       "  <tbody>\n",
       "    <tr>\n",
       "      <th>8</th>\n",
       "      <td>2016-10-24 11:30:00</td>\n",
       "      <td>Saez-Royuela Ariza A.</td>\n",
       "      <td>Pokotilov B.</td>\n",
       "      <td>0.0</td>\n",
       "      <td>93.2</td>\n",
       "      <td>12.00</td>\n",
       "      <td>1.01</td>\n",
       "      <td>8.333333</td>\n",
       "      <td>99.009901</td>\n",
       "      <td>2016-01-01</td>\n",
       "      <td>(Saez-Royuela Ariza A., Pokotilov B.)</td>\n",
       "      <td>(Pokotilov B., Saez-Royuela Ariza A.)</td>\n",
       "    </tr>\n",
       "    <tr>\n",
       "      <th>9</th>\n",
       "      <td>2016-09-15 13:10:00</td>\n",
       "      <td>Santillan A.</td>\n",
       "      <td>Giannessi A.</td>\n",
       "      <td>0.0</td>\n",
       "      <td>92.5</td>\n",
       "      <td>2.25</td>\n",
       "      <td>1.57</td>\n",
       "      <td>44.444444</td>\n",
       "      <td>63.694268</td>\n",
       "      <td>2016-01-01</td>\n",
       "      <td>(Santillan A., Giannessi A.)</td>\n",
       "      <td>(Giannessi A., Santillan A.)</td>\n",
       "    </tr>\n",
       "    <tr>\n",
       "      <th>16</th>\n",
       "      <td>2016-09-21 12:30:00</td>\n",
       "      <td>De Greef A.</td>\n",
       "      <td>Andujar-Alba P.</td>\n",
       "      <td>0.0</td>\n",
       "      <td>93.0</td>\n",
       "      <td>2.37</td>\n",
       "      <td>1.53</td>\n",
       "      <td>42.194093</td>\n",
       "      <td>65.359477</td>\n",
       "      <td>2016-01-01</td>\n",
       "      <td>(De Greef A., Andujar-Alba P.)</td>\n",
       "      <td>(Andujar-Alba P., De Greef A.)</td>\n",
       "    </tr>\n",
       "    <tr>\n",
       "      <th>30</th>\n",
       "      <td>2016-05-11 01:10:00</td>\n",
       "      <td>Abduraimova N.</td>\n",
       "      <td>Naydenova A.</td>\n",
       "      <td>0.0</td>\n",
       "      <td>93.0</td>\n",
       "      <td>1.53</td>\n",
       "      <td>2.37</td>\n",
       "      <td>65.359477</td>\n",
       "      <td>42.194093</td>\n",
       "      <td>2016-01-01</td>\n",
       "      <td>(Abduraimova N., Naydenova A.)</td>\n",
       "      <td>(Naydenova A., Abduraimova N.)</td>\n",
       "    </tr>\n",
       "    <tr>\n",
       "      <th>34</th>\n",
       "      <td>2016-08-29 18:50:00</td>\n",
       "      <td>Mertens E.</td>\n",
       "      <td>Muguruza G.</td>\n",
       "      <td>0.0</td>\n",
       "      <td>95.9</td>\n",
       "      <td>11.00</td>\n",
       "      <td>1.05</td>\n",
       "      <td>9.090909</td>\n",
       "      <td>95.238095</td>\n",
       "      <td>2016-01-01</td>\n",
       "      <td>(Mertens E., Muguruza G.)</td>\n",
       "      <td>(Muguruza G., Mertens E.)</td>\n",
       "    </tr>\n",
       "  </tbody>\n",
       "</table>\n",
       "</div>"
      ],
      "text/plain": [
       "                  date          player_1_name    player_2_name  doubles  \\\n",
       "8  2016-10-24 11:30:00  Saez-Royuela Ariza A.     Pokotilov B.      0.0   \n",
       "9  2016-09-15 13:10:00           Santillan A.     Giannessi A.      0.0   \n",
       "16 2016-09-21 12:30:00            De Greef A.  Andujar-Alba P.      0.0   \n",
       "30 2016-05-11 01:10:00         Abduraimova N.     Naydenova A.      0.0   \n",
       "34 2016-08-29 18:50:00             Mertens E.      Muguruza G.      0.0   \n",
       "\n",
       "    bet365_payout  bet365_player_1_odd  bet365_player_2_odd  \\\n",
       "8            93.2                12.00                 1.01   \n",
       "9            92.5                 2.25                 1.57   \n",
       "16           93.0                 2.37                 1.53   \n",
       "30           93.0                 1.53                 2.37   \n",
       "34           95.9                11.00                 1.05   \n",
       "\n",
       "    player_1_implied_probability  player_2_implied_probability  merge_date  \\\n",
       "8                       8.333333                     99.009901  2016-01-01   \n",
       "9                      44.444444                     63.694268  2016-01-01   \n",
       "16                     42.194093                     65.359477  2016-01-01   \n",
       "30                     65.359477                     42.194093  2016-01-01   \n",
       "34                      9.090909                     95.238095  2016-01-01   \n",
       "\n",
       "                          players_forward  \\\n",
       "8   (Saez-Royuela Ariza A., Pokotilov B.)   \n",
       "9            (Santillan A., Giannessi A.)   \n",
       "16         (De Greef A., Andujar-Alba P.)   \n",
       "30         (Abduraimova N., Naydenova A.)   \n",
       "34              (Mertens E., Muguruza G.)   \n",
       "\n",
       "                         players_backward  \n",
       "8   (Pokotilov B., Saez-Royuela Ariza A.)  \n",
       "9            (Giannessi A., Santillan A.)  \n",
       "16         (Andujar-Alba P., De Greef A.)  \n",
       "30         (Naydenova A., Abduraimova N.)  \n",
       "34              (Muguruza G., Mertens E.)  "
      ]
     },
     "execution_count": 13,
     "metadata": {},
     "output_type": "execute_result"
    }
   ],
   "source": [
    "df.head()"
   ]
  },
  {
   "cell_type": "code",
   "execution_count": 18,
   "metadata": {},
   "outputs": [
    {
     "data": {
      "text/html": [
       "<div>\n",
       "<style>\n",
       "    .dataframe thead tr:only-child th {\n",
       "        text-align: right;\n",
       "    }\n",
       "\n",
       "    .dataframe thead th {\n",
       "        text-align: left;\n",
       "    }\n",
       "\n",
       "    .dataframe tbody tr th {\n",
       "        vertical-align: top;\n",
       "    }\n",
       "</style>\n",
       "<table border=\"1\" class=\"dataframe\">\n",
       "  <thead>\n",
       "    <tr style=\"text-align: right;\">\n",
       "      <th></th>\n",
       "      <th>surface</th>\n",
       "      <th>tourney_level</th>\n",
       "      <th>tourney_date</th>\n",
       "      <th>game_index</th>\n",
       "      <th>player1_name</th>\n",
       "      <th>player1_seed</th>\n",
       "      <th>player1_ht</th>\n",
       "      <th>player1_age</th>\n",
       "      <th>player1_rank</th>\n",
       "      <th>player1_rank_points</th>\n",
       "      <th>...</th>\n",
       "      <th>delta_svpt_expw</th>\n",
       "      <th>delta_1stIn_expw</th>\n",
       "      <th>delta_1stWon_expw</th>\n",
       "      <th>delta_2ndWon_expw</th>\n",
       "      <th>delta_SvGms_expw</th>\n",
       "      <th>delta_bpSaved_expw</th>\n",
       "      <th>delta_bpFaced_expw</th>\n",
       "      <th>merge_date</th>\n",
       "      <th>players_forward</th>\n",
       "      <th>players_backward</th>\n",
       "    </tr>\n",
       "  </thead>\n",
       "  <tbody>\n",
       "    <tr>\n",
       "      <th>83636</th>\n",
       "      <td>Hard</td>\n",
       "      <td>A</td>\n",
       "      <td>2016-01-04 00:01:00</td>\n",
       "      <td>83636</td>\n",
       "      <td>Raonic M.</td>\n",
       "      <td>1.0</td>\n",
       "      <td>34.0</td>\n",
       "      <td>196.000000</td>\n",
       "      <td>4.0</td>\n",
       "      <td>6.0</td>\n",
       "      <td>...</td>\n",
       "      <td>-415.349969</td>\n",
       "      <td>-421.540881</td>\n",
       "      <td>-446.128368</td>\n",
       "      <td>-586.427313</td>\n",
       "      <td>-309.362990</td>\n",
       "      <td>-141.024001</td>\n",
       "      <td>-227.583888</td>\n",
       "      <td>2016-01-01</td>\n",
       "      <td>(Raonic M., Federer R.)</td>\n",
       "      <td>(Raonic M., Federer R.)</td>\n",
       "    </tr>\n",
       "    <tr>\n",
       "      <th>83637</th>\n",
       "      <td>Hard</td>\n",
       "      <td>A</td>\n",
       "      <td>2016-01-04 00:01:00</td>\n",
       "      <td>83637</td>\n",
       "      <td>Thiem D.</td>\n",
       "      <td>NaN</td>\n",
       "      <td>1600.0</td>\n",
       "      <td>2.000000</td>\n",
       "      <td>4.0</td>\n",
       "      <td>6.0</td>\n",
       "      <td>...</td>\n",
       "      <td>-557.639931</td>\n",
       "      <td>-620.445640</td>\n",
       "      <td>-623.467768</td>\n",
       "      <td>-721.304368</td>\n",
       "      <td>-624.834373</td>\n",
       "      <td>-439.027609</td>\n",
       "      <td>-385.700136</td>\n",
       "      <td>2016-01-01</td>\n",
       "      <td>(Thiem D., Federer R.)</td>\n",
       "      <td>(Thiem D., Federer R.)</td>\n",
       "    </tr>\n",
       "    <tr>\n",
       "      <th>83638</th>\n",
       "      <td>Hard</td>\n",
       "      <td>A</td>\n",
       "      <td>2016-01-04 00:01:00</td>\n",
       "      <td>83638</td>\n",
       "      <td>Tomic B.</td>\n",
       "      <td>193.0</td>\n",
       "      <td>2.0</td>\n",
       "      <td>3.000000</td>\n",
       "      <td>7.0</td>\n",
       "      <td>41.0</td>\n",
       "      <td>...</td>\n",
       "      <td>-110.577935</td>\n",
       "      <td>-145.367501</td>\n",
       "      <td>-212.940825</td>\n",
       "      <td>-121.504799</td>\n",
       "      <td>-295.701352</td>\n",
       "      <td>-253.178126</td>\n",
       "      <td>-148.574172</td>\n",
       "      <td>2016-01-01</td>\n",
       "      <td>(Tomic B., Raonic M.)</td>\n",
       "      <td>(Tomic B., Raonic M.)</td>\n",
       "    </tr>\n",
       "    <tr>\n",
       "      <th>83639</th>\n",
       "      <td>Hard</td>\n",
       "      <td>A</td>\n",
       "      <td>2016-01-04 00:01:00</td>\n",
       "      <td>83639</td>\n",
       "      <td>Federer R.</td>\n",
       "      <td>0.0</td>\n",
       "      <td>1.0</td>\n",
       "      <td>34.406571</td>\n",
       "      <td>3.0</td>\n",
       "      <td>7.0</td>\n",
       "      <td>...</td>\n",
       "      <td>530.039207</td>\n",
       "      <td>563.583433</td>\n",
       "      <td>576.993398</td>\n",
       "      <td>635.121225</td>\n",
       "      <td>428.223401</td>\n",
       "      <td>304.611612</td>\n",
       "      <td>122.021193</td>\n",
       "      <td>2016-01-01</td>\n",
       "      <td>(Federer R., Dimitrov G.)</td>\n",
       "      <td>(Federer R., Dimitrov G.)</td>\n",
       "    </tr>\n",
       "    <tr>\n",
       "      <th>83640</th>\n",
       "      <td>Hard</td>\n",
       "      <td>A</td>\n",
       "      <td>2016-01-04 00:01:00</td>\n",
       "      <td>83640</td>\n",
       "      <td>Thiem D.</td>\n",
       "      <td>NaN</td>\n",
       "      <td>1600.0</td>\n",
       "      <td>0.000000</td>\n",
       "      <td>2.0</td>\n",
       "      <td>6.0</td>\n",
       "      <td>...</td>\n",
       "      <td>-26.103870</td>\n",
       "      <td>-109.315892</td>\n",
       "      <td>-47.043038</td>\n",
       "      <td>-122.361150</td>\n",
       "      <td>-223.618277</td>\n",
       "      <td>-140.544133</td>\n",
       "      <td>-118.662238</td>\n",
       "      <td>2016-01-01</td>\n",
       "      <td>(Thiem D., Cilic M.)</td>\n",
       "      <td>(Thiem D., Cilic M.)</td>\n",
       "    </tr>\n",
       "  </tbody>\n",
       "</table>\n",
       "<p>5 rows × 97 columns</p>\n",
       "</div>"
      ],
      "text/plain": [
       "      surface tourney_level        tourney_date  game_index player1_name  \\\n",
       "83636    Hard             A 2016-01-04 00:01:00       83636    Raonic M.   \n",
       "83637    Hard             A 2016-01-04 00:01:00       83637     Thiem D.   \n",
       "83638    Hard             A 2016-01-04 00:01:00       83638     Tomic B.   \n",
       "83639    Hard             A 2016-01-04 00:01:00       83639   Federer R.   \n",
       "83640    Hard             A 2016-01-04 00:01:00       83640     Thiem D.   \n",
       "\n",
       "       player1_seed  player1_ht  player1_age  player1_rank  \\\n",
       "83636           1.0        34.0   196.000000           4.0   \n",
       "83637           NaN      1600.0     2.000000           4.0   \n",
       "83638         193.0         2.0     3.000000           7.0   \n",
       "83639           0.0         1.0    34.406571           3.0   \n",
       "83640           NaN      1600.0     0.000000           2.0   \n",
       "\n",
       "       player1_rank_points            ...              delta_svpt_expw  \\\n",
       "83636                  6.0            ...                  -415.349969   \n",
       "83637                  6.0            ...                  -557.639931   \n",
       "83638                 41.0            ...                  -110.577935   \n",
       "83639                  7.0            ...                   530.039207   \n",
       "83640                  6.0            ...                   -26.103870   \n",
       "\n",
       "       delta_1stIn_expw  delta_1stWon_expw  delta_2ndWon_expw  \\\n",
       "83636       -421.540881        -446.128368        -586.427313   \n",
       "83637       -620.445640        -623.467768        -721.304368   \n",
       "83638       -145.367501        -212.940825        -121.504799   \n",
       "83639        563.583433         576.993398         635.121225   \n",
       "83640       -109.315892         -47.043038        -122.361150   \n",
       "\n",
       "       delta_SvGms_expw  delta_bpSaved_expw  delta_bpFaced_expw  merge_date  \\\n",
       "83636       -309.362990         -141.024001         -227.583888  2016-01-01   \n",
       "83637       -624.834373         -439.027609         -385.700136  2016-01-01   \n",
       "83638       -295.701352         -253.178126         -148.574172  2016-01-01   \n",
       "83639        428.223401          304.611612          122.021193  2016-01-01   \n",
       "83640       -223.618277         -140.544133         -118.662238  2016-01-01   \n",
       "\n",
       "                 players_forward           players_backward  \n",
       "83636    (Raonic M., Federer R.)    (Raonic M., Federer R.)  \n",
       "83637     (Thiem D., Federer R.)     (Thiem D., Federer R.)  \n",
       "83638      (Tomic B., Raonic M.)      (Tomic B., Raonic M.)  \n",
       "83639  (Federer R., Dimitrov G.)  (Federer R., Dimitrov G.)  \n",
       "83640       (Thiem D., Cilic M.)       (Thiem D., Cilic M.)  \n",
       "\n",
       "[5 rows x 97 columns]"
      ]
     },
     "execution_count": 18,
     "metadata": {},
     "output_type": "execute_result"
    }
   ],
   "source": [
    "gdf.head()"
   ]
  },
  {
   "cell_type": "code",
   "execution_count": 27,
   "metadata": {},
   "outputs": [
    {
     "data": {
      "text/plain": [
       "True"
      ]
     },
     "execution_count": 27,
     "metadata": {},
     "output_type": "execute_result"
    }
   ],
   "source": [
    "len(gdf.game_index) == len(gdf.game_index.unique())"
   ]
  },
  {
   "cell_type": "markdown",
   "metadata": {},
   "source": [
    "`games_df` looks like it's got duplicated games.  This probably happened because `df` and `gdf` had some players that played each other multiple times in a month."
   ]
  },
  {
   "cell_type": "code",
   "execution_count": 24,
   "metadata": {},
   "outputs": [
    {
     "data": {
      "text/html": [
       "<div>\n",
       "<style>\n",
       "    .dataframe thead tr:only-child th {\n",
       "        text-align: right;\n",
       "    }\n",
       "\n",
       "    .dataframe thead th {\n",
       "        text-align: left;\n",
       "    }\n",
       "\n",
       "    .dataframe tbody tr th {\n",
       "        vertical-align: top;\n",
       "    }\n",
       "</style>\n",
       "<table border=\"1\" class=\"dataframe\">\n",
       "  <thead>\n",
       "    <tr style=\"text-align: right;\">\n",
       "      <th></th>\n",
       "      <th>game_index</th>\n",
       "      <th>label</th>\n",
       "      <th>player_1_implied_probability</th>\n",
       "      <th>player_2_implied_probability</th>\n",
       "      <th>delta_1stIn_expw</th>\n",
       "      <th>delta_1stIn_mavg</th>\n",
       "      <th>delta_1stWon_expw</th>\n",
       "      <th>delta_1stWon_mavg</th>\n",
       "      <th>delta_2ndWon_expw</th>\n",
       "      <th>delta_2ndWon_mavg</th>\n",
       "      <th>...</th>\n",
       "      <th>delta_bpFaced_mavg</th>\n",
       "      <th>delta_bpSaved_expw</th>\n",
       "      <th>delta_bpSaved_mavg</th>\n",
       "      <th>delta_df_expw</th>\n",
       "      <th>delta_df_mavg</th>\n",
       "      <th>delta_ht</th>\n",
       "      <th>delta_rank</th>\n",
       "      <th>delta_rank_points</th>\n",
       "      <th>delta_svpt_expw</th>\n",
       "      <th>delta_svpt_mavg</th>\n",
       "    </tr>\n",
       "  </thead>\n",
       "  <tbody>\n",
       "    <tr>\n",
       "      <th>0</th>\n",
       "      <td>83636</td>\n",
       "      <td>1</td>\n",
       "      <td>25.000000</td>\n",
       "      <td>80.000000</td>\n",
       "      <td>-421.540881</td>\n",
       "      <td>-1694.380713</td>\n",
       "      <td>-446.128368</td>\n",
       "      <td>-179.435965</td>\n",
       "      <td>-586.427313</td>\n",
       "      <td>-303.433607</td>\n",
       "      <td>...</td>\n",
       "      <td>-9380.822040</td>\n",
       "      <td>-141.024001</td>\n",
       "      <td>-703.742857</td>\n",
       "      <td>-334.090537</td>\n",
       "      <td>-1263.811111</td>\n",
       "      <td>-0.406571</td>\n",
       "      <td>-30.0</td>\n",
       "      <td>1.0</td>\n",
       "      <td>-415.349969</td>\n",
       "      <td>313.444444</td>\n",
       "    </tr>\n",
       "    <tr>\n",
       "      <th>3</th>\n",
       "      <td>83637</td>\n",
       "      <td>0</td>\n",
       "      <td>14.285714</td>\n",
       "      <td>90.909091</td>\n",
       "      <td>-620.445640</td>\n",
       "      <td>-2155.941783</td>\n",
       "      <td>-623.467768</td>\n",
       "      <td>-467.981367</td>\n",
       "      <td>-721.304368</td>\n",
       "      <td>-904.909461</td>\n",
       "      <td>...</td>\n",
       "      <td>-9359.838467</td>\n",
       "      <td>-439.027609</td>\n",
       "      <td>-3414.226133</td>\n",
       "      <td>-412.332237</td>\n",
       "      <td>-1189.944444</td>\n",
       "      <td>1599.000000</td>\n",
       "      <td>1.0</td>\n",
       "      <td>0.0</td>\n",
       "      <td>-557.639931</td>\n",
       "      <td>-372.070994</td>\n",
       "    </tr>\n",
       "    <tr>\n",
       "      <th>2</th>\n",
       "      <td>83637</td>\n",
       "      <td>0</td>\n",
       "      <td>28.571429</td>\n",
       "      <td>76.923077</td>\n",
       "      <td>-620.445640</td>\n",
       "      <td>-2155.941783</td>\n",
       "      <td>-623.467768</td>\n",
       "      <td>-467.981367</td>\n",
       "      <td>-721.304368</td>\n",
       "      <td>-904.909461</td>\n",
       "      <td>...</td>\n",
       "      <td>-9359.838467</td>\n",
       "      <td>-439.027609</td>\n",
       "      <td>-3414.226133</td>\n",
       "      <td>-412.332237</td>\n",
       "      <td>-1189.944444</td>\n",
       "      <td>1599.000000</td>\n",
       "      <td>1.0</td>\n",
       "      <td>0.0</td>\n",
       "      <td>-557.639931</td>\n",
       "      <td>-372.070994</td>\n",
       "    </tr>\n",
       "    <tr>\n",
       "      <th>6</th>\n",
       "      <td>83638</td>\n",
       "      <td>0</td>\n",
       "      <td>26.666667</td>\n",
       "      <td>78.125000</td>\n",
       "      <td>-145.367501</td>\n",
       "      <td>-251.710857</td>\n",
       "      <td>-212.940825</td>\n",
       "      <td>-261.249624</td>\n",
       "      <td>-121.504799</td>\n",
       "      <td>-515.093695</td>\n",
       "      <td>...</td>\n",
       "      <td>24.877429</td>\n",
       "      <td>-253.178126</td>\n",
       "      <td>-2890.252357</td>\n",
       "      <td>-72.668393</td>\n",
       "      <td>304.600000</td>\n",
       "      <td>-194.000000</td>\n",
       "      <td>-33.0</td>\n",
       "      <td>29.0</td>\n",
       "      <td>-110.577935</td>\n",
       "      <td>-626.819202</td>\n",
       "    </tr>\n",
       "    <tr>\n",
       "      <th>7</th>\n",
       "      <td>83638</td>\n",
       "      <td>0</td>\n",
       "      <td>38.167939</td>\n",
       "      <td>66.666667</td>\n",
       "      <td>-145.367501</td>\n",
       "      <td>-251.710857</td>\n",
       "      <td>-212.940825</td>\n",
       "      <td>-261.249624</td>\n",
       "      <td>-121.504799</td>\n",
       "      <td>-515.093695</td>\n",
       "      <td>...</td>\n",
       "      <td>24.877429</td>\n",
       "      <td>-253.178126</td>\n",
       "      <td>-2890.252357</td>\n",
       "      <td>-72.668393</td>\n",
       "      <td>304.600000</td>\n",
       "      <td>-194.000000</td>\n",
       "      <td>-33.0</td>\n",
       "      <td>29.0</td>\n",
       "      <td>-110.577935</td>\n",
       "      <td>-626.819202</td>\n",
       "    </tr>\n",
       "  </tbody>\n",
       "</table>\n",
       "<p>5 rows × 26 columns</p>\n",
       "</div>"
      ],
      "text/plain": [
       "   game_index  label  player_1_implied_probability  \\\n",
       "0       83636      1                     25.000000   \n",
       "3       83637      0                     14.285714   \n",
       "2       83637      0                     28.571429   \n",
       "6       83638      0                     26.666667   \n",
       "7       83638      0                     38.167939   \n",
       "\n",
       "   player_2_implied_probability  delta_1stIn_expw  delta_1stIn_mavg  \\\n",
       "0                     80.000000       -421.540881      -1694.380713   \n",
       "3                     90.909091       -620.445640      -2155.941783   \n",
       "2                     76.923077       -620.445640      -2155.941783   \n",
       "6                     78.125000       -145.367501       -251.710857   \n",
       "7                     66.666667       -145.367501       -251.710857   \n",
       "\n",
       "   delta_1stWon_expw  delta_1stWon_mavg  delta_2ndWon_expw  delta_2ndWon_mavg  \\\n",
       "0        -446.128368        -179.435965        -586.427313        -303.433607   \n",
       "3        -623.467768        -467.981367        -721.304368        -904.909461   \n",
       "2        -623.467768        -467.981367        -721.304368        -904.909461   \n",
       "6        -212.940825        -261.249624        -121.504799        -515.093695   \n",
       "7        -212.940825        -261.249624        -121.504799        -515.093695   \n",
       "\n",
       "        ...         delta_bpFaced_mavg  delta_bpSaved_expw  \\\n",
       "0       ...               -9380.822040         -141.024001   \n",
       "3       ...               -9359.838467         -439.027609   \n",
       "2       ...               -9359.838467         -439.027609   \n",
       "6       ...                  24.877429         -253.178126   \n",
       "7       ...                  24.877429         -253.178126   \n",
       "\n",
       "   delta_bpSaved_mavg  delta_df_expw  delta_df_mavg     delta_ht  delta_rank  \\\n",
       "0         -703.742857    -334.090537   -1263.811111    -0.406571       -30.0   \n",
       "3        -3414.226133    -412.332237   -1189.944444  1599.000000         1.0   \n",
       "2        -3414.226133    -412.332237   -1189.944444  1599.000000         1.0   \n",
       "6        -2890.252357     -72.668393     304.600000  -194.000000       -33.0   \n",
       "7        -2890.252357     -72.668393     304.600000  -194.000000       -33.0   \n",
       "\n",
       "   delta_rank_points  delta_svpt_expw  delta_svpt_mavg  \n",
       "0                1.0      -415.349969       313.444444  \n",
       "3                0.0      -557.639931      -372.070994  \n",
       "2                0.0      -557.639931      -372.070994  \n",
       "6               29.0      -110.577935      -626.819202  \n",
       "7               29.0      -110.577935      -626.819202  \n",
       "\n",
       "[5 rows x 26 columns]"
      ]
     },
     "execution_count": 24,
     "metadata": {},
     "output_type": "execute_result"
    }
   ],
   "source": [
    "games_df.head()"
   ]
  },
  {
   "cell_type": "code",
   "execution_count": 30,
   "metadata": {},
   "outputs": [
    {
     "data": {
      "text/plain": [
       "(1521, 1284)"
      ]
     },
     "execution_count": 30,
     "metadata": {},
     "output_type": "execute_result"
    }
   ],
   "source": [
    "# There are 1521 - 1284 = 237 duped games.\n",
    "\n",
    "len(games_df.game_index), len(games_df.game_index.unique())"
   ]
  },
  {
   "cell_type": "markdown",
   "metadata": {},
   "source": [
    "Look at `game_index == 83637` as an example; this is the first duped game in `games_df`"
   ]
  },
  {
   "cell_type": "code",
   "execution_count": 38,
   "metadata": {},
   "outputs": [
    {
     "data": {
      "text/plain": [
       "83637    2016-01-01\n",
       "Name: merge_date, dtype: object"
      ]
     },
     "execution_count": 38,
     "metadata": {},
     "output_type": "execute_result"
    }
   ],
   "source": [
    "gdf[gdf.game_index == 83637].merge_date"
   ]
  },
  {
   "cell_type": "code",
   "execution_count": 40,
   "metadata": {},
   "outputs": [
    {
     "data": {
      "text/html": [
       "<div>\n",
       "<style>\n",
       "    .dataframe thead tr:only-child th {\n",
       "        text-align: right;\n",
       "    }\n",
       "\n",
       "    .dataframe thead th {\n",
       "        text-align: left;\n",
       "    }\n",
       "\n",
       "    .dataframe tbody tr th {\n",
       "        vertical-align: top;\n",
       "    }\n",
       "</style>\n",
       "<table border=\"1\" class=\"dataframe\">\n",
       "  <thead>\n",
       "    <tr style=\"text-align: right;\">\n",
       "      <th></th>\n",
       "      <th>date</th>\n",
       "      <th>player_1_name</th>\n",
       "      <th>player_2_name</th>\n",
       "      <th>doubles</th>\n",
       "      <th>bet365_payout</th>\n",
       "      <th>bet365_player_1_odd</th>\n",
       "      <th>bet365_player_2_odd</th>\n",
       "      <th>player_1_implied_probability</th>\n",
       "      <th>player_2_implied_probability</th>\n",
       "      <th>merge_date</th>\n",
       "      <th>players_forward</th>\n",
       "      <th>players_backward</th>\n",
       "    </tr>\n",
       "  </thead>\n",
       "  <tbody>\n",
       "    <tr>\n",
       "      <th>118896</th>\n",
       "      <td>2016-06-11 06:25:00</td>\n",
       "      <td>Federer R.</td>\n",
       "      <td>Thiem D.</td>\n",
       "      <td>0.0</td>\n",
       "      <td>94.8</td>\n",
       "      <td>1.3</td>\n",
       "      <td>3.5</td>\n",
       "      <td>76.923077</td>\n",
       "      <td>28.571429</td>\n",
       "      <td>2016-01-01</td>\n",
       "      <td>(Federer R., Thiem D.)</td>\n",
       "      <td>(Thiem D., Federer R.)</td>\n",
       "    </tr>\n",
       "    <tr>\n",
       "      <th>122269</th>\n",
       "      <td>2016-01-09 00:10:00</td>\n",
       "      <td>Federer R.</td>\n",
       "      <td>Thiem D.</td>\n",
       "      <td>0.0</td>\n",
       "      <td>95.1</td>\n",
       "      <td>1.1</td>\n",
       "      <td>7.0</td>\n",
       "      <td>90.909091</td>\n",
       "      <td>14.285714</td>\n",
       "      <td>2016-01-01</td>\n",
       "      <td>(Federer R., Thiem D.)</td>\n",
       "      <td>(Thiem D., Federer R.)</td>\n",
       "    </tr>\n",
       "  </tbody>\n",
       "</table>\n",
       "</div>"
      ],
      "text/plain": [
       "                      date player_1_name player_2_name  doubles  \\\n",
       "118896 2016-06-11 06:25:00    Federer R.      Thiem D.      0.0   \n",
       "122269 2016-01-09 00:10:00    Federer R.      Thiem D.      0.0   \n",
       "\n",
       "        bet365_payout  bet365_player_1_odd  bet365_player_2_odd  \\\n",
       "118896           94.8                  1.3                  3.5   \n",
       "122269           95.1                  1.1                  7.0   \n",
       "\n",
       "        player_1_implied_probability  player_2_implied_probability  \\\n",
       "118896                     76.923077                     28.571429   \n",
       "122269                     90.909091                     14.285714   \n",
       "\n",
       "        merge_date         players_forward        players_backward  \n",
       "118896  2016-01-01  (Federer R., Thiem D.)  (Thiem D., Federer R.)  \n",
       "122269  2016-01-01  (Federer R., Thiem D.)  (Thiem D., Federer R.)  "
      ]
     },
     "execution_count": 40,
     "metadata": {},
     "output_type": "execute_result"
    }
   ],
   "source": [
    "df[(df.player_2_name == \"Thiem D.\") & (df.player_1_name == \"Federer R.\")]"
   ]
  },
  {
   "cell_type": "markdown",
   "metadata": {},
   "source": [
    "Something is going wrong with `merge_date`.  Above, the two Thiem v Federer games merged into a dupe, because they both have the same `merge_date` value.  However, the first game should have a value of 01-2016 and the second should have 06-2016, but they both wound up with a 01-2016 value.  This looks like the root of the problem!"
   ]
  },
  {
   "cell_type": "code",
   "execution_count": null,
   "metadata": {
    "collapsed": true
   },
   "outputs": [],
   "source": []
  },
  {
   "cell_type": "code",
   "execution_count": null,
   "metadata": {
    "collapsed": true
   },
   "outputs": [],
   "source": []
  },
  {
   "cell_type": "code",
   "execution_count": null,
   "metadata": {
    "collapsed": true
   },
   "outputs": [],
   "source": []
  },
  {
   "cell_type": "code",
   "execution_count": null,
   "metadata": {
    "collapsed": true
   },
   "outputs": [],
   "source": []
  },
  {
   "cell_type": "markdown",
   "metadata": {},
   "source": [
    "Autopsy of the `merge_date` creation on `df`."
   ]
  },
  {
   "cell_type": "code",
   "execution_count": null,
   "metadata": {
    "collapsed": true
   },
   "outputs": [],
   "source": [
    "# # Get just the month-year info from gdf.tourney_date, and ignore the rest.\\\n",
    "# # day is set to equal 1 in all cases: this is ok for my purposes (i think)\n",
    "\n",
    "# gdf['merge_date'] = gdf.tourney_date.astype(str).apply(lambda x: x[:7])\n",
    "# gdf.merge_date = gdf.merge_date.apply(lambda x: datetime.datetime.strptime(x, '%Y-%M').date())\n",
    "\n",
    "# # Do the same for df.date.\n",
    "\n",
    "# df['merge_date'] = df.date.astype(str).apply(lambda x: x[:7])\n",
    "# df.merge_date = df.merge_date.apply(lambda x: datetime.datetime.strptime(x, '%Y-%M').date())"
   ]
  },
  {
   "cell_type": "code",
   "execution_count": 48,
   "metadata": {
    "collapsed": true
   },
   "outputs": [],
   "source": [
    "test_df = pd.read_csv('t_odds.csv')\n",
    "test_df = test_df[['date', 'player_1_name', 'player_2_name', 'doubles',\n",
    "        'bet365_payout', 'bet365_player_1_odd', 'bet365_player_2_odd']].dropna()\n",
    "test_df = test_df.loc[test_df.doubles == 0]\n",
    "test_df.date = pd.to_datetime(test_df.date)\n",
    "test_df = test_df.loc[(test_df.date >= datetime.date(month=1, year=2016, day=1)) &\n",
    "            (test_df.date <= datetime.date(month=1, year=2017, day=1))]"
   ]
  },
  {
   "cell_type": "code",
   "execution_count": 49,
   "metadata": {},
   "outputs": [
    {
     "data": {
      "text/html": [
       "<div>\n",
       "<style>\n",
       "    .dataframe thead tr:only-child th {\n",
       "        text-align: right;\n",
       "    }\n",
       "\n",
       "    .dataframe thead th {\n",
       "        text-align: left;\n",
       "    }\n",
       "\n",
       "    .dataframe tbody tr th {\n",
       "        vertical-align: top;\n",
       "    }\n",
       "</style>\n",
       "<table border=\"1\" class=\"dataframe\">\n",
       "  <thead>\n",
       "    <tr style=\"text-align: right;\">\n",
       "      <th></th>\n",
       "      <th>date</th>\n",
       "      <th>player_1_name</th>\n",
       "      <th>player_2_name</th>\n",
       "      <th>doubles</th>\n",
       "      <th>bet365_payout</th>\n",
       "      <th>bet365_player_1_odd</th>\n",
       "      <th>bet365_player_2_odd</th>\n",
       "    </tr>\n",
       "  </thead>\n",
       "  <tbody>\n",
       "    <tr>\n",
       "      <th>8</th>\n",
       "      <td>2016-10-24 11:30:00</td>\n",
       "      <td>Saez-Royuela Ariza A.</td>\n",
       "      <td>Pokotilov B.</td>\n",
       "      <td>0.0</td>\n",
       "      <td>93.2</td>\n",
       "      <td>12.00</td>\n",
       "      <td>1.01</td>\n",
       "    </tr>\n",
       "    <tr>\n",
       "      <th>9</th>\n",
       "      <td>2016-09-15 13:10:00</td>\n",
       "      <td>Santillan A.</td>\n",
       "      <td>Giannessi A.</td>\n",
       "      <td>0.0</td>\n",
       "      <td>92.5</td>\n",
       "      <td>2.25</td>\n",
       "      <td>1.57</td>\n",
       "    </tr>\n",
       "    <tr>\n",
       "      <th>16</th>\n",
       "      <td>2016-09-21 12:30:00</td>\n",
       "      <td>De Greef A.</td>\n",
       "      <td>Andujar-Alba P.</td>\n",
       "      <td>0.0</td>\n",
       "      <td>93.0</td>\n",
       "      <td>2.37</td>\n",
       "      <td>1.53</td>\n",
       "    </tr>\n",
       "    <tr>\n",
       "      <th>30</th>\n",
       "      <td>2016-05-11 01:10:00</td>\n",
       "      <td>Abduraimova N.</td>\n",
       "      <td>Naydenova A.</td>\n",
       "      <td>0.0</td>\n",
       "      <td>93.0</td>\n",
       "      <td>1.53</td>\n",
       "      <td>2.37</td>\n",
       "    </tr>\n",
       "    <tr>\n",
       "      <th>34</th>\n",
       "      <td>2016-08-29 18:50:00</td>\n",
       "      <td>Mertens E.</td>\n",
       "      <td>Muguruza G.</td>\n",
       "      <td>0.0</td>\n",
       "      <td>95.9</td>\n",
       "      <td>11.00</td>\n",
       "      <td>1.05</td>\n",
       "    </tr>\n",
       "    <tr>\n",
       "      <th>35</th>\n",
       "      <td>2016-06-14 11:45:00</td>\n",
       "      <td>Viola M.</td>\n",
       "      <td>Ymer E.</td>\n",
       "      <td>0.0</td>\n",
       "      <td>93.7</td>\n",
       "      <td>3.50</td>\n",
       "      <td>1.28</td>\n",
       "    </tr>\n",
       "    <tr>\n",
       "      <th>36</th>\n",
       "      <td>2016-08-26 02:00:00</td>\n",
       "      <td>Opelka R.</td>\n",
       "      <td>Giraldo S.</td>\n",
       "      <td>0.0</td>\n",
       "      <td>92.7</td>\n",
       "      <td>2.10</td>\n",
       "      <td>1.66</td>\n",
       "    </tr>\n",
       "    <tr>\n",
       "      <th>44</th>\n",
       "      <td>2016-10-05 13:30:00</td>\n",
       "      <td>Wagner B.</td>\n",
       "      <td>Van Den Berg B.</td>\n",
       "      <td>0.0</td>\n",
       "      <td>92.2</td>\n",
       "      <td>1.16</td>\n",
       "      <td>4.50</td>\n",
       "    </tr>\n",
       "    <tr>\n",
       "      <th>56</th>\n",
       "      <td>2016-05-05 03:10:00</td>\n",
       "      <td>Wang Y.</td>\n",
       "      <td>Peng S.</td>\n",
       "      <td>0.0</td>\n",
       "      <td>92.7</td>\n",
       "      <td>2.10</td>\n",
       "      <td>1.66</td>\n",
       "    </tr>\n",
       "    <tr>\n",
       "      <th>68</th>\n",
       "      <td>2016-09-27 14:25:00</td>\n",
       "      <td>Struff J-L.</td>\n",
       "      <td>Medvedev D.</td>\n",
       "      <td>0.0</td>\n",
       "      <td>92.5</td>\n",
       "      <td>1.72</td>\n",
       "      <td>2.00</td>\n",
       "    </tr>\n",
       "  </tbody>\n",
       "</table>\n",
       "</div>"
      ],
      "text/plain": [
       "                  date          player_1_name    player_2_name  doubles  \\\n",
       "8  2016-10-24 11:30:00  Saez-Royuela Ariza A.     Pokotilov B.      0.0   \n",
       "9  2016-09-15 13:10:00           Santillan A.     Giannessi A.      0.0   \n",
       "16 2016-09-21 12:30:00            De Greef A.  Andujar-Alba P.      0.0   \n",
       "30 2016-05-11 01:10:00         Abduraimova N.     Naydenova A.      0.0   \n",
       "34 2016-08-29 18:50:00             Mertens E.      Muguruza G.      0.0   \n",
       "35 2016-06-14 11:45:00               Viola M.          Ymer E.      0.0   \n",
       "36 2016-08-26 02:00:00              Opelka R.       Giraldo S.      0.0   \n",
       "44 2016-10-05 13:30:00              Wagner B.  Van Den Berg B.      0.0   \n",
       "56 2016-05-05 03:10:00                Wang Y.          Peng S.      0.0   \n",
       "68 2016-09-27 14:25:00            Struff J-L.      Medvedev D.      0.0   \n",
       "\n",
       "    bet365_payout  bet365_player_1_odd  bet365_player_2_odd  \n",
       "8            93.2                12.00                 1.01  \n",
       "9            92.5                 2.25                 1.57  \n",
       "16           93.0                 2.37                 1.53  \n",
       "30           93.0                 1.53                 2.37  \n",
       "34           95.9                11.00                 1.05  \n",
       "35           93.7                 3.50                 1.28  \n",
       "36           92.7                 2.10                 1.66  \n",
       "44           92.2                 1.16                 4.50  \n",
       "56           92.7                 2.10                 1.66  \n",
       "68           92.5                 1.72                 2.00  "
      ]
     },
     "execution_count": 49,
     "metadata": {},
     "output_type": "execute_result"
    }
   ],
   "source": [
    "test_df = test_df.head(10)\n",
    "test_df"
   ]
  },
  {
   "cell_type": "code",
   "execution_count": 44,
   "metadata": {
    "collapsed": true
   },
   "outputs": [],
   "source": [
    "# test_df['merge_date'] = test_df.date.astype(str).apply(lambda x: x[:7])\n",
    "# test_df.merge_date = test_df.merge_date.apply(lambda x: datetime.datetime.strptime(x, '%Y-%M').date())"
   ]
  },
  {
   "cell_type": "code",
   "execution_count": 50,
   "metadata": {},
   "outputs": [
    {
     "data": {
      "text/html": [
       "<div>\n",
       "<style>\n",
       "    .dataframe thead tr:only-child th {\n",
       "        text-align: right;\n",
       "    }\n",
       "\n",
       "    .dataframe thead th {\n",
       "        text-align: left;\n",
       "    }\n",
       "\n",
       "    .dataframe tbody tr th {\n",
       "        vertical-align: top;\n",
       "    }\n",
       "</style>\n",
       "<table border=\"1\" class=\"dataframe\">\n",
       "  <thead>\n",
       "    <tr style=\"text-align: right;\">\n",
       "      <th></th>\n",
       "      <th>date</th>\n",
       "      <th>player_1_name</th>\n",
       "      <th>player_2_name</th>\n",
       "      <th>doubles</th>\n",
       "      <th>bet365_payout</th>\n",
       "      <th>bet365_player_1_odd</th>\n",
       "      <th>bet365_player_2_odd</th>\n",
       "      <th>merge_date</th>\n",
       "    </tr>\n",
       "  </thead>\n",
       "  <tbody>\n",
       "    <tr>\n",
       "      <th>8</th>\n",
       "      <td>2016-10-24 11:30:00</td>\n",
       "      <td>Saez-Royuela Ariza A.</td>\n",
       "      <td>Pokotilov B.</td>\n",
       "      <td>0.0</td>\n",
       "      <td>93.2</td>\n",
       "      <td>12.00</td>\n",
       "      <td>1.01</td>\n",
       "      <td>2016-10</td>\n",
       "    </tr>\n",
       "    <tr>\n",
       "      <th>9</th>\n",
       "      <td>2016-09-15 13:10:00</td>\n",
       "      <td>Santillan A.</td>\n",
       "      <td>Giannessi A.</td>\n",
       "      <td>0.0</td>\n",
       "      <td>92.5</td>\n",
       "      <td>2.25</td>\n",
       "      <td>1.57</td>\n",
       "      <td>2016-09</td>\n",
       "    </tr>\n",
       "    <tr>\n",
       "      <th>16</th>\n",
       "      <td>2016-09-21 12:30:00</td>\n",
       "      <td>De Greef A.</td>\n",
       "      <td>Andujar-Alba P.</td>\n",
       "      <td>0.0</td>\n",
       "      <td>93.0</td>\n",
       "      <td>2.37</td>\n",
       "      <td>1.53</td>\n",
       "      <td>2016-09</td>\n",
       "    </tr>\n",
       "    <tr>\n",
       "      <th>30</th>\n",
       "      <td>2016-05-11 01:10:00</td>\n",
       "      <td>Abduraimova N.</td>\n",
       "      <td>Naydenova A.</td>\n",
       "      <td>0.0</td>\n",
       "      <td>93.0</td>\n",
       "      <td>1.53</td>\n",
       "      <td>2.37</td>\n",
       "      <td>2016-05</td>\n",
       "    </tr>\n",
       "    <tr>\n",
       "      <th>34</th>\n",
       "      <td>2016-08-29 18:50:00</td>\n",
       "      <td>Mertens E.</td>\n",
       "      <td>Muguruza G.</td>\n",
       "      <td>0.0</td>\n",
       "      <td>95.9</td>\n",
       "      <td>11.00</td>\n",
       "      <td>1.05</td>\n",
       "      <td>2016-08</td>\n",
       "    </tr>\n",
       "    <tr>\n",
       "      <th>35</th>\n",
       "      <td>2016-06-14 11:45:00</td>\n",
       "      <td>Viola M.</td>\n",
       "      <td>Ymer E.</td>\n",
       "      <td>0.0</td>\n",
       "      <td>93.7</td>\n",
       "      <td>3.50</td>\n",
       "      <td>1.28</td>\n",
       "      <td>2016-06</td>\n",
       "    </tr>\n",
       "    <tr>\n",
       "      <th>36</th>\n",
       "      <td>2016-08-26 02:00:00</td>\n",
       "      <td>Opelka R.</td>\n",
       "      <td>Giraldo S.</td>\n",
       "      <td>0.0</td>\n",
       "      <td>92.7</td>\n",
       "      <td>2.10</td>\n",
       "      <td>1.66</td>\n",
       "      <td>2016-08</td>\n",
       "    </tr>\n",
       "    <tr>\n",
       "      <th>44</th>\n",
       "      <td>2016-10-05 13:30:00</td>\n",
       "      <td>Wagner B.</td>\n",
       "      <td>Van Den Berg B.</td>\n",
       "      <td>0.0</td>\n",
       "      <td>92.2</td>\n",
       "      <td>1.16</td>\n",
       "      <td>4.50</td>\n",
       "      <td>2016-10</td>\n",
       "    </tr>\n",
       "    <tr>\n",
       "      <th>56</th>\n",
       "      <td>2016-05-05 03:10:00</td>\n",
       "      <td>Wang Y.</td>\n",
       "      <td>Peng S.</td>\n",
       "      <td>0.0</td>\n",
       "      <td>92.7</td>\n",
       "      <td>2.10</td>\n",
       "      <td>1.66</td>\n",
       "      <td>2016-05</td>\n",
       "    </tr>\n",
       "    <tr>\n",
       "      <th>68</th>\n",
       "      <td>2016-09-27 14:25:00</td>\n",
       "      <td>Struff J-L.</td>\n",
       "      <td>Medvedev D.</td>\n",
       "      <td>0.0</td>\n",
       "      <td>92.5</td>\n",
       "      <td>1.72</td>\n",
       "      <td>2.00</td>\n",
       "      <td>2016-09</td>\n",
       "    </tr>\n",
       "  </tbody>\n",
       "</table>\n",
       "</div>"
      ],
      "text/plain": [
       "                  date          player_1_name    player_2_name  doubles  \\\n",
       "8  2016-10-24 11:30:00  Saez-Royuela Ariza A.     Pokotilov B.      0.0   \n",
       "9  2016-09-15 13:10:00           Santillan A.     Giannessi A.      0.0   \n",
       "16 2016-09-21 12:30:00            De Greef A.  Andujar-Alba P.      0.0   \n",
       "30 2016-05-11 01:10:00         Abduraimova N.     Naydenova A.      0.0   \n",
       "34 2016-08-29 18:50:00             Mertens E.      Muguruza G.      0.0   \n",
       "35 2016-06-14 11:45:00               Viola M.          Ymer E.      0.0   \n",
       "36 2016-08-26 02:00:00              Opelka R.       Giraldo S.      0.0   \n",
       "44 2016-10-05 13:30:00              Wagner B.  Van Den Berg B.      0.0   \n",
       "56 2016-05-05 03:10:00                Wang Y.          Peng S.      0.0   \n",
       "68 2016-09-27 14:25:00            Struff J-L.      Medvedev D.      0.0   \n",
       "\n",
       "    bet365_payout  bet365_player_1_odd  bet365_player_2_odd merge_date  \n",
       "8            93.2                12.00                 1.01    2016-10  \n",
       "9            92.5                 2.25                 1.57    2016-09  \n",
       "16           93.0                 2.37                 1.53    2016-09  \n",
       "30           93.0                 1.53                 2.37    2016-05  \n",
       "34           95.9                11.00                 1.05    2016-08  \n",
       "35           93.7                 3.50                 1.28    2016-06  \n",
       "36           92.7                 2.10                 1.66    2016-08  \n",
       "44           92.2                 1.16                 4.50    2016-10  \n",
       "56           92.7                 2.10                 1.66    2016-05  \n",
       "68           92.5                 1.72                 2.00    2016-09  "
      ]
     },
     "execution_count": 50,
     "metadata": {},
     "output_type": "execute_result"
    }
   ],
   "source": [
    "test_df['merge_date'] = test_df.date.astype(str).apply(lambda x: x[:7])\n",
    "test_df"
   ]
  },
  {
   "cell_type": "code",
   "execution_count": 57,
   "metadata": {},
   "outputs": [
    {
     "data": {
      "text/plain": [
       "8     2016-10-01\n",
       "9     2016-09-01\n",
       "16    2016-09-01\n",
       "30    2016-05-01\n",
       "34    2016-08-01\n",
       "35    2016-06-01\n",
       "36    2016-08-01\n",
       "44    2016-10-01\n",
       "56    2016-05-01\n",
       "68    2016-09-01\n",
       "Name: merge_date, dtype: object"
      ]
     },
     "execution_count": 57,
     "metadata": {},
     "output_type": "execute_result"
    }
   ],
   "source": [
    "test_df.merge_date.apply(lambda x: datetime.datetime.strptime(x, '%Y-%m').date())"
   ]
  },
  {
   "cell_type": "markdown",
   "metadata": {},
   "source": [
    "The problem was that I was using '%M' where I should have used '%m' to target the month with the .strptime() function. Looks like `gdf` has the same problem:"
   ]
  },
  {
   "cell_type": "code",
   "execution_count": 60,
   "metadata": {},
   "outputs": [
    {
     "data": {
      "text/plain": [
       "83636    2016-01-01\n",
       "83637    2016-01-01\n",
       "83638    2016-01-01\n",
       "83639    2016-01-01\n",
       "83640    2016-01-01\n",
       "Name: merge_date, dtype: object"
      ]
     },
     "execution_count": 60,
     "metadata": {},
     "output_type": "execute_result"
    }
   ],
   "source": [
    "gdf.merge_date.head()"
   ]
  },
  {
   "cell_type": "markdown",
   "metadata": {},
   "source": [
    "To fix this, I will copy this notebok and make the %m modification to the merge_date column creation."
   ]
  }
 ],
 "metadata": {
  "kernelspec": {
   "display_name": "Python 3",
   "language": "python",
   "name": "python3"
  },
  "language_info": {
   "codemirror_mode": {
    "name": "ipython",
    "version": 3
   },
   "file_extension": ".py",
   "mimetype": "text/x-python",
   "name": "python",
   "nbconvert_exporter": "python",
   "pygments_lexer": "ipython3",
   "version": "3.6.1"
  }
 },
 "nbformat": 4,
 "nbformat_minor": 2
}
