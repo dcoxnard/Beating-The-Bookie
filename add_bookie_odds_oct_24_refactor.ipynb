{
 "cells": [
  {
   "cell_type": "markdown",
   "metadata": {},
   "source": [
    "# Add Bookie Odds to `games_df`"
   ]
  },
  {
   "cell_type": "code",
   "execution_count": 1,
   "metadata": {
    "collapsed": true
   },
   "outputs": [],
   "source": [
    "import pandas as pd\n",
    "import numpy as np\n",
    "import datetime\n",
    "import matplotlib.pyplot as plt\n",
    "import pickle\n",
    "%matplotlib inline"
   ]
  },
  {
   "cell_type": "markdown",
   "metadata": {
    "collapsed": true
   },
   "source": [
    "This notebook creates a df, games_df, that is a merge of the game_df from the otehr notebook with the coresponding implied bookie odds for each game/row.  Bookie odds are averaged between all available bookie odds, 15 bookies in total."
   ]
  },
  {
   "cell_type": "markdown",
   "metadata": {},
   "source": [
    "## Create gdf"
   ]
  },
  {
   "cell_type": "code",
   "execution_count": 2,
   "metadata": {
    "collapsed": true
   },
   "outputs": [],
   "source": [
    "# Read the DataFrame constructed as game_df.\n",
    "\n",
    "gdf = pd.read_pickle('oct_23.pkl')"
   ]
  },
  {
   "cell_type": "code",
   "execution_count": 3,
   "metadata": {
    "collapsed": true
   },
   "outputs": [],
   "source": [
    "# Get just the rows from game_df in saeson 2016.\n",
    "\n",
    "gdf.tourney_date = pd.to_datetime(gdf.tourney_date)\n",
    "gdf = gdf.loc[(gdf.tourney_date >= datetime.date(month=1, year=2016, day=1)) & \n",
    "             (gdf.tourney_date <= datetime.date(month=1, year=2017, day=1))]"
   ]
  },
  {
   "cell_type": "code",
   "execution_count": 4,
   "metadata": {
    "collapsed": true
   },
   "outputs": [],
   "source": [
    "# Helper fxn.\n",
    "\n",
    "def convert_name(full_name):\n",
    "    \"\"\"\n",
    "    Convert First/Last name combo to Last Name, First Initial.\n",
    "    E.g. Roger Federer --> Federer R.\n",
    "    \"\"\"\n",
    "    x = full_name.split()\n",
    "    return x[1].title() + \" \" + x[0][0].upper() + \".\""
   ]
  },
  {
   "cell_type": "code",
   "execution_count": 5,
   "metadata": {
    "collapsed": true
   },
   "outputs": [],
   "source": [
    "# Now apply name conversion to all of gdf.\n",
    "\n",
    "gdf['player1_name'] = gdf.player1_name.apply(convert_name)\n",
    "gdf['player2_name'] = gdf.player2_name.apply(convert_name);"
   ]
  },
  {
   "cell_type": "code",
   "execution_count": 6,
   "metadata": {
    "collapsed": true
   },
   "outputs": [],
   "source": [
    "#### The case where player1 / player2 tuples DO match up.\n",
    "\n",
    "gdf['players_forward'] = gdf.player1_name + \",\" + gdf.player2_name\n",
    "gdf.players_forward = gdf.players_forward.apply(lambda x: x.split(','))\n",
    "gdf.players_forward = gdf.players_forward.apply(lambda x: tuple(x))"
   ]
  },
  {
   "cell_type": "code",
   "execution_count": 7,
   "metadata": {
    "collapsed": true
   },
   "outputs": [],
   "source": [
    "#### The case where player1 / player2 tuples DO NOT match up.\n",
    "\n",
    "gdf['players_backward'] = gdf.player1_name + \",\" + gdf.player2_name\n",
    "gdf.players_backward = gdf.players_backward.apply(lambda x: x.split(','))\n",
    "gdf.players_backward = gdf.players_backward.apply(lambda x: tuple(x))"
   ]
  },
  {
   "cell_type": "code",
   "execution_count": 8,
   "metadata": {
    "collapsed": true
   },
   "outputs": [],
   "source": [
    "gdf.rename(columns={'tourney_name': 'tournament_name'}, inplace=True)"
   ]
  },
  {
   "cell_type": "markdown",
   "metadata": {},
   "source": [
    "## Make df"
   ]
  },
  {
   "cell_type": "code",
   "execution_count": 9,
   "metadata": {
    "collapsed": true
   },
   "outputs": [],
   "source": [
    "# Read tennis odds from Kaggle Dataset\n",
    "\n",
    "df = pd.read_csv('t_odds.csv')"
   ]
  },
  {
   "cell_type": "code",
   "execution_count": 10,
   "metadata": {
    "collapsed": true
   },
   "outputs": [],
   "source": [
    "# Get just the betting odds from all bookies, for season 2016\n",
    "# Extension 1: fix 2017 data in games_df module to use 2017 as holdout\n",
    "\n",
    "df = df[df.tournament_name.str.contains(\"atp\")]\n",
    "df = df.loc[df.doubles == 0]\n",
    "df.date = pd.to_datetime(df.date)\n",
    "df = df.loc[(df.date >= datetime.date(month=1, year=2016, day=1)) &\n",
    "            (df.date <= datetime.date(month=1, year=2017, day=1))]"
   ]
  },
  {
   "cell_type": "code",
   "execution_count": 11,
   "metadata": {
    "collapsed": true
   },
   "outputs": [],
   "source": [
    "df = df.drop(['10bet_payout', '18bet_payout', '5dimes_payout', 'bet-at-home_payout',\n",
    "         'bet365_payout', 'bethard_payout', 'betolimp_payout', 'betrally_payout',\n",
    "         'bwin_payout', 'jetbull_payout', 'pinnacle_payout', 'marathonbet_payout',\n",
    "         'tempobet_payout', 'tonybet_payout', 'unibet_payout'], axis=1)"
   ]
  },
  {
   "cell_type": "code",
   "execution_count": 12,
   "metadata": {
    "collapsed": true
   },
   "outputs": [],
   "source": [
    "odds_columns = ['10bet_player_1_odd',\n",
    "       '10bet_player_2_odd', '18bet_player_1_odd',\n",
    "       '18bet_player_2_odd', '5dimes_player_1_odd',\n",
    "       '5dimes_player_2_odd', 'bet-at-home_player_1_odd',\n",
    "       'bet-at-home_player_2_odd', 'bet365_player_1_odd',\n",
    "       'bet365_player_2_odd', 'bethard_player_1_odd',\n",
    "       'bethard_player_2_odd', 'betolimp_player_1_odd',\n",
    "       'betolimp_player_2_odd', 'betrally_player_1_odd',\n",
    "       'betrally_player_2_odd', 'bwin_player_1_odd',\n",
    "       'bwin_player_2_odd', 'jetbull_player_1_odd',\n",
    "       'jetbull_player_2_odd',\n",
    "       'marathonbet_player_1_odd', 'marathonbet_player_2_odd',\n",
    "       'pinnacle_player_1_odd', 'pinnacle_player_2_odd',\n",
    "       'tempobet_player_1_odd', 'tempobet_player_2_odd',\n",
    "       'tonybet_player_1_odd', 'tonybet_player_2_odd',\n",
    "       'unibet_player_1_odd', 'unibet_player_2_odd']\n",
    "\n",
    "player1_odds_columns = ['10bet_player_1_odd', '18bet_player_1_odd', '5dimes_player_1_odd',\n",
    "'bet-at-home_player_1_odd', 'bet365_player_1_odd', 'bethard_player_1_odd',\n",
    "'betolimp_player_1_odd', 'betrally_player_1_odd', 'bwin_player_1_odd',\n",
    "'jetbull_player_1_odd', 'marathonbet_player_1_odd', 'pinnacle_player_1_odd',\n",
    "'tempobet_player_1_odd', 'tonybet_player_1_odd', 'unibet_player_1_odd']\n",
    "\n",
    "player2_odds_columns = ['10bet_player_2_odd', '18bet_player_2_odd', '5dimes_player_2_odd',\n",
    "'bet-at-home_player_2_odd', 'bet365_player_2_odd', 'bethard_player_2_odd',\n",
    "'betolimp_player_2_odd', 'betrally_player_2_odd', 'bwin_player_2_odd',\n",
    "'jetbull_player_2_odd', 'marathonbet_player_2_odd', 'pinnacle_player_2_odd',\n",
    "'tempobet_player_2_odd', 'tonybet_player_2_odd', 'unibet_player_2_odd']"
   ]
  },
  {
   "cell_type": "code",
   "execution_count": 13,
   "metadata": {
    "collapsed": true
   },
   "outputs": [],
   "source": [
    "# Helper fxn.\n",
    "\n",
    "def implied_probability(decimal_odds):\n",
    "    \"\"\"\n",
    "    Convert a player's decimal odds to implied probabilty.\n",
    "    \"\"\"\n",
    "    \n",
    "    return (1/decimal_odds)"
   ]
  },
  {
   "cell_type": "code",
   "execution_count": 14,
   "metadata": {
    "collapsed": true
   },
   "outputs": [],
   "source": [
    "# Convert to implied probability\n",
    "for odds_column in odds_columns:\n",
    "    df[odds_column] = df[odds_column].apply(implied_probability)"
   ]
  },
  {
   "cell_type": "code",
   "execution_count": 15,
   "metadata": {
    "collapsed": true
   },
   "outputs": [],
   "source": [
    "stds1 = []\n",
    "stds2 = []\n",
    "for i in range(len(df)):\n",
    "    stds1.append(df.iloc[i][player1_odds_columns].std())\n",
    "    stds2.append(df.iloc[i][player2_odds_columns].std())"
   ]
  },
  {
   "cell_type": "code",
   "execution_count": 16,
   "metadata": {},
   "outputs": [
    {
     "data": {
      "image/png": "[encoded data removed]",
      "text/plain": [
       "<matplotlib.figure.Figure at 0x113e95748>"
      ]
     },
     "metadata": {},
     "output_type": "display_data"
    }
   ],
   "source": [
    "# Quick diversion: How much do bookies' implied odds differ?\n",
    "# One plot for player1 odds, one for player2\n",
    "\n",
    "plt.title(\"Std Dev of Bookie odds for each match -- Player1\")\n",
    "plt.plot(stds1);"
   ]
  },
  {
   "cell_type": "code",
   "execution_count": 17,
   "metadata": {},
   "outputs": [
    {
     "data": {
      "image/png": "[encoded data removed]",
      "text/plain": [
       "<matplotlib.figure.Figure at 0x11aaccbe0>"
      ]
     },
     "metadata": {},
     "output_type": "display_data"
    }
   ],
   "source": [
    "plt.title(\"Std Dev of Bookie odds for each match -- Player2\")\n",
    "plt.plot(stds2);"
   ]
  },
  {
   "cell_type": "code",
   "execution_count": 18,
   "metadata": {
    "collapsed": true
   },
   "outputs": [],
   "source": [
    "# Compute avg implied probability and insert into columns.\n",
    "df['player1_avg_odds'] = df[player1_odds_columns].mean(axis=1)\n",
    "df['player2_avg_odds'] = df[player2_odds_columns].mean(axis=1)\n",
    "\n",
    "# Drop unneeded columns.\n",
    "df = df.drop(player1_odds_columns, axis=1)\n",
    "df = df.drop(player2_odds_columns, axis=1)"
   ]
  },
  {
   "cell_type": "code",
   "execution_count": 19,
   "metadata": {
    "collapsed": true
   },
   "outputs": [],
   "source": [
    "df['players_forward'] = df.player_1_name + \",\" + df.player_2_name\n",
    "df.players_forward = df.players_forward.apply(lambda x: x.split(','))\n",
    "df.players_forward = df.players_forward.apply(lambda x: tuple(x))"
   ]
  },
  {
   "cell_type": "code",
   "execution_count": 20,
   "metadata": {
    "collapsed": true
   },
   "outputs": [],
   "source": [
    "df['players_backward'] = df.player_2_name + \",\" + df.player_1_name\n",
    "df.players_backward = df.players_backward.apply(lambda x: x.split(','))\n",
    "df.players_backward = df.players_backward.apply(lambda x: tuple(x))"
   ]
  },
  {
   "cell_type": "code",
   "execution_count": 21,
   "metadata": {
    "collapsed": true
   },
   "outputs": [],
   "source": [
    "game_naming_convention = ['Acapulco',\n",
    " 'Antwerp',\n",
    " 'Atlanta',\n",
    " 'Auckland',\n",
    " 'Australian Open',\n",
    " 'Barcelona',\n",
    " 'Basel',\n",
    " 'Bastad',\n",
    " 'Beijing',\n",
    " 'Brisbane',\n",
    " 'Bucharest',\n",
    " 'Buenos Aires',\n",
    " 'Canada Masters',\n",
    " 'Chengdu',\n",
    " 'Chennai',\n",
    " 'Cincinnati Masters',\n",
    " 'Delray Beach',\n",
    " 'Doha',\n",
    " 'Dubai',\n",
    " 'Estoril',\n",
    " 'Geneva',\n",
    " 'Gstaad',\n",
    " 'Halle',\n",
    " 'Hamburg',\n",
    " 'Houston',\n",
    " 'Indian Wells Masters',\n",
    " 'Istanbul',\n",
    " 'Kitzbuhel',\n",
    " 'London',\n",
    " 'Los Cabos',\n",
    " 'Madrid Masters',\n",
    " 'Marrakech',\n",
    " 'Marseille',\n",
    " 'Memphis',\n",
    " 'Metz',\n",
    " 'Miami Masters',\n",
    " 'Monte Carlo Masters',\n",
    " 'Montpellier',\n",
    " 'Moscow',\n",
    " 'Munich',\n",
    " 'Newport',\n",
    " 'Nice',\n",
    " 'Nottingham',\n",
    " 'Olympics',\n",
    " 'Paris Masters',\n",
    " 'Quito',\n",
    " 'Rio de Janeiro',\n",
    " 'Roland Garros',\n",
    " 'Rome Masters',\n",
    " 'Rotterdam',\n",
    " 'Sao Paulo',\n",
    " 'Shanghai Masters',\n",
    " 'Shenzhen',\n",
    " 'Sofia',\n",
    " 'St.Petersburg',\n",
    " 'Stockholm',\n",
    " 'Stuttgart',\n",
    " 'Sydney',\n",
    " 'Tokyo',\n",
    " 'Umag',\n",
    " 'Us Open',\n",
    " 'Vienna',\n",
    " 'Washington',\n",
    " 'Wimbledon',\n",
    " 'Winston-Salem',\n",
    " 's-Hertogenbosch']"
   ]
  },
  {
   "cell_type": "code",
   "execution_count": 22,
   "metadata": {
    "collapsed": true
   },
   "outputs": [],
   "source": [
    "odds_naming_convention = ['atp-acapulco-2016',\n",
    " 'atp-antwerp',\n",
    " 'atp-atlanta-2016',\n",
    " 'atp-auckland-2016',\n",
    " '',\n",
    " '',\n",
    " 'atp-basel',\n",
    " 'atp-bastad-2016',\n",
    " 'atp-beijing',\n",
    " 'atp-brisbane-2016',\n",
    " 'atp-bucharest',\n",
    " 'atp-buenos-aires-2016',\n",
    " '',\n",
    " 'atp-chengdu',\n",
    " 'atp-chennai-2016',\n",
    " 'atp-cincinnati-2016',\n",
    " 'atp-delray-beach-2016',\n",
    " 'atp-doha-2016',\n",
    " 'atp-dubai-2016',\n",
    " 'atp-estoril-2016',\n",
    " 'atp-geneva-2016',\n",
    " 'atp-gstaad-2016',\n",
    " 'atp-halle-2016',\n",
    " 'atp-hamburg-2016',\n",
    " 'atp-houston-2016',\n",
    " '',\n",
    " 'atp-istanbul-2016',\n",
    " 'atp-kitzbuhel-2016',\n",
    " 'atp-london-2016',\n",
    " 'atp-los-cabos-2016',\n",
    " '',\n",
    " 'atp-marrakech-2016',\n",
    " 'atp-marseille-2016',\n",
    " 'atp-memphis-2016',\n",
    " 'atp-metz',\n",
    " '',\n",
    " '',\n",
    " 'atp-montpellier-2016',\n",
    " 'atp-moscow',\n",
    " 'atp-munich-2016',\n",
    " 'atp-newport-2016',\n",
    " 'atp-nice',\n",
    " 'atp-nottingham',\n",
    " 'atp-olympic-games',\n",
    " 'atp-paris',\n",
    " 'atp-quito-2016',\n",
    " 'atp-rio-de-janeiro-2016',\n",
    " '',\n",
    " '',\n",
    " 'atp-rotterdam-2016',\n",
    " 'atp-sao-paulo-2016',\n",
    " 'atp-shanghai',\n",
    " 'atp-shenzhen',\n",
    " 'atp-sofia-2016',\n",
    " 'atp-st-petersburg',\n",
    " 'atp-stockholm',\n",
    " 'atp-stuttgart-2016',\n",
    " 'atp-sydney-2016',\n",
    " 'atp-tokyo',\n",
    " 'atp-umag-2016',\n",
    " 'atp-us-open-2016',\n",
    " 'atp-vienna',\n",
    " '',\n",
    " '',\n",
    " 'atp-winston-salem-2016',\n",
    " 'atp-hertogenbosch-2016']"
   ]
  },
  {
   "cell_type": "code",
   "execution_count": 23,
   "metadata": {
    "collapsed": true
   },
   "outputs": [],
   "source": [
    "name_map = dict(zip(odds_naming_convention, game_naming_convention))"
   ]
  },
  {
   "cell_type": "code",
   "execution_count": 24,
   "metadata": {
    "collapsed": true
   },
   "outputs": [],
   "source": [
    "def convert_tourney_name(name):\n",
    "    new_name = name_map.get(name, '')\n",
    "    return new_name"
   ]
  },
  {
   "cell_type": "code",
   "execution_count": 25,
   "metadata": {
    "collapsed": true
   },
   "outputs": [],
   "source": [
    "df.tournament_name = df.tournament_name.apply(convert_tourney_name)"
   ]
  },
  {
   "cell_type": "markdown",
   "metadata": {},
   "source": [
    "## Create `games_df`"
   ]
  },
  {
   "cell_type": "code",
   "execution_count": 26,
   "metadata": {
    "collapsed": true
   },
   "outputs": [],
   "source": [
    "# Create merged DataFrames.\n",
    "\n",
    "forward_match = gdf.merge(df, on=['tournament_name', 'players_forward'])\n",
    "backward_match = gdf.merge(df, on=['tournament_name', 'players_backward'])"
   ]
  },
  {
   "cell_type": "code",
   "execution_count": 27,
   "metadata": {
    "collapsed": true
   },
   "outputs": [],
   "source": [
    "# Switch the p1 and p2 probabilities in backward_match, to correct for the misordering.\n",
    "\n",
    "actual_p1_prob = backward_match.player2_avg_odds.copy(deep=True)\n",
    "actual_p2_prob = backward_match.player1_avg_odds.copy(deep=True)\n",
    "backward_match.player1_avg_odds = actual_p1_prob\n",
    "backward_match.player2_avg_odds = actual_p2_prob"
   ]
  },
  {
   "cell_type": "code",
   "execution_count": 28,
   "metadata": {
    "collapsed": true
   },
   "outputs": [],
   "source": [
    "# DataFrames ready to concat and reorder based on tourney_date.\n",
    "\n",
    "games_df = pd.concat([forward_match, backward_match])"
   ]
  },
  {
   "cell_type": "code",
   "execution_count": 29,
   "metadata": {
    "collapsed": true
   },
   "outputs": [],
   "source": [
    "### May need to add more stats columns -- don't remember off the top if my head what exactly went into games_df before.\n",
    "\n",
    "game = ['game_index', 'label', 'player1_avg_odds', 'player2_avg_odds', 'tourney_date']\n",
    "\n",
    "deltas = ['delta_1stIn_expw', 'delta_1stIn_mavg', 'delta_1stWon_expw',\n",
    "'delta_1stWon_mavg', 'delta_2ndWon_expw', 'delta_2ndWon_mavg',\n",
    "'delta_SvGms_expw', 'delta_SvGms_mavg', 'delta_ace_expw',\n",
    "'delta_ace_mavg', 'delta_age', 'delta_bpFaced_expw', 'delta_bpFaced_mavg',\n",
    "'delta_bpSaved_expw', 'delta_bpSaved_mavg', 'delta_df_expw',\n",
    "'delta_df_mavg', 'delta_ht', 'delta_rank', 'delta_rank_points',\n",
    "'delta_svpt_expw', 'delta_svpt_mavg']\n",
    "\n",
    "cols = game + deltas\n",
    "games_df = games_df[cols]\n",
    "games_df = games_df.sort_values('game_index')"
   ]
  },
  {
   "cell_type": "code",
   "execution_count": 30,
   "metadata": {
    "scrolled": false
   },
   "outputs": [
    {
     "data": {
      "text/plain": [
       "(1089, 27)"
      ]
     },
     "execution_count": 30,
     "metadata": {},
     "output_type": "execute_result"
    }
   ],
   "source": [
    "# Final Product: Games DF, with player1 and play2 implied probabilties avgd across all bookies.\n",
    "\n",
    "games_df.shape"
   ]
  },
  {
   "cell_type": "code",
   "execution_count": 31,
   "metadata": {
    "collapsed": true
   },
   "outputs": [],
   "source": [
    "# filename = 'oct_23_game_and_odds.pkl'\n",
    "# with open(filename, 'wb') as f_obj:\n",
    "#     pickle.dump(games_df, f_obj)"
   ]
  },
  {
   "cell_type": "code",
   "execution_count": null,
   "metadata": {
    "collapsed": true
   },
   "outputs": [],
   "source": []
  }
 ],
 "metadata": {
  "kernelspec": {
   "display_name": "Python 3",
   "language": "python",
   "name": "python3"
  },
  "language_info": {
   "codemirror_mode": {
    "name": "ipython",
    "version": 3
   },
   "file_extension": ".py",
   "mimetype": "text/x-python",
   "name": "python",
   "nbconvert_exporter": "python",
   "pygments_lexer": "ipython3",
   "version": "3.6.1"
  }
 },
 "nbformat": 4,
 "nbformat_minor": 2
}
