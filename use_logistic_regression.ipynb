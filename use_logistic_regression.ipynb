{
 "cells": [
  {
   "cell_type": "markdown",
   "metadata": {},
   "source": [
    "# Use Logistic Regression\n",
    "\n"
   ]
  },
  {
   "cell_type": "code",
   "execution_count": 1,
   "metadata": {
    "collapsed": true
   },
   "outputs": [],
   "source": [
    "import pickle\n",
    "import pandas as pd\n",
    "import numpy as np\n",
    "import matplotlib.pyplot as plt\n",
    "from sklearn.linear_model import LogisticRegression\n",
    "import datetime\n",
    "%matplotlib inline"
   ]
  },
  {
   "cell_type": "markdown",
   "metadata": {},
   "source": [
    "## Create Training Data"
   ]
  },
  {
   "cell_type": "code",
   "execution_count": 2,
   "metadata": {
    "collapsed": true
   },
   "outputs": [],
   "source": [
    "pd.set_option('display.max_columns', 100)"
   ]
  },
  {
   "cell_type": "code",
   "execution_count": 3,
   "metadata": {
    "collapsed": true
   },
   "outputs": [],
   "source": [
    "# Read picklefile\n",
    "\n",
    "picklefile = 'oct_23.pkl'\n",
    "df = pd.read_pickle(picklefile)"
   ]
  },
  {
   "cell_type": "code",
   "execution_count": 4,
   "metadata": {},
   "outputs": [],
   "source": [
    "# Select columns of intrest from the DataFrame\n",
    "# Cutting out all non-delta, non-expw columns\n",
    "# with this call.\n",
    "# May want to revise later to give option to use.\n",
    "# Taking delta_ht out too because it results in too\n",
    "# many NaNs.\n",
    "\n",
    "df = df[['label', 'tourney_date', 'delta_age',\n",
    "                    'delta_rank', 'delta_rank_points',\n",
    "                    'delta_ace_expw', 'delta_df_expw',\n",
    "                    'delta_svpt_expw', 'delta_1stIn_expw',\n",
    "                    'delta_1stWon_expw', 'delta_2ndWon_expw',\n",
    "                    'delta_SvGms_expw', 'delta_bpSaved_expw',\n",
    "                    'delta_bpFaced_expw']].dropna()"
   ]
  },
  {
   "cell_type": "code",
   "execution_count": 5,
   "metadata": {},
   "outputs": [],
   "source": [
    "df = df[df.tourney_date < datetime.date(2016,1,1)]"
   ]
  },
  {
   "cell_type": "code",
   "execution_count": 6,
   "metadata": {},
   "outputs": [
    {
     "name": "stdout",
     "output_type": "stream",
     "text": [
      "<class 'pandas.core.frame.DataFrame'>\n",
      "Int64Index: 70155 entries, 3 to 83307\n",
      "Data columns (total 14 columns):\n",
      "label                 70155 non-null int64\n",
      "tourney_date          70155 non-null datetime64[ns]\n",
      "delta_age             70155 non-null float64\n",
      "delta_rank            70155 non-null float64\n",
      "delta_rank_points     70155 non-null float64\n",
      "delta_ace_expw        70155 non-null float64\n",
      "delta_df_expw         70155 non-null float64\n",
      "delta_svpt_expw       70155 non-null float64\n",
      "delta_1stIn_expw      70155 non-null float64\n",
      "delta_1stWon_expw     70155 non-null float64\n",
      "delta_2ndWon_expw     70155 non-null float64\n",
      "delta_SvGms_expw      70155 non-null float64\n",
      "delta_bpSaved_expw    70155 non-null float64\n",
      "delta_bpFaced_expw    70155 non-null float64\n",
      "dtypes: datetime64[ns](1), float64(12), int64(1)\n",
      "memory usage: 8.0 MB\n"
     ]
    }
   ],
   "source": [
    "df.info()"
   ]
  },
  {
   "cell_type": "markdown",
   "metadata": {},
   "source": [
    "## Create Holdout Data"
   ]
  },
  {
   "cell_type": "code",
   "execution_count": 7,
   "metadata": {},
   "outputs": [],
   "source": [
    "picklefile = 'oct_23_game_and_odds.pkl'\n",
    "holdout = pd.read_pickle(picklefile)\n",
    "holdout = holdout.drop('delta_ht', axis=1)\n",
    "holdout = holdout.dropna()"
   ]
  },
  {
   "cell_type": "markdown",
   "metadata": {},
   "source": [
    "## Train the Model"
   ]
  },
  {
   "cell_type": "code",
   "execution_count": 8,
   "metadata": {
    "collapsed": true
   },
   "outputs": [],
   "source": [
    "# Split DF into features, response.\n",
    "\n",
    "Xcols = ['delta_age', 'delta_rank',\n",
    "         'delta_rank_points', 'delta_ace_expw',\n",
    "         'delta_df_expw', 'delta_svpt_expw',\n",
    "         'delta_1stIn_expw', 'delta_1stWon_expw',\n",
    "         'delta_2ndWon_expw', 'delta_SvGms_expw',\n",
    "         'delta_bpSaved_expw', 'delta_bpFaced_expw']\n",
    "\n",
    "ycols = 'label'\n",
    "\n",
    "X_train = df[Xcols]\n",
    "y_train = df[ycols]"
   ]
  },
  {
   "cell_type": "code",
   "execution_count": 9,
   "metadata": {
    "collapsed": true
   },
   "outputs": [],
   "source": [
    "X_test = holdout[Xcols]\n",
    "y_test = holdout[ycols]"
   ]
  },
  {
   "cell_type": "code",
   "execution_count": 10,
   "metadata": {},
   "outputs": [],
   "source": [
    "lr = LogisticRegression()\n",
    "lr.fit(X_train, y_train);"
   ]
  },
  {
   "cell_type": "code",
   "execution_count": 11,
   "metadata": {},
   "outputs": [
    {
     "data": {
      "text/plain": [
       "0.61334745762711862"
      ]
     },
     "execution_count": 11,
     "metadata": {},
     "output_type": "execute_result"
    }
   ],
   "source": [
    "# Predicts 61.6% of games correctly.  Not bad!\n",
    "\n",
    "lr.score(X_test, y_test)"
   ]
  },
  {
   "cell_type": "markdown",
   "metadata": {},
   "source": [
    "## Run Simulation"
   ]
  },
  {
   "cell_type": "code",
   "execution_count": 12,
   "metadata": {},
   "outputs": [
    {
     "data": {
      "text/plain": [
       "944"
      ]
     },
     "execution_count": 12,
     "metadata": {},
     "output_type": "execute_result"
    }
   ],
   "source": [
    "# i[1] is the predicted probability of result 1: player1 winning.\n",
    "\n",
    "player1_probs = []\n",
    "y_prob = lr.predict_proba(X_test)\n",
    "for i in y_prob:\n",
    "    player1_probs.append((i[1]))\n",
    "len(player1_probs)"
   ]
  },
  {
   "cell_type": "code",
   "execution_count": 13,
   "metadata": {},
   "outputs": [
    {
     "data": {
      "text/plain": [
       "944"
      ]
     },
     "execution_count": 13,
     "metadata": {},
     "output_type": "execute_result"
    }
   ],
   "source": [
    "player2_probs = []\n",
    "y_prob = lr.predict_proba(X_test)\n",
    "for i in y_prob:\n",
    "    player2_probs.append((i[0]))\n",
    "len(player2_probs)"
   ]
  },
  {
   "cell_type": "code",
   "execution_count": 14,
   "metadata": {
    "collapsed": true
   },
   "outputs": [],
   "source": [
    "betting = pd.DataFrame(list(zip(player1_probs, player2_probs, holdout.player1_avg_odds, holdout.player2_avg_odds, y_test)),\n",
    "                       columns=['model_odds1', 'model_odds2', 'bookie_odds1', 'bookie_odds2', 'result'])"
   ]
  },
  {
   "cell_type": "code",
   "execution_count": 15,
   "metadata": {},
   "outputs": [],
   "source": [
    "betting['difference1'] = betting.model_odds1 - betting.bookie_odds1\n",
    "betting['difference2'] = betting.model_odds2 - betting.bookie_odds2"
   ]
  },
  {
   "cell_type": "code",
   "execution_count": 16,
   "metadata": {},
   "outputs": [
    {
     "data": {
      "text/html": [
       "<div>\n",
       "<style>\n",
       "    .dataframe thead tr:only-child th {\n",
       "        text-align: right;\n",
       "    }\n",
       "\n",
       "    .dataframe thead th {\n",
       "        text-align: left;\n",
       "    }\n",
       "\n",
       "    .dataframe tbody tr th {\n",
       "        vertical-align: top;\n",
       "    }\n",
       "</style>\n",
       "<table border=\"1\" class=\"dataframe\">\n",
       "  <thead>\n",
       "    <tr style=\"text-align: right;\">\n",
       "      <th></th>\n",
       "      <th>model_odds1</th>\n",
       "      <th>model_odds2</th>\n",
       "      <th>bookie_odds1</th>\n",
       "      <th>bookie_odds2</th>\n",
       "      <th>result</th>\n",
       "      <th>difference1</th>\n",
       "      <th>difference2</th>\n",
       "    </tr>\n",
       "  </thead>\n",
       "  <tbody>\n",
       "    <tr>\n",
       "      <th>0</th>\n",
       "      <td>0.920428</td>\n",
       "      <td>0.079572</td>\n",
       "      <td>0.796826</td>\n",
       "      <td>0.248631</td>\n",
       "      <td>0</td>\n",
       "      <td>0.123601</td>\n",
       "      <td>-0.169059</td>\n",
       "    </tr>\n",
       "    <tr>\n",
       "      <th>1</th>\n",
       "      <td>0.979911</td>\n",
       "      <td>0.020089</td>\n",
       "      <td>0.906112</td>\n",
       "      <td>0.141230</td>\n",
       "      <td>1</td>\n",
       "      <td>0.073799</td>\n",
       "      <td>-0.121142</td>\n",
       "    </tr>\n",
       "    <tr>\n",
       "      <th>2</th>\n",
       "      <td>0.786850</td>\n",
       "      <td>0.213150</td>\n",
       "      <td>0.668209</td>\n",
       "      <td>0.379469</td>\n",
       "      <td>1</td>\n",
       "      <td>0.118640</td>\n",
       "      <td>-0.166319</td>\n",
       "    </tr>\n",
       "    <tr>\n",
       "      <th>3</th>\n",
       "      <td>0.954960</td>\n",
       "      <td>0.045040</td>\n",
       "      <td>0.841296</td>\n",
       "      <td>0.203554</td>\n",
       "      <td>1</td>\n",
       "      <td>0.113664</td>\n",
       "      <td>-0.158514</td>\n",
       "    </tr>\n",
       "    <tr>\n",
       "      <th>4</th>\n",
       "      <td>0.844515</td>\n",
       "      <td>0.155485</td>\n",
       "      <td>0.847144</td>\n",
       "      <td>0.203377</td>\n",
       "      <td>1</td>\n",
       "      <td>-0.002629</td>\n",
       "      <td>-0.047892</td>\n",
       "    </tr>\n",
       "  </tbody>\n",
       "</table>\n",
       "</div>"
      ],
      "text/plain": [
       "   model_odds1  model_odds2  bookie_odds1  bookie_odds2  result  difference1  \\\n",
       "0     0.920428     0.079572      0.796826      0.248631       0     0.123601   \n",
       "1     0.979911     0.020089      0.906112      0.141230       1     0.073799   \n",
       "2     0.786850     0.213150      0.668209      0.379469       1     0.118640   \n",
       "3     0.954960     0.045040      0.841296      0.203554       1     0.113664   \n",
       "4     0.844515     0.155485      0.847144      0.203377       1    -0.002629   \n",
       "\n",
       "   difference2  \n",
       "0    -0.169059  \n",
       "1    -0.121142  \n",
       "2    -0.166319  \n",
       "3    -0.158514  \n",
       "4    -0.047892  "
      ]
     },
     "execution_count": 16,
     "metadata": {},
     "output_type": "execute_result"
    }
   ],
   "source": [
    "betting.head()"
   ]
  },
  {
   "cell_type": "code",
   "execution_count": 18,
   "metadata": {},
   "outputs": [
    {
     "data": {
      "image/png": "[encoded data removed]",
      "text/plain": [
       "<matplotlib.figure.Figure at 0x10b9996d8>"
      ]
     },
     "metadata": {},
     "output_type": "display_data"
    }
   ],
   "source": [
    "betting.difference1.plot(kind='box');"
   ]
  },
  {
   "cell_type": "code",
   "execution_count": 19,
   "metadata": {},
   "outputs": [],
   "source": [
    "purse = 100\n",
    "betting_fraction = .01\n",
    "full_track = []\n",
    "track = []\n",
    "\n",
    "for i in range(len(betting)):\n",
    "    winnings = 0\n",
    "    bet = 0\n",
    "    \n",
    "    if betting.difference1[i] > 0:\n",
    "        # Betting on player 1\n",
    "        bet = purse * betting_fraction\n",
    "        if betting.result[i] == 1:\n",
    "            winnings = bet * (1 / (betting.bookie_odds1[i]))\n",
    "            purse += winnings\n",
    "        else:\n",
    "            winnings = -bet\n",
    "            purse += winnings\n",
    "            \n",
    "    if betting.difference2[i] > 0:\n",
    "        # Betting on player 2\n",
    "        bet = purse * betting_fraction\n",
    "        if betting.result[i] == 0:\n",
    "            winnings = bet * (1 / (betting.bookie_odds2[i]))\n",
    "            purse += winnings\n",
    "        else:\n",
    "            winnings = -bet\n",
    "            purse += winnings\n",
    "    \n",
    "    full_track.append((purse, bet, winnings))\n",
    "    track.append(purse)"
   ]
  },
  {
   "cell_type": "code",
   "execution_count": 40,
   "metadata": {},
   "outputs": [
    {
     "data": {
      "text/html": [
       "<div>\n",
       "<style>\n",
       "    .dataframe thead tr:only-child th {\n",
       "        text-align: right;\n",
       "    }\n",
       "\n",
       "    .dataframe thead th {\n",
       "        text-align: left;\n",
       "    }\n",
       "\n",
       "    .dataframe tbody tr th {\n",
       "        vertical-align: top;\n",
       "    }\n",
       "</style>\n",
       "<table border=\"1\" class=\"dataframe\">\n",
       "  <thead>\n",
       "    <tr style=\"text-align: right;\">\n",
       "      <th></th>\n",
       "      <th>model_odds1</th>\n",
       "      <th>model_odds2</th>\n",
       "      <th>bookie_odds1</th>\n",
       "      <th>bookie_odds2</th>\n",
       "      <th>result</th>\n",
       "      <th>difference1</th>\n",
       "      <th>difference2</th>\n",
       "    </tr>\n",
       "  </thead>\n",
       "  <tbody>\n",
       "    <tr>\n",
       "      <th>934</th>\n",
       "      <td>0.495942</td>\n",
       "      <td>0.504058</td>\n",
       "      <td>0.551920</td>\n",
       "      <td>0.502202</td>\n",
       "      <td>1</td>\n",
       "      <td>-0.055978</td>\n",
       "      <td>0.001856</td>\n",
       "    </tr>\n",
       "    <tr>\n",
       "      <th>935</th>\n",
       "      <td>0.118194</td>\n",
       "      <td>0.881806</td>\n",
       "      <td>0.429306</td>\n",
       "      <td>0.623166</td>\n",
       "      <td>0</td>\n",
       "      <td>-0.311112</td>\n",
       "      <td>0.258640</td>\n",
       "    </tr>\n",
       "    <tr>\n",
       "      <th>936</th>\n",
       "      <td>0.582398</td>\n",
       "      <td>0.417602</td>\n",
       "      <td>0.778441</td>\n",
       "      <td>0.273349</td>\n",
       "      <td>1</td>\n",
       "      <td>-0.196043</td>\n",
       "      <td>0.144253</td>\n",
       "    </tr>\n",
       "    <tr>\n",
       "      <th>937</th>\n",
       "      <td>0.485103</td>\n",
       "      <td>0.514897</td>\n",
       "      <td>0.345797</td>\n",
       "      <td>0.707664</td>\n",
       "      <td>1</td>\n",
       "      <td>0.139306</td>\n",
       "      <td>-0.192768</td>\n",
       "    </tr>\n",
       "    <tr>\n",
       "      <th>938</th>\n",
       "      <td>0.487046</td>\n",
       "      <td>0.512954</td>\n",
       "      <td>0.550031</td>\n",
       "      <td>0.503478</td>\n",
       "      <td>1</td>\n",
       "      <td>-0.062985</td>\n",
       "      <td>0.009475</td>\n",
       "    </tr>\n",
       "    <tr>\n",
       "      <th>939</th>\n",
       "      <td>0.431096</td>\n",
       "      <td>0.568904</td>\n",
       "      <td>0.477507</td>\n",
       "      <td>0.576381</td>\n",
       "      <td>1</td>\n",
       "      <td>-0.046411</td>\n",
       "      <td>-0.007478</td>\n",
       "    </tr>\n",
       "    <tr>\n",
       "      <th>940</th>\n",
       "      <td>0.616011</td>\n",
       "      <td>0.383989</td>\n",
       "      <td>0.473282</td>\n",
       "      <td>0.580193</td>\n",
       "      <td>0</td>\n",
       "      <td>0.142729</td>\n",
       "      <td>-0.196204</td>\n",
       "    </tr>\n",
       "    <tr>\n",
       "      <th>941</th>\n",
       "      <td>0.869739</td>\n",
       "      <td>0.130261</td>\n",
       "      <td>0.869142</td>\n",
       "      <td>0.183348</td>\n",
       "      <td>0</td>\n",
       "      <td>0.000597</td>\n",
       "      <td>-0.053087</td>\n",
       "    </tr>\n",
       "    <tr>\n",
       "      <th>942</th>\n",
       "      <td>0.179564</td>\n",
       "      <td>0.820436</td>\n",
       "      <td>0.296568</td>\n",
       "      <td>0.749143</td>\n",
       "      <td>0</td>\n",
       "      <td>-0.117004</td>\n",
       "      <td>0.071294</td>\n",
       "    </tr>\n",
       "    <tr>\n",
       "      <th>943</th>\n",
       "      <td>0.110009</td>\n",
       "      <td>0.889991</td>\n",
       "      <td>0.191576</td>\n",
       "      <td>0.858815</td>\n",
       "      <td>0</td>\n",
       "      <td>-0.081566</td>\n",
       "      <td>0.031176</td>\n",
       "    </tr>\n",
       "  </tbody>\n",
       "</table>\n",
       "</div>"
      ],
      "text/plain": [
       "     model_odds1  model_odds2  bookie_odds1  bookie_odds2  result  \\\n",
       "934     0.495942     0.504058      0.551920      0.502202       1   \n",
       "935     0.118194     0.881806      0.429306      0.623166       0   \n",
       "936     0.582398     0.417602      0.778441      0.273349       1   \n",
       "937     0.485103     0.514897      0.345797      0.707664       1   \n",
       "938     0.487046     0.512954      0.550031      0.503478       1   \n",
       "939     0.431096     0.568904      0.477507      0.576381       1   \n",
       "940     0.616011     0.383989      0.473282      0.580193       0   \n",
       "941     0.869739     0.130261      0.869142      0.183348       0   \n",
       "942     0.179564     0.820436      0.296568      0.749143       0   \n",
       "943     0.110009     0.889991      0.191576      0.858815       0   \n",
       "\n",
       "     difference1  difference2  \n",
       "934    -0.055978     0.001856  \n",
       "935    -0.311112     0.258640  \n",
       "936    -0.196043     0.144253  \n",
       "937     0.139306    -0.192768  \n",
       "938    -0.062985     0.009475  \n",
       "939    -0.046411    -0.007478  \n",
       "940     0.142729    -0.196204  \n",
       "941     0.000597    -0.053087  \n",
       "942    -0.117004     0.071294  \n",
       "943    -0.081566     0.031176  "
      ]
     },
     "execution_count": 40,
     "metadata": {},
     "output_type": "execute_result"
    }
   ],
   "source": [
    "betting.tail(10)"
   ]
  },
  {
   "cell_type": "code",
   "execution_count": 44,
   "metadata": {},
   "outputs": [
    {
     "data": {
      "text/plain": [
       "[(1445.2680474772046, 14.598667146234391, -14.598667146234391),\n",
       " (1468.4603939298875, 14.452680474772047, 23.192346452682813),\n",
       " (1453.7757899905887, 14.684603939298874, -14.684603939298874),\n",
       " (1495.81712357477, 14.537757899905888, 42.041333584181267),\n",
       " (1480.8589523390224, 14.958171235747701, -14.958171235747701),\n",
       " (1480.8589523390224, 0, 0),\n",
       " (1466.0503628156321, 14.808589523390225, -14.808589523390225),\n",
       " (1451.3898591874758, 14.66050362815632, -14.66050362815632),\n",
       " (1470.7638749241573, 14.513898591874758, 19.374015736681574),\n",
       " (1487.8893842482446, 14.707638749241573, 17.125509324087364)]"
      ]
     },
     "execution_count": 44,
     "metadata": {},
     "output_type": "execute_result"
    }
   ],
   "source": [
    "full_track[-10:]"
   ]
  },
  {
   "cell_type": "code",
   "execution_count": 43,
   "metadata": {
    "scrolled": false
   },
   "outputs": [
    {
     "data": {
      "text/plain": [
       "[1445.2680474772046,\n",
       " 1468.4603939298875,\n",
       " 1453.7757899905887,\n",
       " 1495.81712357477,\n",
       " 1480.8589523390224,\n",
       " 1480.8589523390224,\n",
       " 1466.0503628156321,\n",
       " 1451.3898591874758,\n",
       " 1470.7638749241573,\n",
       " 1487.8893842482446]"
      ]
     },
     "execution_count": 43,
     "metadata": {},
     "output_type": "execute_result"
    }
   ],
   "source": [
    "track[-10:]"
   ]
  },
  {
   "cell_type": "code",
   "execution_count": 39,
   "metadata": {},
   "outputs": [
    {
     "data": {
      "image/png": "[encoded data removed]",
      "text/plain": [
       "<matplotlib.figure.Figure at 0x10b602b70>"
      ]
     },
     "metadata": {},
     "output_type": "display_data"
    }
   ],
   "source": [
    "plt.figure(figsize=(20,8))\n",
    "plt.title(\"Simulation: 2016 with Logistic Regression Model\", fontsize=24, color='#085213')\n",
    "plt.xlabel(\"2016 ATP World Tour (Match Number)\", fontsize=22, color='#085213')\n",
    "plt.ylabel(\"$\", fontsize=22, color='#085213')\n",
    "plt.xticks(fontsize=18, color='#085213')\n",
    "plt.yticks(fontsize=18, color='#085213')\n",
    "plt.plot(track, color='#085213');"
   ]
  },
  {
   "cell_type": "code",
   "execution_count": null,
   "metadata": {
    "collapsed": true
   },
   "outputs": [],
   "source": []
  }
 ],
 "metadata": {
  "kernelspec": {
   "display_name": "Python 3",
   "language": "python",
   "name": "python3"
  },
  "language_info": {
   "codemirror_mode": {
    "name": "ipython",
    "version": 3
   },
   "file_extension": ".py",
   "mimetype": "text/x-python",
   "name": "python",
   "nbconvert_exporter": "python",
   "pygments_lexer": "ipython3",
   "version": "3.6.1"
  }
 },
 "nbformat": 4,
 "nbformat_minor": 2
}
